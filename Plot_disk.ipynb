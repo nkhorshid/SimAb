{
 "cells": [
  {
   "cell_type": "code",
   "execution_count": 1,
   "metadata": {},
   "outputs": [],
   "source": [
    "import numpy as np\n",
    "import matplotlib.pyplot as plt\n",
    "import variable as var\n",
    "from disk import Disk\n",
    "from chem import Chem\n",
    "import matplotlib.pylab as pylab\n",
    "import matplotlib.axes as ax\n",
    "\n",
    "from scipy.stats import spearmanr\n",
    "%matplotlib qt\n",
    "dsk = Disk()\n",
    "chm = Chem()\n",
    "font = {'family' : 'normal',\n",
    "        'weight' : 'bold',\n",
    "        'size'   : 40}\n",
    "\n",
    "pylab.rc('font', **font)"
   ]
  },
  {
   "cell_type": "markdown",
   "metadata": {},
   "source": [
    "# Set the values"
   ]
  },
  {
   "cell_type": "code",
   "execution_count": 2,
   "metadata": {},
   "outputs": [
    {
     "name": "stdout",
     "output_type": "stream",
     "text": [
      "[ 0.24790943  0.25681085  0.32614839  0.34128238  0.35780877  0.50062951\n",
      "  0.67447689  0.81204281  0.90275687  3.62750936 12.48935045 32.27286169] \n",
      " [1600. 1550. 1250. 1200. 1150.  850.  650.  550.  500.  143.   47.   20.] \n",
      " [0.         0.00010307 0.00022804 0.00394425 0.00394425 0.0039924\n",
      " 0.00432644 0.00432644 0.00469019 0.0052109  0.00840513 0.01147362]\n",
      "\n",
      " [  0.24790943   0.25681085   0.32614839   0.34128238   0.35780877\n",
      "   0.50062951   0.67447689   0.81204281   0.90275687   3.62750936\n",
      "  12.48935045  32.27286169 100.        ] \n",
      " [1600.         1550.         1250.         1200.         1150.\n",
      "  850.          650.          550.          500.          143.\n",
      "   47.           20.            7.22742718] \n",
      " [0.         0.00010307 0.00022804 0.00394425 0.00394425 0.0039924\n",
      " 0.00432644 0.00432644 0.00469019 0.0052109  0.00840513 0.01147362\n",
      " 0.01147362]\n"
     ]
    },
    {
     "data": {
      "text/plain": [
       "[<matplotlib.lines.Line2D at 0x7f51280a19d0>]"
      ]
     },
     "execution_count": 2,
     "metadata": {},
     "output_type": "execute_result"
    },
    {
     "name": "stderr",
     "output_type": "stream",
     "text": [
      "findfont: Font family ['normal'] not found. Falling back to DejaVu Sans.\n"
     ]
    }
   ],
   "source": [
    "dsk.calc_r()\n",
    "r_ice = dsk.r_arr\n",
    "dtg = dsk.dtg\n",
    "T = dsk.T_arr\n",
    "r = r_ice/var.au\n",
    "print (r,'\\n' ,T,'\\n',dtg)\n",
    "\n",
    "r = np.append (r,100)\n",
    "T100 = dsk.tempr(r[-1]*var.au)\n",
    "T = np.append(T,T100)\n",
    "dtg = np.append(dtg,dtg[-1])\n",
    "\n",
    "print ('\\n',r,'\\n' ,T,'\\n',dtg)\n",
    "\n",
    "plt.plot(T,dtg,'.')"
   ]
  },
  {
   "cell_type": "code",
   "execution_count": 3,
   "metadata": {},
   "outputs": [],
   "source": [
    "#Set zero\n",
    "r0 = np.arange(.05,100.,0.005)*var.au\n",
    "T0 = np.zeros_like(r0)\n",
    "dg0 = np.zeros_like(r0)\n",
    "ds0 = np.zeros_like(r0)\n",
    "dtg0 = np.zeros_like(r0)\n",
    "\n",
    "ch0 = np.zeros([len(r0),2,13])\n",
    "C_g0 = np.zeros_like(r0)\n",
    "C_d0 = np.zeros_like(r0)\n",
    "O_g0 = np.zeros_like(r0)\n",
    "O_d0 = np.zeros_like(r0)\n",
    "\n",
    "\n",
    "\n",
    "for i in range(len(r0)):\n",
    "    T0[i] = dsk.tempr(r0[i])\n",
    "    dg0[i],ds0[i] = dsk.dens_r(r0[i])\n",
    "    dtg0[i] = dsk.dTg\n",
    "    chm.chem(T0[i])\n",
    "    ch0[i,0] = chm.gas\n",
    "    ch0[i,1] =chm.sld\n"
   ]
  },
  {
   "cell_type": "code",
   "execution_count": null,
   "metadata": {},
   "outputs": [],
   "source": [
    "#metalicity\n",
    "ch = np.add(ch0[:,0],ch0[:,1])\n",
    "mt = np.zeros_like(r0)\n",
    "for i in range(len(r0)):\n",
    "    mt[i] = chm.metalicity_d(ch0[i,0])\n",
    "print (mt)\n",
    "\n",
    "fig, ax1 = plt.subplots()\n",
    "\n",
    "\n",
    "#Plot the gas C/O\n",
    "color = 'tab:red'\n",
    "ax1.step(r0/var.au,mt, color=color, label = ' Metallicity (Gas) ', linewidth = 4.0)\n",
    "\n",
    "\n",
    "#Axis\n",
    "#plt.title('Mg/O')\n",
    "ax1.tick_params(size=5,width=2)\n",
    "ax1.set_xlabel(r'distance [AU]')\n",
    "ax1.set_ylabel(r'metallicity')\n",
    "plt.xscale('log')\n",
    "plt.legend()\n",
    "plt.show()"
   ]
  },
  {
   "cell_type": "code",
   "execution_count": null,
   "metadata": {},
   "outputs": [],
   "source": [
    "#Temperature\n",
    "\n",
    "fig, ax1 = plt.subplots()\n",
    "\n",
    "\n",
    "#Plot the gas C/O\n",
    "color = 'tab:red'\n",
    "ax1.plot(r0/var.au,T0, linewidth = 4.0)\n",
    "\n",
    "#Plot the solid C/O\n",
    "color = 'tab:blue'\n",
    "#ax1.step(r0/var.au,ch0[:,1,3]/ch0[:,1,5]  ,color=color, label = ' C/O (Solid) ', linewidth = 4.0 )\n",
    "\n",
    "#Plot the icelines:\n",
    "#plt.text(0.18,0.6, 1)\n",
    "#plt.text(0.27,0.71, 2)\n",
    "#plt.text(0.42,0.71, 3)\n",
    "#plt.text(0.8,0.71, 4)\n",
    "#plt.text(3,0.7, 5)\n",
    "#plt.text(10,0.87, 6)\n",
    "#plt.text(35,0.98, 7)\n",
    "\n",
    "\n",
    "#Axis\n",
    "#plt.title('Mg/O')\n",
    "ax1.tick_params(size=5,width=2)\n",
    "ax1.set_xlabel(r'Distance [AU]')\n",
    "ax1.set_ylabel(r'Temperature [K]')\n",
    "#plt.xscale('log')\n",
    "plt.yscale('log')\n",
    "#plt.legend()\n",
    "plt.show()"
   ]
  },
  {
   "cell_type": "code",
   "execution_count": 4,
   "metadata": {},
   "outputs": [
    {
     "name": "stderr",
     "output_type": "stream",
     "text": [
      "<ipython-input-4-7262c02285d1>:7: RuntimeWarning: invalid value encountered in true_divide\n",
      "  ax1.step(r0/var.au,ch0[:,0,3]/ch0[:,0,5], color=color, label = ' C/O (Gas) ', linewidth = 4.0)\n",
      "<ipython-input-4-7262c02285d1>:11: RuntimeWarning: invalid value encountered in true_divide\n",
      "  ax1.step(r0/var.au,ch0[:,1,3]/ch0[:,1,5]  ,color=color, label = ' C/O (Solid) ', linewidth = 4.0 )\n",
      "findfont: Font family ['normal'] not found. Falling back to DejaVu Sans.\n"
     ]
    }
   ],
   "source": [
    "#C/O ratio\n",
    "\n",
    "fig, ax1 = plt.subplots()\n",
    "\n",
    "#Plot the gas C/O\n",
    "color = 'tab:red'\n",
    "ax1.step(r0/var.au,ch0[:,0,3]/ch0[:,0,5], color=color, label = ' C/O (Gas) ', linewidth = 4.0)\n",
    "\n",
    "#Plot the solid C/O\n",
    "color = 'tab:blue'\n",
    "ax1.step(r0/var.au,ch0[:,1,3]/ch0[:,1,5]  ,color=color, label = ' C/O (Solid) ', linewidth = 4.0 )\n",
    "\n",
    "#Plot the icelines:\n",
    "plt.text(0.18,0.6, 1)\n",
    "plt.text(0.27,0.71, 2)\n",
    "plt.text(0.42,0.71, 3)\n",
    "plt.text(0.8,0.71, 4)\n",
    "plt.text(3,0.7, 5)\n",
    "plt.text(10,0.87, 6)\n",
    "plt.text(35,0.98, 7)\n",
    "\n",
    "\n",
    "#Axis\n",
    "#plt.title('Mg/O')\n",
    "ax1.tick_params(size=5,width=2)\n",
    "ax1.set_xlabel(r'distance [AU]', fontsize = 50)\n",
    "ax1.set_ylabel(r'c/o', fontsize = 50)\n",
    "ax1.tick_params(size=7,width=5)\n",
    "plt.xscale('log')\n",
    "plt.legend()\n",
    "plt.show()"
   ]
  },
  {
   "cell_type": "code",
   "execution_count": 64,
   "metadata": {
    "scrolled": true
   },
   "outputs": [
    {
     "name": "stderr",
     "output_type": "stream",
     "text": [
      "findfont: Font family ['normal'] not found. Falling back to DejaVu Sans.\n"
     ]
    }
   ],
   "source": [
    "#C/O ratio_ compare chem between python and fortran\n",
    "n = 6\n",
    "atm_nm = np.array(['H','He','Li','C','N','O','Na','Mg','Al','Si','S','K','Fe'])\n",
    "fig, ax1 = plt.subplots()\n",
    "abun = np.loadtxt('molec_ab.txt',skiprows=2)\n",
    "#Plot gas phase fortran\n",
    "color = 'tab:red'\n",
    "ax1.step(abun[:,0],abun[:,n+1],where='pre', color=color, label = ' Fortran ', linewidth = 4.0)\n",
    "\n",
    "#Plot the gas phase python\n",
    "color = 'tab:blue'\n",
    "ax1.plot(T0,ch0[:,0,n],color=color, label = ' python ', linewidth = 4.0 )\n",
    "\n",
    "#Axis\n",
    "plt.title(atm_nm[n])\n",
    "ax1.tick_params(size=5,width=2)\n",
    "ax1.set_xlabel(r'Temperature[k]')\n",
    "ax1.set_ylabel(r'Abundance')\n",
    "plt.xscale('log')\n",
    "plt.legend()\n",
    "plt.show()"
   ]
  },
  {
   "cell_type": "code",
   "execution_count": null,
   "metadata": {},
   "outputs": [],
   "source": [
    "#GAs solid density and gas density\n",
    "fig, ax1 = plt.subplots()\n",
    "#gas density\n",
    "color = 'tab:blue'\n",
    "ax1.plot(r0/var.au, dg0/10 ,color=color, label = r'Gas Density', linewidth = 4.0)\n",
    "\n",
    "#Dust density\n",
    "color = 'tab:red'\n",
    "ax1.plot(r0/var.au, ds0/10,color=color,label = r'Solid Density', linewidth = 4.0)\n",
    "\n",
    "#axis\n",
    "ax1.tick_params(size=5,width=2)\n",
    "ax1.set_xlabel(r'Distance [AU]',fontsize = 45)\n",
    "ax1.set_ylabel(r'Density[gr/m$^2$]',fontsize = 45)\n",
    "plt.yscale('log')\n",
    "plt.xscale('log')\n",
    "plt.legend()\n",
    "plt.show()"
   ]
  },
  {
   "cell_type": "code",
   "execution_count": null,
   "metadata": {},
   "outputs": [],
   "source": [
    "plt.plot(r0/var.au, 2*dg0/10*r0**2/5e24)"
   ]
  },
  {
   "cell_type": "code",
   "execution_count": 5,
   "metadata": {},
   "outputs": [
    {
     "name": "stderr",
     "output_type": "stream",
     "text": [
      "findfont: Font family ['normal'] not found. Falling back to DejaVu Sans.\n"
     ]
    }
   ],
   "source": [
    "#dtg\n",
    "fig, ax1 = plt.subplots()\n",
    "\n",
    "\n",
    "\n",
    "color = 'tab:blue'\n",
    "ax1.plot(r0/var.au, dtg0 ,color=color, linewidth = 4.0)\n",
    "\n",
    "ax1.tick_params(size=5,width=2)\n",
    "ax1.set_xlabel(r'Distance [AU]')\n",
    "ax1.set_ylabel(r'Dust to Gas Ratio')\n",
    "plt.xscale('log')\n",
    "plt.show()"
   ]
  },
  {
   "cell_type": "code",
   "execution_count": 4,
   "metadata": {},
   "outputs": [
    {
     "name": "stdout",
     "output_type": "stream",
     "text": [
      "[  0.24790943   0.25681085   0.32614839   0.34128238   0.35780877\n",
      "   0.50062951   0.67447689   0.81204281   0.90275687   3.62750936\n",
      "  12.48935045  32.27286169 100.        ]\n",
      "[0.         0.00010307 0.00022804 0.00394425 0.00394425 0.0039924\n",
      " 0.00432644 0.00432644 0.00469019 0.0052109  0.00840513 0.01147362\n",
      " 0.01147362]\n",
      "['1600.0', '1550.0', '1250.0', '1200.0', '1150.0', '850.0', '650.0', '550.0', '500.0', '143.0', '47.0', '20.0', '7.2']\n"
     ]
    },
    {
     "name": "stderr",
     "output_type": "stream",
     "text": [
      "findfont: Font family ['normal'] not found. Falling back to DejaVu Sans.\n",
      "findfont: Font family ['normal'] not found. Falling back to DejaVu Sans.\n"
     ]
    }
   ],
   "source": [
    "#%matplotlib qt\n",
    "fig = plt.figure()\n",
    "ax1 = fig.add_subplot(111)\n",
    "ax2 = ax1.twiny()\n",
    "\n",
    "\n",
    "\n",
    "plt.tick_params(size=5,width=2)\n",
    "x = r\n",
    "y = dtg\n",
    "z = [\"%.1f\" % z for z in T]\n",
    "ax1.set_xlim(r[0],r[-1])\n",
    "\n",
    "\n",
    "ax1.step(x,y,where = 'post',linewidth=4.0)\n",
    "ax1.set_xlabel(r'Distance[AU]',fontsize = 45)\n",
    "ax1.set_ylabel(r'Dust to Gas Ratio',fontsize = 45)\n",
    "ax1.set_xscale('log')\n",
    "plt.xscale('log')\n",
    "\n",
    "ax2.set_xlim(ax1.get_xlim())\n",
    "ax2.set_xticks(x)\n",
    "ax2.set_xticklabels(z)\n",
    "ax2.set_xlabel(r'Temperature[K]',fontsize = 40)\n",
    "#Set background colour:\n",
    "print (r)\n",
    "print (y)\n",
    "print (z)\n",
    "ax2.axvspan(0, r[9], facecolor='cyan', alpha=0.1)\n",
    "ax2.axvspan(r[9], r[10], facecolor='k', alpha=0.1)\n",
    "ax2.axvspan(r[10], r[11], facecolor='r', alpha=0.1)\n",
    "ax2.axvspan(r[11], r[12], facecolor='b', alpha=0.1)\n",
    "#fig.tight_layout()\n",
    "plt.show()"
   ]
  },
  {
   "cell_type": "code",
   "execution_count": null,
   "metadata": {},
   "outputs": [],
   "source": [
    "#Temperature and density\n",
    "fig, ax1 = plt.subplots()\n",
    "\n",
    "color = 'tab:red'\n",
    "ax1.set_xlabel('distance (AU)')\n",
    "ax1.set_ylabel('Temperature[K]')\n",
    "ax1.plot(r0/var.au, T0, color=color)\n",
    "ax1.set_ylim(1,2000)\n",
    "plt.yscale('log')\n",
    "#ax1.tick_params(axis='y', labelcolor=color)\n",
    "\n",
    "ax2 = ax1.twinx()  # instantiate a second axes that shares the same x-axis\n",
    "\n",
    "color = 'tab:blue'\n",
    "ax2.set_ylabel('Gas Density')  # we already handled the x-label with ax1\n",
    "ax2.plot(r0/var.au, dg0/10, color=color)\n",
    "#ax2.tick_params(axis='y', labelcolor=color)\n",
    "ax2.set_ylim(1,2000)\n",
    "plt.yscale('log')\n",
    "plt.xscale('log')\n",
    "#fig.tight_layout()  # otherwise the right y-label is slightly clipped\n",
    "plt.show()"
   ]
  },
  {
   "cell_type": "code",
   "execution_count": null,
   "metadata": {},
   "outputs": [],
   "source": [
    "font = {'family' : 'normal',\n",
    "        'weight' : 'bold',\n",
    "        'size'   : 22}\n",
    "\n",
    "pylab.rc('font', **font)\n",
    "\n",
    "plt.tick_params(size=5,width=2)\n",
    "x = T\n",
    "y = dtg\n",
    "z = [\"%.1f\" % z for z in r]\n",
    "ax1.set_xlim(T[0],T[-1])\n",
    "\n",
    "ax1.step(x,y,where = 'post',linewidth=3.0)"
   ]
  },
  {
   "cell_type": "code",
   "execution_count": 5,
   "metadata": {},
   "outputs": [],
   "source": [
    "\n",
    "fig, ax1 = plt.subplots()\n",
    "\n",
    "color = 'tab:red'\n",
    "ax1.set_xlabel('distance (AU)')\n",
    "ax1.set_ylabel('Temperature[K]')\n",
    "ax1.scatter(r0/var.au, T0, color=color)\n",
    "ax1.set_ylim(1,2000)\n",
    "plt.yscale('log')\n",
    "#ax1.tick_params(axis='y', labelcolor=color)\n",
    "\n",
    "ax2 = ax1.twinx()  # instantiate a second axes that shares the same x-axis\n",
    "\n",
    "color = 'tab:blue'\n",
    "ax2.set_ylabel('Gas Density')  # we already handled the x-label with ax1\n",
    "#ax2.step(r, dtg, color=color)\n",
    "#ax2.tick_params(axis='y', labelcolor=color)\n",
    "#ax2.set_ylim(1,2000)\n",
    "#plt.yscale('log')\n",
    "plt.xscale('log')\n",
    "fig.tight_layout()  # otherwise the right y-label is slightly clipped\n",
    "plt.show()"
   ]
  },
  {
   "cell_type": "markdown",
   "metadata": {},
   "source": [
    "## Planetesimal mass"
   ]
  },
  {
   "cell_type": "code",
   "execution_count": 60,
   "metadata": {},
   "outputs": [],
   "source": [
    "r_p = np.arange(0.05,50,0.05)*var.au\n",
    "M_p = np.zeros_like(r_p)\n",
    "M_p0= np.zeros_like(r_p)\n",
    "for i in range(len(r_p)-1):\n",
    "    dsk.evolve(r_p[i])\n",
    "      \n",
    "    dens = dsk.dns*dsk.dTg\n",
    "    d_mig =(r_p[i+1]**2 - r_p[i]**2) * np.pi\n",
    "    M_p0[i+1] =dens*d_mig\n",
    "    M_p[i+1]=M_p[i]+M_p0[i+1]\n",
    "            "
   ]
  },
  {
   "cell_type": "code",
   "execution_count": 71,
   "metadata": {},
   "outputs": [
    {
     "data": {
      "text/plain": [
       "Text(35, 0.98, 'CO')"
      ]
     },
     "execution_count": 71,
     "metadata": {},
     "output_type": "execute_result"
    }
   ],
   "source": [
    "fig = plt.figure()\n",
    "ax1 = fig.add_subplot(111)\n",
    "#ax2 = ax1.twiny()\n",
    "r_ice = dsk.r_arr[4:]\n",
    "ax1.plot(r_p/var.au,M_p/(var.M_earth),linewidth = 4.0)\n",
    "\n",
    "\n",
    "ax1.set_xlabel(r'Distance [AU]',fontsize = 45,fontweight = 'bold')\n",
    "ax1.set_title(r'Maximum Accreted Planetesimal Mas [M$_{Earth}$]',fontsize = 45,fontweight = 'bold')\n",
    "ax1.set_ylim(-10,38)\n",
    "ax1.set_xlim(-5,55)\n",
    "ax1.vlines(x=r_ice[-1]/var.au,ymin=-16,ymax=116,color='black',linestyles='dashed')\n",
    "ax1.vlines(x=r_ice[-2]/var.au,ymin=-16,ymax=116,color='black',linestyles='dashed')\n",
    "ax1.vlines(x=r_ice[-3]/var.au,ymin=-16,ymax=116,color='black',linestyles='dashed')\n",
    "\n",
    "ax1.vlines(x=8.5,ymin=-16.0,ymax=1.49,linestyles='dashdot',color = 'black',linewidth = 3.0)\n",
    "ax1.vlines(x=29.3,ymin=-16.0,ymax=12.49,linestyles='dashdot',color = 'black',linewidth = 3.0)\n",
    "\n",
    "\n",
    "ax1.hlines(y=1.495,xmin=-16.0,xmax=8.5,linestyles='dashdot',color = 'black',linewidth = 3.0)\n",
    "ax1.hlines(y=12.5,xmin=-16.0,xmax=29.3,linestyles='dashdot',color = 'black',linewidth = 3.0)\n",
    "\n",
    "plt.text(40,10, 29.3)\n",
    "plt.text(20,15, 8.4)\n",
    "plt.text(50,10, 1.5)\n",
    "plt.text(50,0.71, 12.5)\n",
    "plt.text(40,1, r'H$_2$O')\n",
    "plt.text(20,1.5, r'CO$_2$')\n",
    "plt.text(35,0.98, r'CO')\n",
    "\n",
    "#plt.yscale('log')\n",
    "#plt.xscale('log')"
   ]
  },
  {
   "cell_type": "code",
   "execution_count": null,
   "metadata": {},
   "outputs": [],
   "source": [
    "r_ice = dsk.r_arr[4:]\n",
    "plt.figure()\n",
    "plt.plot(r_p/var.au,M_p0/(var.M_earth))\n",
    "\n",
    "\n",
    "plt.axvline(x=r_ice[-1]/var.au,color='black')\n",
    "plt.axvline(x=r_ice[-2]/var.au,color='black')\n",
    "plt.axvline(x=r_ice[-3]/var.au,color='black')\n",
    "\n",
    "plt.axhline(y=3.18,color='black')\n",
    "plt.axhline(y=3.18,color='black')\n",
    "\n",
    "#plt.yscale('log')\n",
    "#plt.xscale('log')\n",
    "plt.show()"
   ]
  },
  {
   "cell_type": "code",
   "execution_count": null,
   "metadata": {},
   "outputs": [],
   "source": [
    "r = 1 * var.au\n",
    "M = 100 * var.M_earth\n",
    "dns = dsk.dens_r(r)\n",
    "\n",
    "\n",
    "dt0 = r\n",
    "dt1 = M/(r*dns[0]) \n",
    "\n",
    "dr0 = 1/r\n",
    "dr1 = (r*dns[0])/M\n",
    "print (dr1,dns[0],M,r)\n",
    "\n"
   ]
  },
  {
   "cell_type": "markdown",
   "metadata": {},
   "source": [
    "## Not sure what this is"
   ]
  },
  {
   "cell_type": "code",
   "execution_count": null,
   "metadata": {},
   "outputs": [],
   "source": [
    "#Set 1\n",
    "r = np.arange(0.05,100.,0.05)*var.au\n",
    "T = np.zeros_like(r)\n",
    "for i in range(len(r)):\n",
    "    T[i] = dsk.tempr(r[i]) \n",
    "print (len(r), len(T))"
   ]
  },
  {
   "cell_type": "code",
   "execution_count": null,
   "metadata": {},
   "outputs": [],
   "source": [
    "com_s = np.zeros([len(T0),13])\n",
    "com_g = np.zeros([len(T0),13])\n",
    "#print com_s\n",
    "for i in range(len(T)):\n",
    "    chm.chem(T0[i])\n",
    "    com_s[i] = chm.sld\n",
    "    com_g[i] = chm.gas\n",
    "    \n",
    "mtl = np.zeros([len(T0),2])\n",
    "\n",
    "for i in range(len(T)):\n",
    "    mtl[i,0]=chm.metalicity_d(com_g[i])\n",
    "    mtl[i,1]=chm.metalicity_d(com_s[i])"
   ]
  },
  {
   "cell_type": "code",
   "execution_count": null,
   "metadata": {},
   "outputs": [],
   "source": [
    "print (dsk.dTg*d_g)\n",
    "print (d_g)\n",
    "print (T)\n",
    "print (r/var.au)"
   ]
  },
  {
   "cell_type": "code",
   "execution_count": null,
   "metadata": {},
   "outputs": [],
   "source": [
    "%matplotlib inline\n",
    "plt.plot(mtl[:,0],com_s[:,3]/com_s[:,5],'b.')\n",
    "plt.figure()\n",
    "plt.plot(mtl[:,1],com_g[:,3]/com_g[:,5])"
   ]
  },
  {
   "cell_type": "code",
   "execution_count": null,
   "metadata": {},
   "outputs": [],
   "source": [
    "import numpy as np\n",
    "\n",
    "import matplotlib.pyplot as plt\n",
    "\n",
    "\n",
    "xran = np.arange(0,100)\n",
    "yran = xran**2\n",
    "\n",
    "fig = plt.figure()\n",
    "ax = fig.add_subplot(1,1,1)\n",
    "ax.tick_params(direction='out', length=6, width=2, colors='k',\n",
    "               grid_color='r', grid_alpha=0.5)\n",
    "ax.plot(r/var.au,T, linewidth = 3)\n",
    "\n",
    "plt.yscale('log')\n",
    "plt.xscale('log')"
   ]
  },
  {
   "cell_type": "code",
   "execution_count": null,
   "metadata": {},
   "outputs": [],
   "source": [
    "import numpy as np\n",
    "\n",
    "import matplotlib.pyplot as plt\n",
    "\n",
    "fig = plt.figure()\n",
    "ax = fig.add_subplot(1,1,1)\n",
    "ax.tick_params(direction='out', length=6, width=2, colors='k',\n",
    "               grid_color='r', grid_alpha=0.5)\n",
    "ax.plot(r/var.au,T, linewidth = 3)\n",
    "ax.set_title('test')\n",
    "ax.set_xlabel('x')\n",
    "ax.set_ylabel('y')\n",
    "\n",
    "plt.yscale('log')\n",
    "plt.xscale('log')"
   ]
  },
  {
   "cell_type": "code",
   "execution_count": null,
   "metadata": {},
   "outputs": [],
   "source": [
    "import numpy as np\n",
    "import matplotlib.pyplot as plt\n",
    "\n",
    "# Create some mock data\n",
    "t = np.arange(0.01, 10.0, 0.01)\n",
    "data1 = np.exp(t)\n",
    "data2 = np.sin(2 * np.pi * t)\n",
    "\n",
    "fig, ax1 = plt.subplots()\n",
    "\n",
    "color = 'tab:red'\n",
    "ax1.set_xlabel('time (s)')\n",
    "ax1.set_ylabel('exp', color=color)\n",
    "ax1.plot(t, data1, color=color)\n",
    "ax1.tick_params(axis='y', labelcolor=color)\n",
    "\n",
    "ax2 = ax1.twinx()  # instantiate a second axes that shares the same x-axis\n",
    "\n",
    "color = 'tab:blue'\n",
    "ax2.set_ylabel('sin', color=color)  # we already handled the x-label with ax1\n",
    "ax2.plot(t, data2, color=color)\n",
    "ax2.tick_params(axis='y', labelcolor=color)\n",
    "\n",
    "fig.tight_layout()  # otherwise the right y-label is slightly clipped\n",
    "plt.show()"
   ]
  },
  {
   "cell_type": "code",
   "execution_count": null,
   "metadata": {},
   "outputs": [],
   "source": [
    "\n",
    "import numpy as np\n",
    "\n",
    "import matplotlib.pyplot as plt\n",
    "\n",
    "\n",
    "xran = np.arange(0,100)\n",
    "yran = xran**2\n",
    "\n",
    "\n",
    "plt.plot(xran,yran)\n",
    "plt.tick_params(size=20,width=20)"
   ]
  },
  {
   "cell_type": "code",
   "execution_count": null,
   "metadata": {},
   "outputs": [],
   "source": [
    "#%matplotlib qt\n",
    "plt.figure()\n",
    "plt.plot(r/var.au,T,linewidth=3.0)\n",
    "plt.plot(r/var.au,d_g/10,linewidth=3.0)\n",
    "plt.yscale('log')\n",
    "plt.xscale('log')\n",
    "plt.tick_params(size=5,width=2)\n",
    "\n",
    "\n",
    "plt.figure()\n",
    "plt.plot(T,d_g/10,linewidth=3.0)\n",
    "plt.yscale('log')\n",
    "plt.xscale('log')\n",
    "plt.gca().invert_xaxis()\n",
    "plt.tick_params(size=5,width=2)\n",
    "\n",
    "plt.figure()\n",
    "plt.plot(T,d_s/10,linewidth=3.0)\n",
    "plt.yscale('log')\n",
    "plt.xscale('log')\n",
    "plt.gca().invert_xaxis()\n",
    "plt.tick_params(size=5,width=2)\n",
    "\n",
    "#plt.figure()\n",
    "#plt.plot(r/var.au,d_g,linewidth=3.0)\n",
    "#plt.yscale('log')\n",
    "#plt.xscale('log')\n",
    "\n",
    "plt.figure()\n",
    "plt.plot(r/var.au,d_s/10,linewidth=3.0)\n",
    "plt.yscale('log')\n",
    "plt.xscale('log')\n",
    "plt.tick_params(size=5,width=2)\n"
   ]
  },
  {
   "cell_type": "code",
   "execution_count": null,
   "metadata": {},
   "outputs": [],
   "source": [
    "plt.figure()\n",
    "plt.plot(r/var.au,d_g)\n",
    "#plt.yscale('log')\n",
    "#plt.xscale('log')"
   ]
  },
  {
   "cell_type": "code",
   "execution_count": null,
   "metadata": {},
   "outputs": [],
   "source": [
    "plt.figure()\n",
    "plt.plot(r/var.au,d_s)\n",
    "plt.yscale('log')\n",
    "plt.xscale('log')"
   ]
  },
  {
   "cell_type": "code",
   "execution_count": null,
   "metadata": {},
   "outputs": [],
   "source": [
    "d = d_g +d_s\n",
    "plt.figure()\n",
    "plt.plot(r/var.au,d)\n",
    "plt.yscale('log')\n",
    "plt.xscale('log')"
   ]
  }
 ],
 "metadata": {
  "kernelspec": {
   "display_name": "Python 3",
   "language": "python",
   "name": "python3"
  },
  "language_info": {
   "codemirror_mode": {
    "name": "ipython",
    "version": 3
   },
   "file_extension": ".py",
   "mimetype": "text/x-python",
   "name": "python",
   "nbconvert_exporter": "python",
   "pygments_lexer": "ipython3",
   "version": "3.8.5"
  }
 },
 "nbformat": 4,
 "nbformat_minor": 4
}
