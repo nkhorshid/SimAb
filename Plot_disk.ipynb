{
 "cells": [
  {
   "cell_type": "code",
   "execution_count": 2,
   "metadata": {},
   "outputs": [],
   "source": [
    "import numpy as np\n",
    "import matplotlib.pyplot as plt\n",
    "import variable as var\n",
    "from disk import Disk\n",
    "from chem import Chem\n",
    "import matplotlib.pylab as pylab\n",
    "import matplotlib.axes as ax\n",
    "\n",
    "from scipy.stats import spearmanr\n",
    "%matplotlib qt\n",
    "dsk = Disk()\n",
    "chm = Chem()\n",
    "font = {'family' : 'normal',\n",
    "        'weight' : 'bold',\n",
    "        'size'   : 45}\n",
    "\n",
    "pylab.rc('font', **font)\n",
    "fsize = 30"
   ]
  },
  {
   "cell_type": "markdown",
   "metadata": {},
   "source": [
    "# Set the values"
   ]
  },
  {
   "cell_type": "code",
   "execution_count": 2,
   "metadata": {},
   "outputs": [],
   "source": [
    "dsk.calc_r()\n",
    "r_ice = dsk.r_arr\n",
    "dtg = dsk.dtg\n",
    "T = dsk.T_arr\n",
    "r = r_ice/var.au\n",
    "\n",
    "r = np.append (r,100)\n",
    "T100 = dsk.tempr(r[-1]*var.au)\n",
    "T = np.append(T,T100)\n",
    "dtg = np.append(dtg,dtg[-1])"
   ]
  },
  {
   "cell_type": "code",
   "execution_count": 3,
   "metadata": {},
   "outputs": [],
   "source": [
    "#Set zero\n",
    "r0 = np.arange(.05,100.,0.005)*var.au\n",
    "T0 = np.zeros_like(r0)\n",
    "dg0 = np.zeros_like(r0)\n",
    "ds0 = np.zeros_like(r0)\n",
    "dtg0 = np.zeros_like(r0)\n",
    "\n",
    "ch0 = np.zeros([len(r0),2,13])\n",
    "C_g0 = np.zeros_like(r0)\n",
    "C_d0 = np.zeros_like(r0)\n",
    "O_g0 = np.zeros_like(r0)\n",
    "O_d0 = np.zeros_like(r0)\n",
    "\n",
    "\n",
    "\n",
    "for i in range(len(r0)):\n",
    "    T0[i] = dsk.tempr(r0[i])\n",
    "    dg0[i],ds0[i] = dsk.dens_r(r0[i])\n",
    "    dtg0[i] = dsk.dTg\n",
    "    chm.chem(T0[i])\n",
    "    ch0[i,0] = chm.gas\n",
    "    ch0[i,1] =chm.sld\n"
   ]
  },
  {
   "cell_type": "markdown",
   "metadata": {},
   "source": [
    "## Plots"
   ]
  },
  {
   "cell_type": "code",
   "execution_count": 4,
   "metadata": {},
   "outputs": [
    {
     "ename": "AttributeError",
     "evalue": "'Chem' object has no attribute 'M_s_SRCiS'",
     "output_type": "error",
     "traceback": [
      "\u001b[0;31m---------------------------------------------------------------------------\u001b[0m",
      "\u001b[0;31mAttributeError\u001b[0m                            Traceback (most recent call last)",
      "\u001b[0;32m<ipython-input-4-7d87c8dfc5a0>\u001b[0m in \u001b[0;36m<module>\u001b[0;34m\u001b[0m\n\u001b[1;32m      3\u001b[0m \u001b[0mmt\u001b[0m \u001b[0;34m=\u001b[0m \u001b[0mnp\u001b[0m\u001b[0;34m.\u001b[0m\u001b[0mzeros_like\u001b[0m\u001b[0;34m(\u001b[0m\u001b[0mr0\u001b[0m\u001b[0;34m)\u001b[0m\u001b[0;34m\u001b[0m\u001b[0;34m\u001b[0m\u001b[0m\n\u001b[1;32m      4\u001b[0m \u001b[0;32mfor\u001b[0m \u001b[0mi\u001b[0m \u001b[0;32min\u001b[0m \u001b[0mrange\u001b[0m\u001b[0;34m(\u001b[0m\u001b[0mlen\u001b[0m\u001b[0;34m(\u001b[0m\u001b[0mr0\u001b[0m\u001b[0;34m)\u001b[0m\u001b[0;34m)\u001b[0m\u001b[0;34m:\u001b[0m\u001b[0;34m\u001b[0m\u001b[0;34m\u001b[0m\u001b[0m\n\u001b[0;32m----> 5\u001b[0;31m     \u001b[0mmt\u001b[0m\u001b[0;34m[\u001b[0m\u001b[0mi\u001b[0m\u001b[0;34m]\u001b[0m \u001b[0;34m=\u001b[0m \u001b[0mchm\u001b[0m\u001b[0;34m.\u001b[0m\u001b[0mmetalicity_d\u001b[0m\u001b[0;34m(\u001b[0m\u001b[0mch0\u001b[0m\u001b[0;34m[\u001b[0m\u001b[0mi\u001b[0m\u001b[0;34m,\u001b[0m\u001b[0;36m0\u001b[0m\u001b[0;34m]\u001b[0m\u001b[0;34m)\u001b[0m\u001b[0;34m\u001b[0m\u001b[0;34m\u001b[0m\u001b[0m\n\u001b[0m\u001b[1;32m      6\u001b[0m \u001b[0;34m\u001b[0m\u001b[0m\n\u001b[1;32m      7\u001b[0m \u001b[0;34m\u001b[0m\u001b[0m\n",
      "\u001b[0;32m~/Documents/PhD-Amsterdam/1-Codes/SimAb/chem.py\u001b[0m in \u001b[0;36mmetalicity_d\u001b[0;34m(self, ab)\u001b[0m\n\u001b[1;32m     73\u001b[0m         \u001b[0mab_tot\u001b[0m \u001b[0;34m=\u001b[0m \u001b[0mab\u001b[0m\u001b[0;34m/\u001b[0m\u001b[0mab\u001b[0m\u001b[0;34m[\u001b[0m\u001b[0;36m0\u001b[0m\u001b[0;34m]\u001b[0m\u001b[0;34m*\u001b[0m\u001b[0;36m1e12\u001b[0m\u001b[0;34m\u001b[0m\u001b[0;34m\u001b[0m\u001b[0m\n\u001b[1;32m     74\u001b[0m         \u001b[0mM\u001b[0m \u001b[0;34m=\u001b[0m \u001b[0mnp\u001b[0m\u001b[0;34m.\u001b[0m\u001b[0msum\u001b[0m\u001b[0;34m(\u001b[0m\u001b[0mab_tot\u001b[0m\u001b[0;34m[\u001b[0m\u001b[0;36m2\u001b[0m\u001b[0;34m:\u001b[0m\u001b[0;34m]\u001b[0m\u001b[0;34m)\u001b[0m\u001b[0;34m/\u001b[0m\u001b[0mnp\u001b[0m\u001b[0;34m.\u001b[0m\u001b[0msum\u001b[0m\u001b[0;34m(\u001b[0m\u001b[0mab_tot\u001b[0m\u001b[0;34m[\u001b[0m\u001b[0;34m:\u001b[0m\u001b[0;36m2\u001b[0m\u001b[0;34m]\u001b[0m\u001b[0;34m)\u001b[0m\u001b[0;34m\u001b[0m\u001b[0;34m\u001b[0m\u001b[0m\n\u001b[0;32m---> 75\u001b[0;31m         \u001b[0mmtl\u001b[0m \u001b[0;34m=\u001b[0m \u001b[0mnp\u001b[0m\u001b[0;34m.\u001b[0m\u001b[0mlog10\u001b[0m\u001b[0;34m(\u001b[0m\u001b[0mM\u001b[0m\u001b[0;34m/\u001b[0m\u001b[0mself\u001b[0m\u001b[0;34m.\u001b[0m\u001b[0mM_s_SRCiS\u001b[0m\u001b[0;34m)\u001b[0m\u001b[0;34m\u001b[0m\u001b[0;34m\u001b[0m\u001b[0m\n\u001b[0m\u001b[1;32m     76\u001b[0m         \u001b[0;32mreturn\u001b[0m \u001b[0mmtl\u001b[0m\u001b[0;34m\u001b[0m\u001b[0;34m\u001b[0m\u001b[0m\n\u001b[1;32m     77\u001b[0m     \u001b[0;31m###########################################################################\u001b[0m\u001b[0;34m\u001b[0m\u001b[0;34m\u001b[0m\u001b[0;34m\u001b[0m\u001b[0m\n",
      "\u001b[0;31mAttributeError\u001b[0m: 'Chem' object has no attribute 'M_s_SRCiS'"
     ]
    }
   ],
   "source": [
    "#metalicity of the disk\n",
    "ch = np.add(ch0[:,0],ch0[:,1])\n",
    "mt = np.zeros_like(r0)\n",
    "for i in range(len(r0)):\n",
    "    mt[i] = chm.metalicity_d(ch0[i,0])\n",
    "\n",
    "    \n",
    "#Plot the metallicity\n",
    "fig, ax1 = plt.subplots()\n",
    "color = 'tab:red'\n",
    "ax1.step(r0/var.au,mt, color=color, label = ' Metallicity (Gas) ', linewidth = 4.0)\n",
    "\n",
    "\n",
    "#Axis\n",
    "plt.title('Metallicity of the disk in the gas phase')\n",
    "ax1.tick_params(size=5,width=2)\n",
    "ax1.set_xlabel(r'distance [AU]')\n",
    "ax1.set_ylabel(r'metallicity')\n",
    "plt.xscale('log')\n",
    "plt.legend()\n",
    "plt.show()"
   ]
  },
  {
   "cell_type": "code",
   "execution_count": 5,
   "metadata": {},
   "outputs": [],
   "source": [
    "#Temperature\n",
    "fig, ax1 = plt.subplots()\n",
    "ax1.plot(r0/var.au,T0, linewidth = 4.0)\n",
    "\n",
    "\n",
    "#Axis\n",
    "ax1.tick_params(size=5,width=2)\n",
    "ax1.set_xlabel(r'Distance [AU]')\n",
    "ax1.set_ylabel(r'Temperature [K]')\n",
    "#plt.xscale('log')\n",
    "plt.yscale('log')\n",
    "plt.show()"
   ]
  },
  {
   "cell_type": "code",
   "execution_count": 6,
   "metadata": {},
   "outputs": [
    {
     "name": "stderr",
     "output_type": "stream",
     "text": [
      "<ipython-input-6-70e546e30d56>:7: RuntimeWarning: invalid value encountered in true_divide\n",
      "  ax1.step(r0/var.au,ch0[:,0,3]/ch0[:,0,5], color=color, label = ' C/O (Gas) ', linewidth = 4.0)\n",
      "<ipython-input-6-70e546e30d56>:11: RuntimeWarning: invalid value encountered in true_divide\n",
      "  ax1.step(r0/var.au,ch0[:,1,3]/ch0[:,1,5]  ,color=color, label = ' C/O (Solid) ', linewidth = 4.0 )\n"
     ]
    }
   ],
   "source": [
    "#C/O ratio\n",
    "\n",
    "fig, ax1 = plt.subplots()\n",
    "\n",
    "#Plot the gas C/O\n",
    "color = 'tab:red'\n",
    "ax1.step(r0/var.au,ch0[:,0,3]/ch0[:,0,5], color=color, label = ' C/O (Gas) ', linewidth = 4.0)\n",
    "\n",
    "#Plot the solid C/O\n",
    "color = 'tab:blue'\n",
    "ax1.step(r0/var.au,ch0[:,1,3]/ch0[:,1,5]  ,color=color, label = ' C/O (Solid) ', linewidth = 4.0 )\n",
    "\n",
    "#Plot the icelines:\n",
    "plt.text(0.18,0.6, 1)\n",
    "plt.text(0.27,0.71, 2)\n",
    "plt.text(0.42,0.71, 3)\n",
    "plt.text(0.8,0.71, 4)\n",
    "plt.text(3,0.7, 5)\n",
    "plt.text(10,0.87, 6)\n",
    "plt.text(35,0.98, 7)\n",
    "\n",
    "\n",
    "#Axis\n",
    "ax1.tick_params(size=5,width=2)\n",
    "ax1.set_xlabel(r'distance [AU]', fontsize = fsize)\n",
    "ax1.set_ylabel(r'c/o', fontsize = fsize)\n",
    "ax1.tick_params(size=7,width=5)\n",
    "plt.xscale('log')\n",
    "plt.legend()\n",
    "plt.show()"
   ]
  },
  {
   "cell_type": "code",
   "execution_count": 7,
   "metadata": {},
   "outputs": [
    {
     "name": "stderr",
     "output_type": "stream",
     "text": [
      "findfont: Font family ['normal'] not found. Falling back to DejaVu Sans.\n",
      "findfont: Font family ['normal'] not found. Falling back to DejaVu Sans.\n",
      "findfont: Font family ['normal'] not found. Falling back to DejaVu Sans.\n"
     ]
    }
   ],
   "source": [
    "#Gas solid density and gas density\n",
    "fig, ax1 = plt.subplots()\n",
    "\n",
    "#gas density\n",
    "color = 'tab:blue'\n",
    "ax1.plot(r0/var.au, dg0/10 ,color=color, label = r'Gas Density', linewidth = 4.0)\n",
    "\n",
    "#Dust density\n",
    "color = 'tab:red'\n",
    "ax1.plot(r0/var.au, ds0/10,color=color,label = r'Solid Density', linewidth = 4.0)\n",
    "\n",
    "#axis\n",
    "ax1.tick_params(size=5,width=2)\n",
    "ax1.set_xlabel(r'Distance [AU]',fontsize = fsize)\n",
    "ax1.set_ylabel(r'Density[gr/m$^2$]',fontsize = fsize)\n",
    "plt.yscale('log')\n",
    "plt.xscale('log')\n",
    "plt.legend()\n",
    "plt.show()"
   ]
  },
  {
   "cell_type": "code",
   "execution_count": 8,
   "metadata": {},
   "outputs": [],
   "source": [
    "#dust to gas ratio vs. Distance\n",
    "fig, ax1 = plt.subplots()\n",
    "\n",
    "color = 'tab:blue'\n",
    "ax1.plot(r0/var.au, dtg0 ,color=color, linewidth = 4.0)\n",
    "\n",
    "ax1.tick_params(size=5,width=2)\n",
    "ax1.set_xlabel(r'Distance [AU]')\n",
    "ax1.set_ylabel(r'Dust to Gas Ratio')\n",
    "plt.xscale('log')\n",
    "plt.show()"
   ]
  },
  {
   "cell_type": "code",
   "execution_count": 9,
   "metadata": {},
   "outputs": [],
   "source": [
    "#dust to gas ratio vs. Temperature\n",
    "fig, ax1 = plt.subplots()\n",
    "\n",
    "color = 'tab:blue'\n",
    "ax1.plot(T0, dtg0 ,color=color, linewidth = 4.0)\n",
    "\n",
    "ax1.tick_params(size=5,width=2)\n",
    "ax1.set_xlabel(r'Temperature [k]')\n",
    "ax1.set_ylabel(r'Dust to Gas Ratio')\n",
    "plt.xscale('log')\n",
    "plt.show()"
   ]
  },
  {
   "cell_type": "code",
   "execution_count": 10,
   "metadata": {},
   "outputs": [],
   "source": [
    "#Dust to gas ratio vs distance and temperature, Colours are showing the regions between the ice lines\n",
    "fig = plt.figure()\n",
    "ax1 = fig.add_subplot(111)\n",
    "ax2 = ax1.twiny()\n",
    "\n",
    "\n",
    "plt.tick_params(size=5,width=2)\n",
    "x = r\n",
    "y = dtg\n",
    "z = [\"%.1f\" % z for z in T]\n",
    "ax1.set_xlim(r[0],r[-1])\n",
    "\n",
    "\n",
    "ax1.step(x,y,where = 'post',linewidth=4.0)\n",
    "ax1.set_xlabel(r'Distance[AU]',fontsize = fsize)\n",
    "ax1.set_ylabel(r'Dust to Gas Ratio',fontsize = fsize)\n",
    "ax1.set_xscale('log')\n",
    "plt.xscale('log')\n",
    "\n",
    "ax2.set_xlim(ax1.get_xlim())\n",
    "ax2.set_xticks(x)\n",
    "ax2.set_xticklabels(z)\n",
    "ax2.set_xlabel(r'Temperature[K]',fontsize = fsize)\n",
    "\n",
    "#Set background colour:\n",
    "ax2.axvspan(0, r[9], facecolor='cyan', alpha=0.1)\n",
    "ax2.axvspan(r[9], r[10], facecolor='k', alpha=0.1)\n",
    "ax2.axvspan(r[10], r[11], facecolor='r', alpha=0.1)\n",
    "ax2.axvspan(r[11], r[12], facecolor='b', alpha=0.1)\n",
    "\n",
    "plt.show()"
   ]
  },
  {
   "cell_type": "markdown",
   "metadata": {},
   "source": [
    "## Planetesimal mass"
   ]
  },
  {
   "cell_type": "code",
   "execution_count": 6,
   "metadata": {},
   "outputs": [],
   "source": [
    "r_p = np.arange(0.05,50,0.05)*var.au\n",
    "M_p = np.zeros_like(r_p)\n",
    "M_p0= np.zeros_like(r_p)\n",
    "for i in range(len(r_p)-1):\n",
    "    dsk.evolve(r_p[i])\n",
    "      \n",
    "    dens = dsk.dns*dsk.dTg\n",
    "    d_mig =(r_p[i+1]**2 - r_p[i]**2) * np.pi\n",
    "    M_p0[i+1] =dens*d_mig\n",
    "    M_p[i+1]=M_p[i]+M_p0[i+1]\n",
    "            "
   ]
  },
  {
   "cell_type": "code",
   "execution_count": 64,
   "metadata": {},
   "outputs": [
    {
     "data": {
      "text/plain": [
       "[<matplotlib.lines.Line2D at 0x7fa448bf4f50>]"
      ]
     },
     "execution_count": 64,
     "metadata": {},
     "output_type": "execute_result"
    }
   ],
   "source": [
    "fig = plt.figure()\n",
    "ax1 = fig.add_subplot(111)\n",
    "#ax2 = ax1.twiny()\n",
    "r_ice = dsk.r_arr[4:]\n",
    "ax1.plot(r_p/var.au,M_p/(var.M_earth),linewidth = 4.0)\n",
    "ax1.plot(r_p/var.au,M_p/(var.M_earth)*0.5,linewidth = 4.0)\n",
    "\n",
    "\n",
    "ax1.set_xlabel(r'Distance [AU]',fontsize = fsize,fontweight = 'bold')\n",
    "ax1.set_title(r'Maximum Accreted Planetesimal Mas [M$_{Earth}$]',fontsize = fsize,fontweight = 'bold')\n",
    "ax1.set_ylim(-10,38)\n",
    "ax1.set_xlim(-5,55)\n",
    "ax1.vlines(x=r_ice[-1]/var.au,ymin=-16,ymax=116,color='black',linestyles='dashed')\n",
    "ax1.vlines(x=r_ice[-2]/var.au,ymin=-16,ymax=116,color='black',linestyles='dashed')\n",
    "ax1.vlines(x=r_ice[-3]/var.au,ymin=-16,ymax=116,color='black',linestyles='dashed')\n",
    "\n",
    "plt.plot(y2_2[4], x2_2[4], '*',markersize=15,color = 'red')\n",
    "plt.plot(y2_11[4], x2_2[4], '*k',markersize=15)\n",
    "\n",
    "#ax1.vlines(x=8.5,ymin=-16.0,ymax=1.49,linestyles='dashdot',color = 'black',linewidth = 3.0)\n",
    "#ax1.vlines(x=29.3,ymin=-16.0,ymax=12.49,linestyles='dashdot',color = 'black',linewidth = 3.0)\n",
    "\n",
    "\n",
    "#ax1.hlines(y=1.495,xmin=-16.0,xmax=8.5,linestyles='dashdot',color = 'black',linewidth = 3.0)\n",
    "#ax1.hlines(y=12.5,xmin=-16.0,xmax=29.3,linestyles='dashdot',color = 'black',linewidth = 3.0)\n",
    "\n",
    "\n",
    "#plt.yscale('log')\n",
    "#plt.xscale('log')"
   ]
  },
  {
   "cell_type": "code",
   "execution_count": 62,
   "metadata": {},
   "outputs": [
    {
     "name": "stdout",
     "output_type": "stream",
     "text": [
      "14.299727699539694 20.652214764539945\n"
     ]
    }
   ],
   "source": [
    "\n",
    "def fit_x(x1,y1,x2):\n",
    "    #Find the area that x1 and x2 are similar (x1[0]<x2[0] and x1[-1]>x2[-1])\n",
    "    a=np.where((x1>x2[0]) & (x1<x2[-1]))\n",
    "    a=np.insert(a[0],0,a[0][0]-1)\n",
    "    a=np.append(a,a[-1]+1)\n",
    "    y2=np.interp(x2,x1,y1)\n",
    "    return y2\n",
    "y1= r_p/var.au\n",
    "x1= M_p/(var.M_earth)\n",
    "x11= M_p/(var.M_earth)*0.5\n",
    "\n",
    "\n",
    "n2=3.5\n",
    "x2_2= np.array([n2/2.512, n2/1.738, n2/1.318, n2/1.072, n2, n2*1.072, n2*1.318, n2*1.738, n2* 2.512])\n",
    "y2_2=fit_x(x1,y1,x2_2)\n",
    "y2_11=fit_x(x11,y1,x2_2)\n",
    "print (y2_2[4],y2_11[4])"
   ]
  },
  {
   "cell_type": "code",
   "execution_count": 56,
   "metadata": {},
   "outputs": [
    {
     "name": "stdout",
     "output_type": "stream",
     "text": [
      "[ 8.11114284 10.44774655 12.60021241 13.83508639 14.2997277  14.79121418\n",
      " 16.42406584 19.07276365 23.60868866]\n",
      "Mass: 0.20874626865671653 0.8389119878603948 1.743939010356732 3.1708662420382163\n",
      "Dist: 0.8120488343849015 3.2447964671420566 6.624172839181793 10.202910164628577\n",
      "\n",
      "Mass: 0.48707462686567204 1.957461305007588 4.069191024165708 7.398687898089172\n",
      "dist: 0.9561277847581309 3.8238534242959084 8.625017099910984 15.497545817799312\n",
      "\n",
      "Mass: 1.391641791044778 5.592746585735964 11.626260069044879 21.139108280254778\n",
      "dist: 2.1677362526453336 8.663946820540406 16.675956614317855 27.40529921422461\n"
     ]
    }
   ],
   "source": [
    "\n",
    "def fit_x(x1,y1,x2):\n",
    "    #Find the area that x1 and x2 are similar (x1[0]<x2[0] and x1[-1]>x2[-1])\n",
    "    a=np.where((x1>x2[0]) & (x1<x2[-1]))\n",
    "    a=np.insert(a[0],0,a[0][0]-1)\n",
    "    a=np.append(a,a[-1]+1)\n",
    "    y2=np.interp(x2,x1,y1)\n",
    "    return y2\n",
    "y1= r_p/var.au\n",
    "x1= M_p/(var.M_earth)\n",
    "\n",
    "n1=1.5\n",
    "x1_2= np.array([n1/2.512, n1/1.738, n1/1.318, n1/1.072, n1, n1*1.072, n1*1.318, n1*1.738, n1* 2.512])\n",
    "y1_2=fit_x(x1,y1,x1_2)\n",
    "\n",
    "n2=3.5\n",
    "x2_2= np.array([n2/2.512, n2/1.738, n2/1.318, n2/1.072, n2, n2*1.072, n2*1.318, n2*1.738, n2* 2.512])\n",
    "y2_2=fit_x(x1,y1,x2_2)\n",
    "print (y2_2)\n",
    "n3=10\n",
    "x3_2= np.array([n3/2.512, n3/1.738, n3/1.318, n3/1.072, n3, n3*1.072, n3*1.318, n3*1.738, n3* 2.512])\n",
    "y3_2=fit_x(x1,y1,x3_2)\n",
    "m1=(x1_2[4+1]-x1_2[4-1], x1_2[4+2]-x1_2[4-2], x1_2[4+3]-x1_2[4-3], x1_2[4+4]-x1_2[4-4])\n",
    "m2=(x2_2[4+1]-x2_2[4-1], x2_2[4+2]-x2_2[4-2], x2_2[4+3]-x2_2[4-3], x2_2[4+4]-x2_2[4-4])\n",
    "m3=(x3_2[4+1]-x3_2[4-1], x3_2[4+2]-x3_2[4-2], x3_2[4+3]-x3_2[4-3], x3_2[4+4]-x3_2[4-4])\n",
    "\n",
    "d1=(y1_2[4+1]-y1_2[4-1], y1_2[4+2]-y1_2[4-2], y1_2[4+3]-y1_2[4-3], y1_2[4+4]-y1_2[4-4])\n",
    "d2=(y2_2[4+1]-y2_2[4-1], y2_2[4+2]-y2_2[4-2], y2_2[4+3]-y2_2[4-3], y2_2[4+4]-y2_2[4-4])\n",
    "d3=(y3_2[4+1]-y3_2[4-1], y3_2[4+2]-y3_2[4-2], y3_2[4+3]-y3_2[4-3], y3_2[4+4]-y3_2[4-4])\n",
    "\n",
    "print ('Mass:',x1_2[4+1]-x1_2[4-1], x1_2[4+2]-x1_2[4-2], x1_2[4+3]-x1_2[4-3], x1_2[4+4]-x1_2[4-4])\n",
    "print ('Dist:',y1_2[4+1]-y1_2[4-1], y1_2[4+2]-y1_2[4-2], y1_2[4+3]-y1_2[4-3], y1_2[4+4]-y1_2[4-4])\n",
    "\n",
    "print ('\\nMass:',x2_2[4+1]-x2_2[4-1], x2_2[4+2]-x2_2[4-2], x2_2[4+3]-x2_2[4-3], x2_2[4+4]-x2_2[4-4])\n",
    "print ('dist:',y2_2[4+1]-y2_2[4-1], y2_2[4+2]-y2_2[4-2], y2_2[4+3]-y2_2[4-3], y2_2[4+4]-y2_2[4-4])\n",
    "\n",
    "print ('\\nMass:',x3_2[4+1]-x3_2[4-1], x3_2[4+2]-x3_2[4-2], x3_2[4+3]-x3_2[4-3], x3_2[4+4]-x3_2[4-4])\n",
    "print ('dist:',y3_2[4+1]-y3_2[4-1], y3_2[4+2]-y3_2[4-2], y3_2[4+3]-y3_2[4-3], y3_2[4+4]-y3_2[4-4])"
   ]
  },
  {
   "cell_type": "code",
   "execution_count": 59,
   "metadata": {},
   "outputs": [],
   "source": [
    "r_ice = dsk.r_arr[4:]\n",
    "for i in range (1):\n",
    "    fig = plt.figure()\n",
    "    ax1 = fig.add_subplot(111)\n",
    "    ax1.plot(r_p/var.au,M_p/(var.M_earth),linewidth = 4.0)\n",
    "\n",
    "\n",
    "    ax1.set_xlabel(r'Distance [AU]',fontsize = fsize,fontweight = 'bold')\n",
    "    ax1.set_title(r'$\\Delta r$ $\\Delta M_{z}$ $\\Delta z =$ [M$_{Earth}$]',fontsize = 30,fontweight = 'bold')\n",
    "    ax1.set_ylim(-2,22)\n",
    "    ax1.set_xlim(-2,37)\n",
    "    ax1.vlines(x=r_ice[-1]/var.au,ymin=-16,ymax=116,color='black',linestyles='dashed')\n",
    "    ax1.vlines(x=r_ice[-2]/var.au,ymin=-16,ymax=116,color='black',linestyles='dashed')\n",
    "    ax1.vlines(x=r_ice[-3]/var.au,ymin=-16,ymax=116,color='black',linestyles='dashed')\n",
    "    \n",
    "    #plt.plot(y1_2[4], x1_2[4], '.',markersize=10,color = 'red')\n",
    "    #ax1.vlines(x=y1_2[4],ymin=x1_2[4-i],ymax=x1_2[4+i],color = 'black',linewidth = 3.0)\n",
    "    #ax1.hlines(y=x1_2[4],xmin=y1_2[4-i],xmax=y1_2[4+i],color = 'black',linewidth = 3.0)\n",
    "    \n",
    "    plt.plot(y2_2[4], x2_2[4], '*',markersize=15,color = 'red')\n",
    "    ax1.vlines(x=y2_2[4],ymin=x2_2[4-i],ymax=x2_2[4+i],color = 'black',linewidth = 3.0)\n",
    "    ax1.hlines(y=x2_2[4],xmin=y2_2[4-i],xmax=y2_2[4+i],color = 'black',linewidth = 3.0)\n",
    "    \n",
    "    \n",
    "    #plt.plot(y3_2[4], x3_2[4], '.',markersize=10,color = 'red')\n",
    "    #ax1.vlines(x=y3_2[4],ymin=x3_2[4-i],ymax=x3_2[4+i],color = 'black',linewidth = 3.0)\n",
    "    #ax1.hlines(y=x3_2[4],xmin=y3_2[4-i],xmax=y3_2[4+i],color = 'black',linewidth = 3.0)\n",
    "    \n",
    "    #plt.text(0.18,0.6, r'$\\Delta m = 2 M_{earth}$',fontsize = 28)\n",
    "    #plt.text(0.27,0.71, r'$\\Delta$ r = 2 AU$')\n",
    "    #plt.text(0.42,0.71, r'\\Delta$ m = 2 M_{earth}')\n",
    "    #plt.text(0.8,0.71, r'$\\Delta$ r = 2 AU$')\n",
    "    #plt.text(3,0.7, r'\\Delta$ m = 2 $M_{earth}$')\n",
    "    #plt.text(10,0.87, r'$\\Delta$ r = 2 AU')\n",
    "    #plt.text(35,0.98, r'\\Delta$ z = 2 ')\n",
    "\n",
    "#plt.yscale('log')\n",
    "#plt.xscale('log')"
   ]
  },
  {
   "cell_type": "markdown",
   "metadata": {},
   "source": [
    "# Delta z and Delta M"
   ]
  },
  {
   "cell_type": "code",
   "execution_count": 53,
   "metadata": {},
   "outputs": [
    {
     "name": "stdout",
     "output_type": "stream",
     "text": [
      "[1.12201845 1.34896288 1.58489319 3.16227766]\n"
     ]
    },
    {
     "data": {
      "text/plain": [
       "(0.98, 1.2698314618796185)"
      ]
     },
     "execution_count": 53,
     "metadata": {},
     "output_type": "execute_result"
    }
   ],
   "source": [
    "M_av = 15.1974\n",
    "nH= 1e12\n",
    "nA = 6.02e23\n",
    "dz= np.arange(0.0,0.1,0.001) \n",
    "dm= 10**dz\n",
    "dz_p=np.array([0.05, 0.13, 0.2, 0.5])\n",
    "dm_p=10**dz_p\n",
    "print (dm_p)\n",
    "fig, ax1 = plt.subplots()\n",
    "ax1.plot(dz,dm, linewidth = 3.0)\n",
    "ax1.plot(dz_p[0],dm_p[0],\".\",markersize=20)\n",
    "\n",
    "ax1.hlines(y=dm_p[0],xmin=-0.005,xmax=dz_p[0],linestyles='dashdot',color = 'black',linewidth = 3.0)\n",
    "\n",
    "ax1.vlines(x=dz_p[0],ymin=0.98,ymax=dm_p[0],linestyles='dashdot',color = 'black',linewidth = 3.0)\n",
    "\n",
    "ax1.tick_params(size=7,width=5)\n",
    "ax1.set_xlabel(r'$\\Delta$Metallicity',fontsize = 45,fontweight = 'bold')\n",
    "ax1.set_ylabel(r'$M_{z,1}/M{z_2}$',fontsize = 45,fontweight = 'bold')\n",
    "#plt.xscale('log')\n",
    "#plt.yscale('log')\n",
    "\n",
    "ax1.set_xlim(-0.005)\n",
    "ax1.set_ylim(0.98)"
   ]
  },
  {
   "cell_type": "code",
   "execution_count": 60,
   "metadata": {},
   "outputs": [
    {
     "name": "stdout",
     "output_type": "stream",
     "text": [
      "[[False False False False False False False  True]\n",
      " [False False False False False False  True  True]\n",
      " [False False False False  True  True  True  True]\n",
      " [ True  True  True  True  True  True  True  True]]\n"
     ]
    }
   ],
   "source": [
    "import matplotlib.pyplot as plt\n",
    "import numpy as np\n",
    "\n",
    "plt.rcParams[\"figure.figsize\"] = [7.50, 3.50]\n",
    "plt.rcParams[\"figure.autolayout\"] = True\n",
    "\n",
    "#data = np.random.random((4, 8)) > 0.5\n",
    "data = np.array([[False, False, False, False, False, False, False, True],\n",
    "                 [False, False, False, False, False, False, True, True],\n",
    "                 [False, False, False, False, True, True, True, True],\n",
    "                 [True, True, True, True, True, True, True, True]])\n",
    "print (data)\n",
    "fig = plt.figure()\n",
    "ax = fig.add_subplot(111)\n",
    "ax.imshow(data, aspect='auto', cmap=\"viridis\", interpolation='nearest')\n",
    "\n",
    "plt.show()"
   ]
  }
 ],
 "metadata": {
  "kernelspec": {
   "display_name": "Python 3",
   "language": "python",
   "name": "python3"
  },
  "language_info": {
   "codemirror_mode": {
    "name": "ipython",
    "version": 3
   },
   "file_extension": ".py",
   "mimetype": "text/x-python",
   "name": "python",
   "nbconvert_exporter": "python",
   "pygments_lexer": "ipython3",
   "version": "3.7.11"
  }
 },
 "nbformat": 4,
 "nbformat_minor": 4
}
