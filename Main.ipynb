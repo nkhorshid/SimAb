{
 "cells": [
  {
   "cell_type": "code",
   "execution_count": 1,
   "metadata": {},
   "outputs": [],
   "source": [
    "import numpy as np\n",
    "import variable as var\n",
    "import random\n",
    "from write import Write\n",
    "from chem1 import Chem\n",
    "from planet_m import Planet\n",
    "from disk import Disk"
   ]
  },
  {
   "cell_type": "code",
   "execution_count": 2,
   "metadata": {},
   "outputs": [],
   "source": [
    "# #loading a test file:\n",
    "# name = 'test1'\n",
    "# var.dst=var.dst+'Run'+str(7)+'/'+name+'.txt'#Values \n",
    "# data = np.loadtxt(var.dst,skiprows=3)"
   ]
  },
  {
   "cell_type": "code",
   "execution_count": 3,
   "metadata": {},
   "outputs": [],
   "source": [
    "#Running a single model:\n",
    "#Values \n",
    "var.M_c = 5.70579990952*var.M_earth   #Mass of the initial core in earth mass\n",
    "var.r_c = 50*var.au      #distance of the core to the star AU\n",
    "var.pls_r = 0.447445271234          #Planetesimal ratio of the solid\n",
    "var.dstg_r = 0.34730243318              #Dustgrain ratio of the solid    \n",
    "#var.r_f = 1*var.au\n",
    "#var.M_f = 50*var.M_earth"
   ]
  },
  {
   "cell_type": "code",
   "execution_count": 4,
   "metadata": {},
   "outputs": [],
   "source": [
    "var.con_pl=2\n",
    "var.n = 100\n",
    "var.dest = 'test.txt'\n",
    "var.c_dest ='test_ch.txt'\n",
    "plnt = Planet(var.con_pl)\n",
    "#plnt.run()\n",
    "#print var.dest"
   ]
  },
  {
   "cell_type": "code",
   "execution_count": 5,
   "metadata": {},
   "outputs": [],
   "source": [
    "plnt.run()\n",
    "#ch = Chem()\n",
    "#ch.run(var.con_chem)\n",
    "#ch.solaricity()\n",
    "plnt.disk.tempr(var.r_c)"
   ]
  },
  {
   "cell_type": "code",
   "execution_count": 6,
   "metadata": {},
   "outputs": [
    {
     "name": "stdout",
     "output_type": "stream",
     "text": [
      "Mass_i:\t5.70579990952 \t\tMass_f:  318.12926917559696 \t\tr_i:  50.0\n",
      "r_f:\t1.0\n",
      "dst_g:  0.34730243318 \t\tpls:  0.447445271234 \t\ttemp: 11.406090969076004\n",
      "metal:  1.5527824776664196 \tH:  1.0 \t\t\tHe:  0.9988970621398716\n",
      "Li:\t7.643110208797818 \tC:  3.8521471632721074 \t\tN:  1.1777797222991822\n",
      "O:\t5.11903756345655 \tNa: 7.64311020879782 \t\tMg:  6.658164038590168\n",
      "Al:\t7.33681669487461 \tSi:  7.643110208797816 \tS:  7.643110208797821\n",
      "K:\t7.643110208797822 \tFe:  6.928226515639167 \t\talpha:  0.106079101562\n"
     ]
    }
   ],
   "source": [
    "print 'Mass_i:\\t',var.M_c/var.M_earth,'\\t\\tMass_f: ',plnt.M/var.M_earth,'\\t\\tr_i: ',var.r_c/var.au\n",
    "print 'r_f:\\t',plnt.r/var.au\n",
    "print 'dst_g: ',var.dstg_r,'\\t\\tpls: ',var.pls_r,'\\t\\ttemp:',plnt.disk.T\n",
    "print 'metal: ',plnt.ch.mtl,'\\tH: ',plnt.ch.sol[0],'\\t\\t\\tHe: ',plnt.ch.sol[1]\n",
    "print 'Li:\\t',plnt.ch.sol[2],'\\tC: ',plnt.ch.sol[3],'\\t\\tN: ',plnt.ch.sol[4]\n",
    "print 'O:\\t',plnt.ch.sol[5],'\\tNa:',plnt.ch.sol[6],'\\t\\tMg: ',plnt.ch.sol[7]\n",
    "print 'Al:\\t',plnt.ch.sol[8],'\\tSi: ',plnt.ch.sol[9],'\\tS: ',plnt.ch.sol[10]\n",
    "print 'K:\\t',plnt.ch.sol[11],'\\tFe: ',plnt.ch.sol[12],'\\t\\talpha: ',plnt.C"
   ]
  },
  {
   "cell_type": "raw",
   "metadata": {},
   "source": [
    "# #Dealing with the chemistry:\n",
    "# ch = Chem()\n",
    "# ch.run(var.con_chem)\n",
    "# ch.solaricity()\n",
    "# print 'solaricity',ch.sol\n",
    "# print 'metalicity',ch.metal\n",
    "# print 'gas abundance',ch.ab_g\n",
    "# print 'solid abundance',ch.ab_d"
   ]
  },
  {
   "cell_type": "raw",
   "metadata": {},
   "source": [
    "# t_dest = var.dst + 'r_run_sum.txt'\n",
    "# w = Write(t_dest,2)\n",
    "# i = 0\n",
    "# \n",
    "# #Values \n",
    "# var.dstg_r = random.uniform(0,1)\n",
    "# var.pls_r = random.uniform(0,1)\n",
    "# \n",
    "# if var.dstg_r+var.pls_r<=1:\n",
    "#         \n",
    "#         \n",
    "#     var.M_c = (random.uniform(0,1)*15 +1)*var.M_earth\n",
    "#     [[1.32426897e+28 1.12714000e+27 0.00000000e+00 0.00000000e+00\n",
    "  8.71248758e+23 0.00000000e+00 0.00000000e+00 7.81448415e+22\n",
    "  1.72183549e+21 0.00000000e+00 0.00000000e+00 0.00000000e+00\n",
    "  4.50326205e+22]\n",
    " [1.40507050e+24 1.65053462e+17 1.54049898e+19 2.27689135e+24\n",
    "  1.54049898e+22 4.14749726e+24 1.57435610e+22 2.86939096e+23\n",
    "  2.27689135e+22 2.74242676e+23 1.19346350e+23 1.01571361e+21\n",
    "  2.38692699e+23]]var.r_c = (random.uniform(0,1)*19 +var.r_f/var.au)*var.au\n",
    "#     print var.M_c/var.M_earth\n",
    "#     \n",
    "#     plnt = Planet(var.con_pl)\n",
    "#     if plnt.check ==1:\n",
    "#         i += 1\n",
    "#         name = 'r_test'+str(i)\n",
    "#         var.dest = var.dst+'Run1/'+name+'.txt'\n",
    "#         var.c_dest = var.dst+'Run1/'+name+'_ch.txt'\n",
    "#         print '###########Running ',name\n",
    "#         \n",
    "#         plnt.run()\n",
    "#         ch = Chem()\n",
    "#         ch.run(var.con_chem)\n",
    "#         ch.solaricity()\n",
    "#         \n",
    "#         w.write(name+'\\t'+str(var.M_c)+'\\t'+str(plnt.M/var.M_earth)+'\\t'+str(var.r_c)+\n",
    "#                 '\\t'+str(plnt.r/var.au)+'\\t'+str(var.dstg_r)+'\\t'+str(var.pls_r)+\n",
    "#                 '\\t'+str(ch.metal)+'\\t'+str(ch.sol[0])+'\\t'+str(ch.sol[1])+'\\t'+\n",
    "#                 str(ch.sol[2])+'\\t'+str(ch.sol[3])+'\\t'+str(ch.sol[4])+'\\t'+\n",
    "#                 str(ch.sol[5])+'\\t'+str(ch.sol[6])+'\\t'+str(ch.sol[7])+'\\t'+\n",
    "#                 str(ch.sol[8])+'\\t'+str(ch.sol[9])+'\\t'+str(ch.sol[10])+'\\t'+\n",
    "#                 str(ch.sol[11])+'\\t'+str(ch.sol[12])+'\\n')\n",
    "#         print 'end of ', name\n",
    "#     elif plnt.check == 0:\n",
    "#         print 'this run can not be done'\n",
    "# else:\n",
    "#     print 'can not be'\n",
    "# w.close()"
   ]
  }
 ],
 "metadata": {
  "kernelspec": {
   "display_name": "Python 3",
   "language": "python",
   "name": "python3"
  },
  "language_info": {
   "codemirror_mode": {
    "name": "ipython",
    "version": 3
   },
   "file_extension": ".py",
   "mimetype": "text/x-python",
   "name": "python",
   "nbconvert_exporter": "python",
   "pygments_lexer": "ipython3",
   "version": "3.7.4"
  }
 },
 "nbformat": 4,
 "nbformat_minor": 2
}
