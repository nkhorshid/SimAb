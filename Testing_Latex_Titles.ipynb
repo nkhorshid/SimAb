{
 "cells": [
  {
   "cell_type": "code",
   "execution_count": 8,
   "metadata": {},
   "outputs": [],
   "source": [
    "import matplotlib.pyplot as plt\n",
    "import numpy as np"
   ]
  },
  {
   "cell_type": "code",
   "execution_count": 10,
   "metadata": {},
   "outputs": [],
   "source": [
    "'''plt.rcParams.update({\n",
    "    \"text.usetex\": True,\n",
    "    \"font.family\": \"sans-serif\",\n",
    "    \"font.sans-serif\": [\"Helvetica\"]})'''\n",
    "\n",
    "plt.rcParams['text.usetex'] = True\n"
   ]
  },
  {
   "cell_type": "code",
   "execution_count": 11,
   "metadata": {},
   "outputs": [],
   "source": [
    "xran = np.arange(0,10,0.01)\n",
    "yran = np.sin(xran)"
   ]
  },
  {
   "cell_type": "code",
   "execution_count": 15,
   "metadata": {},
   "outputs": [
    {
     "data": {
      "text/plain": [
       "Text(0, 0.5, 'Intensity [Flux]')"
      ]
     },
     "execution_count": 15,
     "metadata": {},
     "output_type": "execute_result"
    }
   ],
   "source": [
    "%matplotlib qt\n",
    "plt.plot(xran,yran)\n",
    "plt.title(r'Test',fontsize=30)\n",
    "plt.xlabel(r'$\\Phi$')\n",
    "plt.ylabel(r'Intensity [Flux]')"
   ]
  },
  {
   "cell_type": "markdown",
   "metadata": {},
   "source": [
    "\n",
    "# Test"
   ]
  },
  {
   "cell_type": "code",
   "execution_count": 1,
   "metadata": {},
   "outputs": [],
   "source": [
    "import numpy as np\n",
    "import matplotlib.pyplot as plt\n",
    "import variable as var\n",
    "from disk import Disk\n",
    "from chem import Chem\n",
    "import matplotlib.pylab as pylab\n",
    "import matplotlib.axes as ax\n",
    "\n",
    "\n",
    "from scipy.stats import spearmanr\n",
    "%matplotlib qt\n",
    "dsk = Disk()\n",
    "chm = Chem()\n",
    "font = {'family' : 'normal',\n",
    "        'weight' : 'bold',\n",
    "        'size'   : 22}\n",
    "\n",
    "pylab.rc('font', **font)"
   ]
  },
  {
   "cell_type": "code",
   "execution_count": 3,
   "metadata": {},
   "outputs": [
    {
     "name": "stdout",
     "output_type": "stream",
     "text": [
      "[ 0.24790943  0.25681085  0.32614839  0.34128238  0.35780877  0.50062951\n",
      "  0.67447689  0.81204281  0.90275687  3.62750936 12.48935045 32.27286169] \n",
      " [1600. 1550. 1250. 1200. 1150.  850.  650.  550.  500.  143.   47.   20.] \n",
      " [0.         0.00010307 0.00022804 0.00394425 0.00394425 0.0039924\n",
      " 0.00432644 0.00432644 0.00432644 0.00496161 0.00815426 0.01122122]\n",
      "\n",
      " [  0.24790943   0.25681085   0.32614839   0.34128238   0.35780877\n",
      "   0.50062951   0.67447689   0.81204281   0.90275687   3.62750936\n",
      "  12.48935045  32.27286169 100.        ] \n",
      " [1600.         1550.         1250.         1200.         1150.\n",
      "  850.          650.          550.          500.          143.\n",
      "   47.           20.            7.22742718] \n",
      " [0.         0.00010307 0.00022804 0.00394425 0.00394425 0.0039924\n",
      " 0.00432644 0.00432644 0.00432644 0.00496161 0.00815426 0.01122122\n",
      " 0.01122122]\n"
     ]
    },
    {
     "data": {
      "text/plain": [
       "[<matplotlib.lines.Line2D at 0x7f4d2d3c89d0>]"
      ]
     },
     "execution_count": 3,
     "metadata": {},
     "output_type": "execute_result"
    },
    {
     "data": {
      "image/png": "[encoded data removed]",
      "text/plain": [
       "<Figure size 432x288 with 1 Axes>"
      ]
     },
     "metadata": {
      "needs_background": "light"
     },
     "output_type": "display_data"
    }
   ],
   "source": [
    "dsk.calc_r()\n",
    "r_ice = dsk.r_arr\n",
    "dtg = dsk.dtg\n",
    "T = dsk.T_arr\n",
    "r = r_ice/var.au\n",
    "print (r,'\\n' ,T,'\\n',dtg)\n",
    "\n",
    "r = np.append (r,100)\n",
    "T100 = dsk.tempr(r[-1]*var.au)\n",
    "T = np.append(T,T100)\n",
    "dtg = np.append(dtg,dtg[-1])\n",
    "\n",
    "print ('\\n',r,'\\n' ,T,'\\n',dtg)\n",
    "\n",
    "plt.plot(T,dtg,'.')"
   ]
  },
  {
   "cell_type": "code",
   "execution_count": 4,
   "metadata": {},
   "outputs": [],
   "source": [
    "#Set zero\n",
    "r0 = np.arange(.05,100.,0.005)*var.au\n",
    "T0 = np.zeros_like(r0)\n",
    "dg0 = np.zeros_like(r0)\n",
    "ds0 = np.zeros_like(r0)\n",
    "dtg0 = np.zeros_like(r0)\n",
    "\n",
    "ch0 = np.zeros([len(r0),2,13])\n",
    "C_g0 = np.zeros_like(r0)\n",
    "C_d0 = np.zeros_like(r0)\n",
    "O_g0 = np.zeros_like(r0)\n",
    "O_d0 = np.zeros_like(r0)\n",
    "\n",
    "\n",
    "\n",
    "for i in range(len(r0)):\n",
    "    T0[i] = dsk.tempr(r0[i])\n",
    "    dg0[i],ds0[i] = dsk.dens_r(r0[i])\n",
    "    dtg0[i] = dsk.dTg\n",
    "    chm.chem(T0[i])\n",
    "    ch0[i,0] = chm.gas\n",
    "    ch0[i,1] =chm.sld"
   ]
  },
  {
   "cell_type": "code",
   "execution_count": 22,
   "metadata": {},
   "outputs": [],
   "source": [
    "name = 1\n",
    "#Load data:\n",
    "name_s = 'input/N_Atom.txt'\n",
    "solar = np.loadtxt(name_s,dtype= str)[0:, 5].astype(float)\n",
    "\n",
    "doc = 'Output/run_sum'+str(name)+'.txt'\n",
    "dat = np.loadtxt(doc, dtype = str, skiprows = 1)[0:,1:].astype(float)\n",
    "\n",
    "plt.figure()\n",
    "\n",
    "#plt.plot(dat[:,11],(dat[:,13]),'.')\n",
    "plt.scatter(dat[:,11],(dat[:,13]),c=dat[:,2], s = 10)\n",
    "plt.xlabel('Metalicity')\n",
    "plt.ylabel('C/O')\n",
    "plt.show()\n"
   ]
  },
  {
   "cell_type": "code",
   "execution_count": 25,
   "metadata": {},
   "outputs": [
    {
     "data": {
      "text/plain": [
       "[<matplotlib.lines.Line2D at 0x7f4d3793eb50>]"
      ]
     },
     "execution_count": 25,
     "metadata": {},
     "output_type": "execute_result"
    }
   ],
   "source": [
    "plt.figure()\n",
    "plt.plot(dat[:,11],dat[:,2],'.')"
   ]
  },
  {
   "cell_type": "code",
   "execution_count": 18,
   "metadata": {},
   "outputs": [
    {
     "name": "stderr",
     "output_type": "stream",
     "text": [
      "/home/niloo/anaconda3/lib/python3.7/site-packages/ipykernel_launcher.py:9: RuntimeWarning: invalid value encountered in true_divide\n",
      "  if __name__ == '__main__':\n",
      "/home/niloo/anaconda3/lib/python3.7/site-packages/ipykernel_launcher.py:13: RuntimeWarning: invalid value encountered in true_divide\n",
      "  del sys.path[0]\n"
     ]
    }
   ],
   "source": [
    "#C/O ratio\n",
    "%matplotlib qt\n",
    "fig, ax1 = plt.subplots()\n",
    "\n",
    "#plt.plot(dat[:,2],dat[:,11]*solar[3]/(dat[:,13]*solar[5]),'.')\n",
    "plt.scatter(dat[:,5],dat[:,11]*solar[3]/(dat[:,13]*solar[5]),c=dat[:,2], s = 10)\n",
    "#Plot the gas C/O\n",
    "color = 'tab:red'\n",
    "ax1.step(r0/var.au,ch0[:,0,3]/ch0[:,0,5], color=color, label = ' C/O (Gas) ', linewidth = 4.0)\n",
    "\n",
    "#Plot the solid C/O\n",
    "color = 'tab:green'\n",
    "ax1.step(r0/var.au,ch0[:,1,3]/ch0[:,1,5]  ,color=color, label = ' C/O (Solid) ', linewidth = 4.0 )\n",
    "\n",
    "\n",
    "\n",
    "\n",
    "#Axis\n",
    "#plt.title('Mg/O')\n",
    "ax1.tick_params(size=5,width=2)\n",
    "ax1.set_xlabel(r'distance [AU]')\n",
    "ax1.set_ylabel(r'c/o')\n",
    "#plt.xscale('log')\n",
    "plt.legend()\n",
    "plt.show()"
   ]
  }
 ],
 "metadata": {
  "kernelspec": {
   "display_name": "Python 3",
   "language": "python",
   "name": "python3"
  },
  "language_info": {
   "codemirror_mode": {
    "name": "ipython",
    "version": 3
   },
   "file_extension": ".py",
   "mimetype": "text/x-python",
   "name": "python",
   "nbconvert_exporter": "python",
   "pygments_lexer": "ipython3",
   "version": "3.7.4"
  }
 },
 "nbformat": 4,
 "nbformat_minor": 4
}
