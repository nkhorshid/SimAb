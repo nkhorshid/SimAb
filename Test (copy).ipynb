{
 "cells": [
  {
   "cell_type": "code",
   "execution_count": 2,
   "metadata": {},
   "outputs": [],
   "source": [
    "import numpy as np\n",
    "from disk import Disk\n",
    "import random\n",
    "import variable as var\n",
    "from planet_m import Planet\n",
    "from write import Write\n",
    "from chem import Chem\n",
    "import matplotlib.pyplot as plt\n",
    "from disk import Disk"
   ]
  },
  {
   "cell_type": "markdown",
   "metadata": {},
   "source": [
    "# Getting the R at which chemistry changes:"
   ]
  },
  {
   "cell_type": "code",
   "execution_count": 4,
   "metadata": {},
   "outputs": [
    {
     "name": "stdout",
     "output_type": "stream",
     "text": [
      "[ 0.24790943  0.31224055  0.46982344  0.62116405  0.90275687  3.62750936\n",
      " 12.48935045 32.27286169]\n"
     ]
    }
   ],
   "source": [
    "dsk = Disk()\n",
    "dsk.calc_r()\n",
    "print (dsk.r_arr/var.au)"
   ]
  },
  {
   "cell_type": "markdown",
   "metadata": {},
   "source": [
    "## Checking dTg:"
   ]
  },
  {
   "cell_type": "code",
   "execution_count": 5,
   "metadata": {},
   "outputs": [
    {
     "ename": "SyntaxError",
     "evalue": "Missing parentheses in call to 'print'. Did you mean print(dsk.dTg)? (<ipython-input-5-9b8e04968be1>, line 6)",
     "output_type": "error",
     "traceback": [
      "\u001b[1;36m  File \u001b[1;32m\"<ipython-input-5-9b8e04968be1>\"\u001b[1;36m, line \u001b[1;32m6\u001b[0m\n\u001b[1;33m    print dsk.dTg\u001b[0m\n\u001b[1;37m          ^\u001b[0m\n\u001b[1;31mSyntaxError\u001b[0m\u001b[1;31m:\u001b[0m Missing parentheses in call to 'print'. Did you mean print(dsk.dTg)?\n"
     ]
    }
   ],
   "source": [
    "dsk = Disk()\n",
    "dsk.calc_r()\n",
    "r = 0.18844367*var.au\n",
    "dsk.evolve(r)\n",
    "\n",
    "print dsk.dTg\n",
    "print dsk.T\n",
    "print dsk.dns\n",
    "print dsk.dtg\n",
    "print dsk.T_arr[-4:-1]"
   ]
  },
  {
   "cell_type": "code",
   "execution_count": 6,
   "metadata": {},
   "outputs": [
    {
     "ename": "NameError",
     "evalue": "name 'atm_T' is not defined",
     "output_type": "error",
     "traceback": [
      "\u001b[1;31m---------------------------------------------------------------------------\u001b[0m",
      "\u001b[1;31mNameError\u001b[0m                                 Traceback (most recent call last)",
      "\u001b[1;32m<ipython-input-6-3d44bbdef22a>\u001b[0m in \u001b[0;36m<module>\u001b[1;34m\u001b[0m\n\u001b[0;32m      2\u001b[0m r = np.array([0. , 0.18844368,  0.63734021, 0.84491654,  1.25006658,  6.13921914,\n\u001b[0;32m      3\u001b[0m               18.27140466, 49.94535326])\n\u001b[1;32m----> 4\u001b[1;33m \u001b[0mind\u001b[0m \u001b[1;33m=\u001b[0m \u001b[1;33m[\u001b[0m\u001b[1;33m(\u001b[0m\u001b[0md\u001b[0m\u001b[1;33m<\u001b[0m\u001b[0mr\u001b[0m\u001b[1;33m)\u001b[0m \u001b[1;33m&\u001b[0m \u001b[1;33m(\u001b[0m\u001b[0matm_T\u001b[0m\u001b[1;33m>\u001b[0m\u001b[1;33m(\u001b[0m\u001b[0mT\u001b[0m\u001b[1;33m-\u001b[0m\u001b[1;36m50\u001b[0m\u001b[1;33m)\u001b[0m\u001b[1;33m)\u001b[0m \u001b[1;33m|\u001b[0m \u001b[1;33m(\u001b[0m\u001b[0matm_T\u001b[0m \u001b[1;33m==\u001b[0m \u001b[0mT\u001b[0m\u001b[1;33m)\u001b[0m\u001b[1;33m]\u001b[0m\u001b[1;33m\u001b[0m\u001b[1;33m\u001b[0m\u001b[0m\n\u001b[0m",
      "\u001b[1;31mNameError\u001b[0m: name 'atm_T' is not defined"
     ]
    }
   ],
   "source": [
    "d = 1\n",
    "r = np.array([0. , 0.18844368,  0.63734021, 0.84491654,  1.25006658,  6.13921914,\n",
    "              18.27140466, 49.94535326])\n",
    "ind = [(d<r) & (atm_T>(T-50)) | (atm_T == T)]"
   ]
  },
  {
   "cell_type": "code",
   "execution_count": null,
   "metadata": {},
   "outputs": [],
   "source": [
    "import numpy as np\n",
    "def find_nearest(array, value):\n",
    "    array = np.asarray(array)\n",
    "    idx = (np.abs(array - value)).argmin()\n",
    "    if array[idx]> value:\n",
    "        idx = idx-1\n",
    "    return array[idx]\n",
    "array = np.array([0. , 0.18844368,  0.63734021, 0.84491654,  1.25006658,  6.13921914,\n",
    "              18.27140466, 49.94535326])\n",
    "\n",
    "value = 0.6\n",
    "\n",
    "print(find_nearest(array, value))"
   ]
  },
  {
   "cell_type": "code",
   "execution_count": null,
   "metadata": {},
   "outputs": [],
   "source": [
    "  \n",
    "       \n",
    "       \n",
    "if T>1550:\n",
    "    ind[0][22] = True\n",
    "n = np.where(ind[0] == True)\n",
    "self.gas = dat[n[0][0]+1,1:].astype(float)\n",
    "        \n",
    "self.sld = self.solar - self.gas"
   ]
  },
  {
   "cell_type": "code",
   "execution_count": null,
   "metadata": {},
   "outputs": [],
   "source": [
    "dsk = Disk()\n",
    "print dsk.calc_r()/var.au"
   ]
  },
  {
   "cell_type": "code",
   "execution_count": null,
   "metadata": {},
   "outputs": [],
   "source": [
    "ch = Chem()\n",
    "T = np.array([550.,540.,530.,520.,510.,500.,499.])\n",
    "dTg = np.zeros_like(T)\n",
    "\n",
    "for i in range (T.shape[0]):\n",
    "    dTg[i] = ch.dTg(T[i])\n",
    "    \n",
    "print dTg"
   ]
  },
  {
   "cell_type": "code",
   "execution_count": 5,
   "metadata": {},
   "outputs": [
    {
     "data": {
      "image/png": "[encoded data removed]",
      "text/plain": [
       "<Figure size 432x288 with 1 Axes>"
      ]
     },
     "metadata": {
      "needs_background": "light"
     },
     "output_type": "display_data"
    }
   ],
   "source": [
    "plt.figure()\n",
    "plt.plot(dsk.dtg,'.')\n",
    "plt.show()"
   ]
  },
  {
   "cell_type": "markdown",
   "metadata": {},
   "source": [
    "## Test:"
   ]
  },
  {
   "cell_type": "code",
   "execution_count": null,
   "metadata": {},
   "outputs": [],
   "source": [
    "a = np.array([1,2,3,4])\n",
    "print a\n",
    "\n",
    "b = 2\n",
    "\n",
    "print (a>b).any()"
   ]
  },
  {
   "cell_type": "code",
   "execution_count": null,
   "metadata": {},
   "outputs": [],
   "source": [
    "\n",
    "r_ice = np.array([0., 0.11296902, 0.38207542, 0.50651416, 0.74939523, 3.68036518, \n",
    "                  10.95341933, 29.94145266])\n",
    "r = 0.3\n",
    "rh = 1\n",
    "\n",
    "n = np.where(abs(r - r_ice) < rh)[0][0]\n",
    "print (abs(r - r_ice) < rh)\n",
    "print r_ice[n]\n",
    "\n",
    "\n",
    "if (abs(r - r_ice) < rh).any():\n",
    "    print (abs(r - r_ice) < rh).any()"
   ]
  },
  {
   "cell_type": "code",
   "execution_count": null,
   "metadata": {},
   "outputs": [],
   "source": [
    "def test():\n",
    "    a = 1+2\n",
    "    return a\n",
    "\n",
    "test()\n",
    "print 5"
   ]
  },
  {
   "cell_type": "code",
   "execution_count": null,
   "metadata": {},
   "outputs": [],
   "source": [
    "#Test np,.add\n",
    "np.add(1.0, 4.0)\n",
    "#5.0\n",
    "x1 = np.arange(9.0).reshape((3, 3))\n",
    "\n",
    "print np.add(x1, x1)\n",
    "\n",
    "print x1\n",
    "print x1\n"
   ]
  },
  {
   "cell_type": "code",
   "execution_count": null,
   "metadata": {},
   "outputs": [],
   "source": [
    "a = np.array([0,1,2,3])\n",
    "b = np.zeros_like(a)\n",
    "c = np.sum(a)\n",
    "print a, b,c"
   ]
  },
  {
   "cell_type": "code",
   "execution_count": null,
   "metadata": {},
   "outputs": [],
   "source": [
    "import matplotlib.pyplot as plt\n",
    "import numpy as np\n",
    "#%matplotlib inline \n",
    "%matplotlib qt\n",
    "# wx, gtk, osx, tk, empty uses default\n",
    "\n",
    "# Some example data to display\n",
    "x = np.linspace(0, 2 * np.pi, 400)\n",
    "y = np.sin(x ** 2)\n",
    "\n",
    "fig, ((ax1, ax2, ax3), (ax4, ax5, ax6), (ax7,ax8,ax9)) = plt.subplots(3, 3)\n",
    "fig.suptitle('Sharing x per column, y per row')\n",
    "ax1.plot(x, y)\n",
    "ax2.plot(x, y**2, 'tab:orange')\n",
    "ax3.plot(x, -y, 'tab:green')\n",
    "ax4.plot(x, -y**2, 'tab:red')\n",
    "ax5.plot(x, y)\n",
    "ax6.plot(x, y)\n",
    "ax7.plot(x, y)\n",
    "ax8.plot(x, y)\n",
    "ax9.plot(x, y)\n",
    "\n",
    "for ax in fig.get_axes():\n",
    "    ax.label_outer()\n",
    "\n",
    "plt.show()\n"
   ]
  },
  {
   "cell_type": "markdown",
   "metadata": {},
   "source": [
    "## Plot with two x axis"
   ]
  },
  {
   "cell_type": "code",
   "execution_count": 2,
   "metadata": {},
   "outputs": [
    {
     "data": {
      "image/png": "[encoded data removed]",
      "text/plain": [
       "<Figure size 432x288 with 2 Axes>"
      ]
     },
     "metadata": {
      "needs_background": "light"
     },
     "output_type": "display_data"
    }
   ],
   "source": [
    "import numpy as np\n",
    "import matplotlib.pyplot as plt\n",
    "\n",
    "fig = plt.figure()\n",
    "ax1 = fig.add_subplot(111)\n",
    "ax2 = ax1.twiny()\n",
    "\n",
    "X = np.linspace(0,1,1000)\n",
    "Y = np.cos(X*20)\n",
    "\n",
    "ax1.plot(X,Y)\n",
    "ax1.set_xlabel(r\"Original x-axis: $X$\")\n",
    "\n",
    "new_tick_locations = np.array([.2, .5, .9])\n",
    "\n",
    "def tick_function(X):\n",
    "    V = 1/(1+X)\n",
    "    return [\"%.3f\" % z for z in V]\n",
    "\n",
    "ax2.set_xlim(ax1.get_xlim())\n",
    "ax2.set_xticks(new_tick_locations)\n",
    "ax2.set_xticklabels(tick_function(new_tick_locations))\n",
    "ax2.set_xlabel(r\"Modified x-axis: $1/(1+X)$\")\n",
    "plt.show()"
   ]
  },
  {
   "cell_type": "markdown",
   "metadata": {},
   "source": [
    "## Step plot"
   ]
  },
  {
   "cell_type": "code",
   "execution_count": 4,
   "metadata": {},
   "outputs": [
    {
     "data": {
      "image/png": "[encoded data removed]",
      "text/plain": [
       "<Figure size 432x288 with 1 Axes>"
      ]
     },
     "metadata": {
      "needs_background": "light"
     },
     "output_type": "display_data"
    }
   ],
   "source": [
    "%matplotlib inline\n",
    "from matplotlib import pylab as plt\n",
    "# make some date\n",
    "x =  [0, 10, 20, 30, 40]\n",
    "y =  [0, 10, 20, 30, 40]\n",
    "\n",
    "# disregard, this is my personal \"make pretty\" function\n",
    "#fig, ax = myfig()\n",
    "\n",
    "# plot out the options\n",
    "plt.plot(x, y, drawstyle='steps', linestyle='-', label='steps-pre aka steps', alpha=0.5,)\n",
    "plt.plot(x, y, drawstyle='steps-mid', linestyle='--', label='steps-mid', alpha=0.5,)\n",
    "plt.plot(x, y, drawstyle='steps-post', linestyle=':', label='steps-post', alpha=0.5,)\n",
    "plt.xlim([0,45])\n",
    "plt.legend(loc='upper left')\n",
    "plt.show()"
   ]
  }
 ],
 "metadata": {
  "kernelspec": {
   "display_name": "Python 3",
   "language": "python",
   "name": "python3"
  },
  "language_info": {
   "codemirror_mode": {
    "name": "ipython",
    "version": 3
   },
   "file_extension": ".py",
   "mimetype": "text/x-python",
   "name": "python",
   "nbconvert_exporter": "python",
   "pygments_lexer": "ipython3",
   "version": "3.7.4"
  }
 },
 "nbformat": 4,
 "nbformat_minor": 2
}
