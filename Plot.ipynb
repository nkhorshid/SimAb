{
 "cells": [
  {
   "cell_type": "code",
   "execution_count": 24,
   "metadata": {},
   "outputs": [],
   "source": [
    "import numpy as np\n",
    "import matplotlib.pyplot as plt\n",
    "import variable as var\n",
    "from disk import Disk\n",
    "from chem import Chem\n",
    "import matplotlib.pylab as pylab\n",
    "import matplotlib.axes as ax\n",
    "\n",
    "\n",
    "from scipy.stats import spearmanr\n",
    "%matplotlib qt\n",
    "dsk = Disk()\n",
    "chm = Chem()\n",
    "font = {'family' : 'normal',\n",
    "        'weight' : 'bold',\n",
    "        'size'   : 45}\n",
    "\n",
    "pylab.rc('font', **font)"
   ]
  },
  {
   "cell_type": "code",
   "execution_count": 25,
   "metadata": {},
   "outputs": [],
   "source": [
    "#functions:\n",
    "def scatter(x,y,z,xlabel = '',ylabel='',clabel = '',title = ''):\n",
    "    fig, ax = plt.subplots()\n",
    "    #plt.figure(figsize=(15,8))\n",
    "    im = ax.scatter(x,y,c=z, s = 10)\n",
    "    #,norm=matplotlib.colors.LogNorm())\n",
    "    ax.set_xlabel(xlabel, fontsize = 45,fontweight = 'bold')\n",
    "    ax.set_ylabel(ylabel, fontsize = 45,fontweight = 'bold')\n",
    "    plt.title(title, fontsize=45, fontweight = 'bold')\n",
    "    ax.tick_params(size=7,width=5)\n",
    "    #ax1.set_xlabel(r'distance [AU]')\n",
    "    #ax1.set_ylabel(r'c/o')\n",
    "    cb = plt.colorbar(im)\n",
    "    #cb.set_label(label= clabel,weight='bold', size = 35)\n",
    "    #, orientation=\"horizontal\")\n",
    "    #plt.show()\n",
    "\n",
    "def plot(x,y,xlabel = '',ylabel='',title = ''):\n",
    "    plt.figure()\n",
    "    plt.plot(x,y,'.')\n",
    "    plt.xlabel(xlabel)\n",
    "    plt.ylabel(ylabel)\n",
    "    plt.title(title)\n",
    "    #plt.show()\n"
   ]
  },
  {
   "cell_type": "code",
   "execution_count": 26,
   "metadata": {},
   "outputs": [],
   "source": [
    "#Inputs:\n",
    "name0 = 12\n",
    "name1= 13"
   ]
  },
  {
   "cell_type": "code",
   "execution_count": 27,
   "metadata": {},
   "outputs": [],
   "source": [
    "#Load data:\n",
    "name_s = 'input/N_Atom.txt'\n",
    "solar = np.loadtxt(name_s,dtype= str)[0:, 5].astype(float)\n",
    "\n",
    "doc0 = 'Output/run_sum'+str(name0)+'.txt'\n",
    "doc1 = 'Output/run_sum'+str(name1)+'.txt'\n",
    "\n",
    "dat0 = np.loadtxt(doc0, dtype = str, skiprows = 1)[0:,1:].astype(float)\n",
    "dat1 = np.loadtxt(doc1, dtype = str, skiprows = 1)[0:,1:].astype(float)"
   ]
  },
  {
   "cell_type": "markdown",
   "metadata": {},
   "source": [
    "## Compare multiple data:"
   ]
  },
  {
   "cell_type": "code",
   "execution_count": 28,
   "metadata": {},
   "outputs": [],
   "source": [
    "#Overview plot data\n",
    "%matplotlib qt\n",
    "#plt.figure()\n",
    "\n",
    "P0 = dat0\n",
    "P1 = dat1\n",
    "\n",
    "plt.figure()\n",
    "\n",
    "plt.plot(P0[:,7],P0[:,11]*solar[3]/(P0[:,13]*solar[5]),'.')\n",
    "plt.plot(P1[:,7],P1[:,11]*solar[3]/(P1[:,13]*solar[5]),'.')\n",
    "\n",
    "\n",
    "plt.xlabel('Metalicity')\n",
    "plt.ylabel('C/O')\n",
    "plt.show()"
   ]
  },
  {
   "cell_type": "code",
   "execution_count": 29,
   "metadata": {},
   "outputs": [
    {
     "data": {
      "text/plain": [
       "[<matplotlib.lines.Line2D at 0x7f08446cfa90>]"
      ]
     },
     "execution_count": 29,
     "metadata": {},
     "output_type": "execute_result"
    }
   ],
   "source": [
    "#calculate alpha:\n",
    "c0=dat0[:,-1]\n",
    "a0=(3/(20.*c0))**(5./6)*0.1\n",
    "\n",
    "c1=dat1[:,-1]\n",
    "a1=(3/(20.*c1))**(5./6)*0.1\n",
    "\n",
    "plt.plot(a1,'.')\n",
    "plt.plot(a0,'.')"
   ]
  },
  {
   "cell_type": "code",
   "execution_count": 30,
   "metadata": {},
   "outputs": [],
   "source": [
    "#remove data with alpha more than 1:\n",
    "%matplotlib qt\n",
    "\n",
    "c1_0 =np.where((a1<=1))\n",
    "c0_0 =np.where((a0<=1))\n",
    "\n",
    "datc1_0 = np.copy(dat1[c1_0])\n",
    "datc0_0 = np.copy(dat0[c0_0])\n",
    "P0 = datc0_0\n",
    "P1 = datc1_0\n",
    "\n",
    "plt.figure()\n",
    "\n",
    "plt.plot(P0[:,7],P0[:,11]*solar[3]/(P0[:,13]*solar[5]),'.')\n",
    "plt.plot(P1[:,7],P1[:,11]*solar[3]/(P1[:,13]*solar[5]),'.')\n",
    "\n",
    "\n",
    "plt.xlabel('Metalicity')\n",
    "plt.ylabel('C/O')\n",
    "plt.show()"
   ]
  },
  {
   "cell_type": "markdown",
   "metadata": {},
   "source": [
    "# Individual data:"
   ]
  },
  {
   "cell_type": "code",
   "execution_count": 31,
   "metadata": {},
   "outputs": [
    {
     "name": "stdout",
     "output_type": "stream",
     "text": [
      "0.26220703125\n"
     ]
    }
   ],
   "source": [
    "dat = dat1\n",
    "C = dat[:,-1]\n",
    "print (C[1])\n"
   ]
  },
  {
   "cell_type": "code",
   "execution_count": 32,
   "metadata": {},
   "outputs": [],
   "source": [
    "#Plot regions:\n",
    "#%matplotlib qt\n",
    "r_min = 29.3\n",
    "r_max = 29.5\n",
    "\n",
    "gn =np.where((dat[:,2]<=r_max)&(dat[:,2]>r_min))\n",
    "datn = np.copy(dat[gn])\n",
    "\n",
    "plt.plot(dat[:,7],dat[:,11]*solar[3]/((dat[:,13])*solar[5]),'.',alpha = 0.75,label = 'Region 4')\n",
    "plt.plot(datn[:,7],datn[:,11]*solar[3]/((datn[:,13])*solar[5]),'.',alpha = 0.75,label = 'Region 4')\n",
    "\n",
    "\n",
    "plt.legend()\n",
    "plt.xlabel('Metalicity', fontsize = 22,fontweight = 'bold')\n",
    "plt.ylabel('C/O', fontsize = 22,fontweight = 'bold')\n",
    "#plt.title(title)\n",
    "plt.show()"
   ]
  },
  {
   "cell_type": "code",
   "execution_count": 34,
   "metadata": {},
   "outputs": [
    {
     "name": "stderr",
     "output_type": "stream",
     "text": [
      "findfont: Font family ['normal'] not found. Falling back to DejaVu Sans.\n"
     ]
    }
   ],
   "source": [
    "#M_c,M_fin,a_c,a_fin,dstg_r,pls_r,temperature,metalicity,H,He,Li,C,N,O,Na,Mg,Al,Si,S,K,Fe\n",
    "\n",
    "\n",
    "data = dat\n",
    "tpe = '0'\n",
    "a = data[:,11]*solar[3]/(data[:,13]*solar[5])\n",
    "plt.figure()\n",
    "plt.title('C/O group'+tpe)\n",
    "plt.hist(a, bins=100)\n",
    "plt.show()\n",
    "\n",
    "plt.figure()\n",
    "plt.title('metalicity group'+tpe)\n",
    "plt.hist(data[:,7], bins=100)\n",
    "plt.show()"
   ]
  },
  {
   "cell_type": "code",
   "execution_count": 37,
   "metadata": {},
   "outputs": [
    {
     "name": "stdout",
     "output_type": "stream",
     "text": [
      "[ 0.35780877  0.50062951  0.67447689  0.81204281  0.90275687  3.62750936\n",
      " 12.48935045 32.27286169]\n"
     ]
    },
    {
     "name": "stderr",
     "output_type": "stream",
     "text": [
      "findfont: Font family ['normal'] not found. Falling back to DejaVu Sans.\n"
     ]
    }
   ],
   "source": [
    "#set the data you want to plot:\n",
    "dat = dat0\n",
    "#Plot regions:\n",
    "%matplotlib qt\n",
    "#c1 = np.array([0.81,4.4,10,12,20,25,32.27,35,40])\n",
    "\n",
    "#c1 = np.array([0.74939523,3.68036518, 10.95341933, 29.94145266])\n",
    "c = dsk.r_arr[4:]/var.au\n",
    "t = dsk.T_arr[4:]\n",
    "print (c)\n",
    "#c[1] = c[0]\n",
    "#c[0] = 0.34\n",
    "#c[3] = c[3]-0.9\n",
    "#gn = np.where((dat[:,11]*solar[3]/(dat[:,13]*solar[5]))<=0.92)\n",
    "gn = np.where(dat[:,5]<=0.0001)\n",
    "#dat= np.copy(dat[gn])\n",
    "g0 =np.where((dat[:,2]<=0))\n",
    "g1 =np.where((dat[:,2]<=c[-3])&(dat[:,2]>0))\n",
    "g2 =np.where((dat[:,2]<=c[-2])&(dat[:,2]>c[-3]))\n",
    "g3 =np.where((dat[:,2]<=c[-1])&(dat[:,2]>c[-2]))\n",
    "g4 =np.where((dat[:,2]>c[-1]))\n",
    "\n",
    "\n",
    "#a4 = (1/(datg4[:,21]*3*0.1**(1.1)))**(1/2.1)*0.1\n",
    "\n",
    "\n",
    "datg0 = np.copy(dat[g0])\n",
    "datg1 = np.copy(dat[g1])\n",
    "datg2 = np.copy(dat[g2])\n",
    "datg3 = np.copy(dat[g3])\n",
    "datg4 = np.copy(dat[g4])\n",
    "\n",
    "#a4= 1/(3*datg4[:,21])\n",
    "#b0 = np.where((a4>=1))\n",
    "#b1 = np.where((a4<1))\n",
    "#datb0 = np.copy(datg4[b0])\n",
    "#datb1 = np.copy(datg4[b1])\n",
    "\n",
    "\n",
    "\n",
    "\n",
    "\n",
    "plt.figure()\n",
    "plt.plot(datg4[:,7],datg4[:,11]*solar[3]/(datg4[:,13]*solar[5]),'b.',alpha = 0.75,label = 'Region 4')\n",
    "plt.plot(datg3[:,7],datg3[:,11]*solar[3]/(datg3[:,13]*solar[5]),'r.',alpha = 0.75,label = 'Region 3')\n",
    "plt.plot(datg2[:,7],datg2[:,11]*solar[3]/(datg2[:,13]*solar[5]),'k.',alpha = 0.75, label ='Region 2')\n",
    "#plt.plot(datg1[:,7],datg1[:,11]*solar[3]/(datg1[:,13]*solar[5]),'k.', label = 'Region 1')\n",
    "plt.plot(datg1[:,7],datg1[:,11]*solar[3]/(datg1[:,13]*solar[5]),'.', color = 'cyan', label = 'Region 0')\n",
    "#plt.plot(datg0[:,7],datg0[:,11]*solar[3]/(datg0[:,13]*solar[5]),'r.',alpha = 0.75, label = 'Region 0')\n",
    "\n",
    "#plt.plot(datb0[:,7],datb0[:,11]*solar[3]/((datb0[:,13])*solar[5]),'b.',alpha = 0.75,label = 'Region not')\n",
    "#plt.plot(datb1[:,7],datb1[:,11]*solar[3]/((datb1[:,13])*solar[5]),'r.',alpha = 0.75,label = 'Region not')\n",
    "plt.axhline(y=0.55,color='black')\n",
    "plt.axvline(x=0.0,color='black')\n",
    "\n",
    "#plt.legend()\n",
    "plt.xlabel('Metallicity', fontsize = 40,fontweight = 'bold')\n",
    "plt.ylabel('C/O', fontsize = 40,fontweight = 'bold')\n",
    "#plt.title('')\n",
    "plt.show()\n",
    " "
   ]
  },
  {
   "cell_type": "code",
   "execution_count": 38,
   "metadata": {},
   "outputs": [],
   "source": [
    "con = 0\n",
    "data = datg1\n",
    "tpe = ' d'\n",
    "ttl = 'revion '+tpe\n",
    "clabel = r'Initial Mass [M$_{Earth}$]'\n",
    "\n",
    "scatter(data[:,7],data[:,11]*solar[3]/(data[:,13]*solar[5]),data[:,con],r'Metallicity',r'C/O',title=clabel)\n",
    "\n",
    "plt.axhline(y=0.55,color='black',linewidth = 3.0)\n",
    "plt.axvline(x=0.0,color='black', linewidth = 3.0)\n",
    "plt.show()\n",
    "#x = np.arange(-0.1,50,0.01)\n",
    "#scatter(data[:,13],data[:,11],data[:,con],'O','C',clabel,ttl)\n",
    "#plt.axhline(y=1.0,color='black')\n",
    "#plt.axvline(x=1.0,color='black')\n",
    "#plt.plot(dat[:,11], dat[:,11])\n",
    "#plot(data[:,con],data[:,7],clabel,'Metalicity',ttl)\n",
    "#plt.axhline(y=0.0,color='black')\n",
    "#plot(data[:,con],data[:,11]*solar[3]/(data[:,13]*solar[5]),clabel,'C/O',ttl)\n",
    "#plt.axhline(y=0.55,color='black')\n",
    "#plot(data[:,con],data[:,7]/(data[:,11]*solar[3]/(data[:,13]*solar[5]),clabel,'div',ttl)\n",
    "#plt.axhline(y=0.0,color='black')\n",
    "\n",
    "\n",
    "plt.show()"
   ]
  },
  {
   "cell_type": "code",
   "execution_count": 39,
   "metadata": {},
   "outputs": [],
   "source": [
    "dat = dat1\n",
    "g0 =np.where((dat[:,7]<=0))\n",
    "\n",
    "data = np.copy(dat[g0])\n",
    "\n",
    "\n",
    "ttl = 'revion '\n",
    "clabel = r'Planetesimal presence in the solid [$\\times$100]%'\n",
    "\n",
    "scatter(data[:,2],data[:,7],data[:,11]*solar[3]/(data[:,13]*solar[5]),r'Metalicity',r'C/O',clabel,ttl)\n",
    "plt.axhline(y=0.0,color='black',linewidth = 3.0)\n",
    "\n",
    "plt.xscale('log')\n",
    "plt.show()"
   ]
  },
  {
   "cell_type": "code",
   "execution_count": 40,
   "metadata": {},
   "outputs": [],
   "source": [
    "\n",
    "g0 =np.where((dat0[:,7]<=0))\n",
    "g1 =np.where((dat1[:,7]<=0))\n",
    "\n",
    "data0 = np.copy(dat0[g0])\n",
    "data1 = np.copy(dat1[g1])\n",
    "\n",
    "plt.plot(data1[:,2],data1[:,7],'.')\n",
    "plt.plot(data0[:,2],data0[:,7],'.')\n",
    "\n",
    "\n",
    "plt.axhline(y=0.0,color='black',linewidth = 3.0)\n",
    "plt.xscale('log')\n",
    "plt.show()"
   ]
  },
  {
   "cell_type": "code",
   "execution_count": 57,
   "metadata": {},
   "outputs": [
    {
     "data": {
      "text/plain": [
       "(-1.9, 3.8)"
      ]
     },
     "execution_count": 57,
     "metadata": {},
     "output_type": "execute_result"
    }
   ],
   "source": [
    "da = dat0\n",
    "da1 = dat1\n",
    "x1 = da[:,2]\n",
    "y = da[:,7]\n",
    "y1 = da[:,13]/da[:,8]\n",
    "y2 = da[:,11]/(da[:,8])\n",
    "y3 = da[:,17]*solar[9]/(da[:,13]*solar[5])\n",
    "y4 = da[:,17]*solar[9]/(da[:,11]*solar[3])\n",
    "z = da[:,5]\n",
    "#8.5, 29.5\n",
    "\n",
    "\n",
    "plt.figure()\n",
    "plt.plot(x1,y,'.',label='1 Jupiyer Mass')\n",
    "plt.plot(da1[:,2], da1[:,7],'.',label='5 Jupiyer Mass')\n",
    "plt.legend()\n",
    "#plt.hlines(y=1,xmin=2,xmax=3,linestyles='dashed')\n",
    "plt.xlabel('Distance [AU]',fontsize = 45,fontweight = 'bold')\n",
    "plt.ylabel('Metallicity',fontsize = 45,fontweight = 'bold')\n",
    "plt.axhline(y=0,color='black', linewidth = 3.0)\n",
    "plt.vlines(x=8.5,ymin=-2.0,ymax=-1.8,linestyles='dashed',color = 'black',linewidth = 3.0)\n",
    "plt.vlines(x=29.3,ymin=-2.0,ymax=-1.8,linestyles='dashed',color = 'black',linewidth = 3.0)\n",
    "plt.ylim(-1.9,3.8)"
   ]
  }
 ],
 "metadata": {
  "kernelspec": {
   "display_name": "Python 3",
   "language": "python",
   "name": "python3"
  },
  "language_info": {
   "codemirror_mode": {
    "name": "ipython",
    "version": 3
   },
   "file_extension": ".py",
   "mimetype": "text/x-python",
   "name": "python",
   "nbconvert_exporter": "python",
   "pygments_lexer": "ipython3",
   "version": "3.8.5"
  }
 },
 "nbformat": 4,
 "nbformat_minor": 2
}
