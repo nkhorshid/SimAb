{
 "cells": [
  {
   "cell_type": "code",
   "execution_count": 1,
   "metadata": {},
   "outputs": [],
   "source": [
    "import numpy as np\n",
    "import matplotlib.pyplot as plt\n",
    "import variable as var\n",
    "from disk import Disk\n",
    "from chem import Chem\n",
    "import matplotlib.pylab as pylab\n",
    "import matplotlib.axes as ax\n",
    "\n",
    "\n",
    "from scipy.stats import spearmanr\n",
    "%matplotlib qt\n",
    "dsk = Disk()\n",
    "chm = Chem()\n",
    "font = {'family' : 'normal',\n",
    "        'weight' : 'bold',\n",
    "        'size'   : 30}\n",
    "\n",
    "pylab.rc('font', **font)"
   ]
  },
  {
   "cell_type": "code",
   "execution_count": 2,
   "metadata": {},
   "outputs": [],
   "source": [
    "#functions:\n",
    "def scatter(x,y,z,xlabel = '',ylabel='',clabel = '',title = ''):\n",
    "    fig, ax = plt.subplots()\n",
    "    #plt.figure(figsize=(15,8))\n",
    "    im = ax.scatter(x,y,c=z, s = 10)\n",
    "    #,norm=matplotlib.colors.LogNorm())\n",
    "    ax.set_xlabel(xlabel, fontsize = 30,fontweight = 'bold')\n",
    "    ax.set_ylabel(ylabel, fontsize = 30,fontweight = 'bold')\n",
    "    plt.title(title)\n",
    "    ax.tick_params(size=7,width=5)\n",
    "    #ax1.set_xlabel(r'distance [AU]')\n",
    "    #ax1.set_ylabel(r'c/o')\n",
    "    cb = plt.colorbar(im)\n",
    "    cb.set_label(label= clabel,weight='bold', size = 27)\n",
    "    #, orientation=\"horizontal\")\n",
    "    #plt.show()\n",
    "\n",
    "def plot(x,y,xlabel = '',ylabel='',title = ''):\n",
    "    plt.figure()\n",
    "    plt.plot(x,y,'.')\n",
    "    plt.xlabel(xlabel)\n",
    "    plt.ylabel(ylabel)\n",
    "    plt.title(title)\n",
    "    #plt.show()\n"
   ]
  },
  {
   "cell_type": "code",
   "execution_count": 18,
   "metadata": {},
   "outputs": [],
   "source": [
    "#Inputs:\n",
    "name0 = 6\n",
    "name1= 8\n",
    "name2= 2\n",
    "name3= 304\n",
    "name4= 303\n",
    "name5= 302\n",
    "name6= 301\n",
    "name7= 300\n",
    "name8= 3\n",
    "name9= 4"
   ]
  },
  {
   "cell_type": "code",
   "execution_count": 19,
   "metadata": {},
   "outputs": [],
   "source": [
    "#Load data:\n",
    "name_s = 'input/N_Atom.txt'\n",
    "solar = np.loadtxt(name_s,dtype= str)[0:, 5].astype(float)\n",
    "\n",
    "doc0 = 'Output/run_sum'+str(name0)+'.txt'\n",
    "doc1 = 'Output/run_sum'+str(name1)+'.txt'\n",
    "doc2 = 'Output/run_sum'+str(name2)+'.txt'\n",
    "doc3 = 'Output/run_sum'+str(name3)+'.txt'\n",
    "doc4 = 'Output/run_sum'+str(name4)+'.txt'\n",
    "doc5 = 'Output/run_sum'+str(name5)+'.txt'\n",
    "doc6 = 'Output/run_sum'+str(name6)+'.txt'\n",
    "doc7 = 'Output/run_sum'+str(name7)+'.txt'\n",
    "#doc8 = 'Output/run_sum'+str(name8)+'.txt'\n",
    "#doc9 = 'Output/run_sum'+str(name9)+'.txt'\n",
    "\n",
    "dat0 = np.loadtxt(doc0, dtype = str, skiprows = 1)[0:,1:].astype(float)\n",
    "dat1 = np.loadtxt(doc1, dtype = str, skiprows = 1)[0:,1:].astype(float)\n",
    "#dat2 = np.loadtxt(doc2, dtype = str, skiprows = 1)[0:,1:].astype(float)\n",
    "#dat3 = np.loadtxt(doc3, dtype = str, skiprows = 1)[0:,1:].astype(float)\n",
    "#dat4 = np.loadtxt(doc4, dtype = str, skiprows = 1)[0:,1:].astype(float)\n",
    "#dat5 = np.loadtxt(doc5, dtype = str, skiprows = 1)[0:,1:].astype(float)\n",
    "#dat6 = np.loadtxt(doc6, dtype = str, skiprows = 1)[0:,1:].astype(float)\n",
    "#dat7 = np.loadtxt(doc7, dtype = str, skiprows = 1)[0:,1:].astype(float)\n",
    "#dat8 = np.loadtxt(doc8, dtype = str, skiprows = 1)[0:,1:].astype(float)\n",
    "#dat9 = np.loadtxt(doc9, dtype = str, skiprows = 1)[0:,1:].astype(float)\n",
    "\n",
    "#test = np.loadtxt(doc, dtype = str, skiprows = 1)[0:,0]\n",
    "#header = np.loadtxt(doc0, dtype = str)[0,1:]"
   ]
  },
  {
   "cell_type": "markdown",
   "metadata": {},
   "source": [
    "## Compare multiple data:"
   ]
  },
  {
   "cell_type": "code",
   "execution_count": 20,
   "metadata": {},
   "outputs": [],
   "source": [
    "#Overview plot data\n",
    "%matplotlib qt\n",
    "#plt.figure()\n",
    "\n",
    "P0 = dat0\n",
    "P1 = dat1\n",
    "#P2 = dat2\n",
    "#P3 = dat3\n",
    "#P4 = dat4\n",
    "#P5 = dat3\n",
    "#P6 = dat2\n",
    "#P7 = dat1\n",
    "plt.figure()\n",
    "\n",
    "plt.plot(P0[:,7],P0[:,11]*solar[3]/(P0[:,13]*solar[5]),'.')\n",
    "plt.plot(P1[:,7],P1[:,11]*solar[3]/(P1[:,13]*solar[5]),'.')\n",
    "#plt.figure()\n",
    "#plt.plot(P0[:,7],(P0[:,13]*solar[5]),'.')\n",
    "#plt.plot(P1[:,7],(P1[:,13]*solar[5]),'.')\n",
    "#plt.figure()\n",
    "#plt.plot(P0[:,7],(P0[:,17]),'.')\n",
    "#plt.plot(P1[:,7],(P1[:,13]*solar[5]),'.')\n",
    "#plt.figure()\n",
    "#plt.plot(P0[:,7],P0[:,12]*solar[4],'.')\n",
    "#plt.plot(P1[:,7],P1[:,12]*solar[4],'.')\n",
    "#plt.plot(P1[:,7],P1[:,11]*solar[3],'.')\n",
    "\n",
    "#plt.plot(P1[:,7],P1[:,11]*solar[3]/(P1[:,13]*solar[5]),'.')\n",
    "#plt.plot(P2[:,7],P2[:,11]*solar[3]/(P2[:,13]*solar[5]),'.')\n",
    "#plt.plot(P3[:,7],P3[:,11]*solar[3]/(P3[:,13]*solar[5]),'.')\n",
    "#plt.plot(P4[:,7],P4[:,11]*solar[3]/(P4[:,13]*solar[5]),'.')\n",
    "#plt.plot(P5[:,7],P5[:,11]*solar[3]/(P5[:,13]*solar[5]),'.')\n",
    "#plt.plot(P6[:,7],P6[:,11]*solar[3]/(P6[:,13]*solar[5]),'.')\n",
    "#plt.plot(P7[:,7],P7[:,11]*solar[3]/(P7[:,13]*solar[5]),'.')\n",
    "\n",
    "\n",
    "plt.xlabel('Metalicity')\n",
    "plt.ylabel('C/O')\n",
    "plt.show()"
   ]
  },
  {
   "cell_type": "markdown",
   "metadata": {},
   "source": [
    "# Individual data:"
   ]
  },
  {
   "cell_type": "code",
   "execution_count": 21,
   "metadata": {},
   "outputs": [],
   "source": [
    "dat = dat1"
   ]
  },
  {
   "cell_type": "code",
   "execution_count": 9,
   "metadata": {},
   "outputs": [
    {
     "name": "stderr",
     "output_type": "stream",
     "text": [
      "findfont: Font family ['normal'] not found. Falling back to DejaVu Sans.\n"
     ]
    }
   ],
   "source": [
    "#Plot regions:\n",
    "#%matplotlib qt\n",
    "r_min = 29.3\n",
    "r_max = 29.5\n",
    "\n",
    "gn =np.where((dat[:,2]<=r_max)&(dat[:,2]>r_min))\n",
    "datn = np.copy(dat[gn])\n",
    "\n",
    "plt.plot(dat[:,7],dat[:,11]*solar[3]/((dat[:,13])*solar[5]),'.',alpha = 0.75,label = 'Region 4')\n",
    "plt.plot(datn[:,7],datn[:,11]*solar[3]/((datn[:,13])*solar[5]),'.',alpha = 0.75,label = 'Region 4')\n",
    "\n",
    "\n",
    "plt.legend()\n",
    "plt.xlabel('Metalicity', fontsize = 22,fontweight = 'bold')\n",
    "plt.ylabel('C/O', fontsize = 22,fontweight = 'bold')\n",
    "#plt.title(title)\n",
    "plt.show()"
   ]
  },
  {
   "cell_type": "code",
   "execution_count": 14,
   "metadata": {},
   "outputs": [
    {
     "ename": "NameError",
     "evalue": "name 'datg0' is not defined",
     "output_type": "error",
     "traceback": [
      "\u001b[0;31m---------------------------------------------------------------------------\u001b[0m",
      "\u001b[0;31mNameError\u001b[0m                                 Traceback (most recent call last)",
      "\u001b[0;32m<ipython-input-14-80f2e058f5b7>\u001b[0m in \u001b[0;36m<module>\u001b[0;34m\u001b[0m\n\u001b[0;32m----> 1\u001b[0;31m \u001b[0mdap0\u001b[0m \u001b[0;34m=\u001b[0m \u001b[0mdatg0\u001b[0m\u001b[0;34m\u001b[0m\u001b[0;34m\u001b[0m\u001b[0m\n\u001b[0m\u001b[1;32m      2\u001b[0m \u001b[0mdap1\u001b[0m \u001b[0;34m=\u001b[0m \u001b[0mdatg1\u001b[0m\u001b[0;34m\u001b[0m\u001b[0;34m\u001b[0m\u001b[0m\n\u001b[1;32m      3\u001b[0m \u001b[0mdap2\u001b[0m \u001b[0;34m=\u001b[0m \u001b[0mdatg2\u001b[0m\u001b[0;34m\u001b[0m\u001b[0;34m\u001b[0m\u001b[0m\n\u001b[1;32m      4\u001b[0m \u001b[0mdap3\u001b[0m \u001b[0;34m=\u001b[0m \u001b[0mdatg3\u001b[0m\u001b[0;34m\u001b[0m\u001b[0;34m\u001b[0m\u001b[0m\n\u001b[1;32m      5\u001b[0m \u001b[0mdap4\u001b[0m \u001b[0;34m=\u001b[0m \u001b[0mdatg4\u001b[0m\u001b[0;34m\u001b[0m\u001b[0;34m\u001b[0m\u001b[0m\n",
      "\u001b[0;31mNameError\u001b[0m: name 'datg0' is not defined"
     ]
    }
   ],
   "source": [
    "dap0 = datg0\n",
    "dap1 = datg1\n",
    "dap2 = datg2\n",
    "dap3 = datg3\n",
    "dap4 = datg4\n",
    "\n",
    "plt.figure()\n",
    "\n",
    "plt.plot(datg4[:,7],datg4[:,11]*solar[3]/((datg4[:,13])*solar[5]),'g.',alpha = 0.003)\n",
    "plt.plot(datg3[:,7],datg3[:,11]*solar[3]/((datg3[:,13])*solar[5]),'b.',alpha = 0.003)\n",
    "plt.plot(datg2[:,7],datg2[:,11]*solar[3]/((datg2[:,13])*solar[5]),'r.',alpha = 0.003)\n",
    "plt.plot(datg1[:,7],datg1[:,11]*solar[3]/((datg1[:,13])*solar[5]),'k.',alpha = 0.003)\n",
    "plt.plot(datg0[:,7],datg0[:,11]*solar[3]/((datg0[:,13])*solar[5]),'.', color = 'cyan', alpha = 0.003)\n",
    "plt.plot(datg1[:,7],datg1[:,11]*solar[3]/((datg1[:,13])*solar[5]),'k.',alpha = 1)\n",
    "\n",
    "plt.axhline(y=0.55,color='black')\n",
    "plt.axvline(x=0.0,color='black')\n",
    "plt.legend()\n",
    "plt.xlabel('Metalicity', fontsize = 22,fontweight = 'bold')\n",
    "plt.ylabel('C/O', fontsize = 22,fontweight = 'bold')\n",
    "#plt.title('')\n",
    "\n",
    "plt.tick_params(size=5,width=2)\n",
    "plt.show()\n",
    "#plt.savefig('temp.png', transparent=True)"
   ]
  },
  {
   "cell_type": "code",
   "execution_count": 15,
   "metadata": {},
   "outputs": [
    {
     "name": "stderr",
     "output_type": "stream",
     "text": [
      "findfont: Font family ['normal'] not found. Falling back to DejaVu Sans.\n"
     ]
    }
   ],
   "source": [
    "#M_c,M_fin,a_c,a_fin,dstg_r,pls_r,temperature,metalicity,H,He,Li,C,N,O,Na,Mg,Al,Si,S,K,Fe\n",
    "\n",
    "\n",
    "data = dat\n",
    "tpe = '0'\n",
    "a = data[:,11]*solar[3]/(data[:,13]*solar[5])\n",
    "plt.figure()\n",
    "plt.title('C/O group'+tpe)\n",
    "plt.hist(a, bins=100)\n",
    "plt.show()\n",
    "\n",
    "plt.figure()\n",
    "plt.title('metalicity group'+tpe)\n",
    "plt.hist(data[:,7], bins=100)\n",
    "plt.show()"
   ]
  },
  {
   "cell_type": "code",
   "execution_count": 12,
   "metadata": {},
   "outputs": [],
   "source": [
    "#set the data you want to plot:\n",
    "dat = dat0"
   ]
  },
  {
   "cell_type": "code",
   "execution_count": 13,
   "metadata": {},
   "outputs": [],
   "source": [
    "dat = np.append(dat0,dat2,axis=0)\n",
    "dat = np.append(dat,dat1,axis=0)"
   ]
  },
  {
   "cell_type": "code",
   "execution_count": 22,
   "metadata": {},
   "outputs": [
    {
     "name": "stdout",
     "output_type": "stream",
     "text": [
      "[ 0.35780877  0.50062951  0.67447689  0.81204281  0.90275687  3.62750936\n",
      " 12.48935045 32.27286169]\n"
     ]
    }
   ],
   "source": [
    "#set the data you want to plot:\n",
    "dat = dat1\n",
    "#Plot regions:\n",
    "%matplotlib qt\n",
    "#c1 = np.array([0.81,4.4,10,12,20,25,32.27,35,40])\n",
    "\n",
    "#c1 = np.array([0.74939523,3.68036518, 10.95341933, 29.94145266])\n",
    "c = dsk.r_arr[4:]/var.au\n",
    "t = dsk.T_arr[4:]\n",
    "print (c)\n",
    "#c[1] = c[0]\n",
    "#c[0] = 0.34\n",
    "#c[3] = c[3]-0.9\n",
    "#gn = np.where((dat[:,11]*solar[3]/(dat[:,13]*solar[5]))<=0.92)\n",
    "gn = np.where(dat[:,5]<=0.0001)\n",
    "#dat= np.copy(dat[gn])\n",
    "g0 =np.where((dat[:,2]<=0))\n",
    "g1 =np.where((dat[:,2]<=c[-3])&(dat[:,2]>0))\n",
    "g2 =np.where((dat[:,2]<=c[-2])&(dat[:,2]>c[-3]))\n",
    "g3 =np.where((dat[:,2]<=c[-1])&(dat[:,2]>c[-2]))\n",
    "g4 =np.where((dat[:,2]>c[-1]))\n",
    "\n",
    "\n",
    "#a4 = (1/(datg4[:,21]*3*0.1**(1.1)))**(1/2.1)*0.1\n",
    "\n",
    "\n",
    "datg0 = np.copy(dat[g0])\n",
    "datg1 = np.copy(dat[g1])\n",
    "datg2 = np.copy(dat[g2])\n",
    "datg3 = np.copy(dat[g3])\n",
    "datg4 = np.copy(dat[g4])\n",
    "\n",
    "#a4= 1/(3*datg4[:,21])\n",
    "#b0 = np.where((a4>=1))\n",
    "#b1 = np.where((a4<1))\n",
    "#datb0 = np.copy(datg4[b0])\n",
    "#datb1 = np.copy(datg4[b1])\n",
    "\n",
    "\n",
    "\n",
    "\n",
    "\n",
    "plt.figure()\n",
    "plt.plot(datg4[:,7],datg4[:,11]*solar[3]/(datg4[:,13]*solar[5]),'b.',alpha = 0.75,label = 'Region 4')\n",
    "plt.plot(datg3[:,7],datg3[:,11]*solar[3]/(datg3[:,13]*solar[5]),'r.',alpha = 0.75,label = 'Region 3')\n",
    "plt.plot(datg2[:,7],datg2[:,11]*solar[3]/(datg2[:,13]*solar[5]),'k.',alpha = 0.75, label ='Region 2')\n",
    "#plt.plot(datg1[:,7],datg1[:,11]*solar[3]/(datg1[:,13]*solar[5]),'k.', label = 'Region 1')\n",
    "plt.plot(datg1[:,7],datg1[:,11]*solar[3]/(datg1[:,13]*solar[5]),'.', color = 'cyan', label = 'Region 0')\n",
    "#plt.plot(datg0[:,7],datg0[:,11]*solar[3]/(datg0[:,13]*solar[5]),'r.',alpha = 0.75, label = 'Region 0')\n",
    "\n",
    "#plt.plot(datb0[:,7],datb0[:,11]*solar[3]/((datb0[:,13])*solar[5]),'b.',alpha = 0.75,label = 'Region not')\n",
    "#plt.plot(datb1[:,7],datb1[:,11]*solar[3]/((datb1[:,13])*solar[5]),'r.',alpha = 0.75,label = 'Region not')\n",
    "plt.axhline(y=0.55,color='black')\n",
    "plt.axvline(x=0.0,color='black')\n",
    "#plt.legend()\n",
    "plt.xlabel('Metalicity', fontsize = 22,fontweight = 'bold')\n",
    "plt.ylabel('C/O', fontsize = 22,fontweight = 'bold')\n",
    "#plt.title('')\n",
    "plt.show()\n",
    " "
   ]
  },
  {
   "cell_type": "code",
   "execution_count": 88,
   "metadata": {},
   "outputs": [],
   "source": [
    "con = 5\n",
    "data = datg1\n",
    "tpe = ' d'\n",
    "ttl = 'revion '+tpe\n",
    "clabel = r'Planetesimal presence in the solid [$\\times$100]%'\n",
    "\n",
    "scatter(data[:,7],data[:,11]*solar[3]/(data[:,13]*solar[5]),data[:,con],r'Metalicity',r'C/O',clabel,ttl)\n",
    "plt.axhline(y=0.55,color='black',linewidth = 3.0)\n",
    "plt.axvline(x=0.0,color='black', linewidth = 3.0)\n",
    "plt.show()\n",
    "#x = np.arange(-0.1,50,0.01)\n",
    "#scatter(data[:,13],data[:,11],data[:,con],'O','C',clabel,ttl)\n",
    "#plt.axhline(y=1.0,color='black')\n",
    "#plt.axvline(x=1.0,color='black')\n",
    "#plt.plot(dat[:,11], dat[:,11])\n",
    "#plot(data[:,con],data[:,7],clabel,'Metalicity',ttl)\n",
    "#plt.axhline(y=0.0,color='black')\n",
    "#plot(data[:,con],data[:,11]*solar[3]/(data[:,13]*solar[5]),clabel,'C/O',ttl)\n",
    "#plt.axhline(y=0.55,color='black')\n",
    "#plot(data[:,con],data[:,7]/(data[:,11]*solar[3]/(data[:,13]*solar[5]),clabel,'div',ttl)\n",
    "#plt.axhline(y=0.0,color='black')\n",
    "\n",
    "\n",
    "plt.show()"
   ]
  },
  {
   "cell_type": "code",
   "execution_count": 99,
   "metadata": {},
   "outputs": [],
   "source": [
    "dat = dat1\n",
    "g0 =np.where((dat[:,7]<=0))\n",
    "\n",
    "data = np.copy(dat[g0])\n",
    "\n",
    "\n",
    "ttl = 'revion '\n",
    "clabel = r'Planetesimal presence in the solid [$\\times$100]%'\n",
    "\n",
    "scatter(data[:,2],data[:,7],data[:,11]*solar[3]/(data[:,13]*solar[5]),r'Metalicity',r'C/O',clabel,ttl)\n",
    "plt.axhline(y=0.0,color='black',linewidth = 3.0)\n",
    "\n",
    "plt.xscale('log')\n",
    "plt.show()"
   ]
  },
  {
   "cell_type": "code",
   "execution_count": 96,
   "metadata": {},
   "outputs": [],
   "source": [
    "\n",
    "g0 =np.where((dat0[:,7]<=0))\n",
    "g1 =np.where((dat1[:,7]<=0))\n",
    "\n",
    "data0 = np.copy(dat0[g0])\n",
    "data1 = np.copy(dat1[g1])\n",
    "\n",
    "plt.plot(data1[:,2],data1[:,7],'.')\n",
    "plt.plot(data0[:,2],data0[:,7],'.')\n",
    "\n",
    "\n",
    "plt.axhline(y=0.0,color='black',linewidth = 3.0)\n",
    "plt.xscale('log')\n",
    "plt.show()"
   ]
  },
  {
   "cell_type": "code",
   "execution_count": 85,
   "metadata": {},
   "outputs": [
    {
     "data": {
      "text/plain": [
       "<matplotlib.lines.Line2D at 0x7f1c68b77cd0>"
      ]
     },
     "execution_count": 85,
     "metadata": {},
     "output_type": "execute_result"
    }
   ],
   "source": [
    "da = dat0\n",
    "da1 = dat1\n",
    "x1 = da[:,2]\n",
    "y = da[:,7]\n",
    "y1 = da[:,13]/da[:,8]\n",
    "y2 = da[:,11]/(da[:,8])\n",
    "y3 = da[:,17]*solar[9]/(da[:,13]*solar[5])\n",
    "y4 = da[:,17]*solar[9]/(da[:,11]*solar[3])\n",
    "z = da[:,5]\n",
    "\n",
    "plt.figure()\n",
    "plt.plot(x1,y,'.')\n",
    "plt.plot(da1[:,2], da1[:,7],'.')\n",
    "plt.xlabel('distance [AU]')\n",
    "plt.ylabel('Metalicity')\n",
    "plt.axhline(y=0,color='black')"
   ]
  },
  {
   "cell_type": "code",
   "execution_count": 10,
   "metadata": {},
   "outputs": [
    {
     "name": "stdout",
     "output_type": "stream",
     "text": [
      "[5.44126404e+11 1.87340257e+12 4.84092925e+12]\n"
     ]
    }
   ],
   "source": [
    "da = dat0\n",
    "x1 = da[:,2]\n",
    "y1 = da[:,13]/da[:,8]\n",
    "y2 = da[:,11]/(da[:,8])\n",
    "y3 = da[:,17]*solar[9]/(da[:,13]*solar[5])\n",
    "y4 = da[:,17]*solar[9]/(da[:,11]*solar[3])\n",
    "z = da[:,5]\n",
    "\n",
    "r_ice = dsk.r_arr[-3:]\n",
    "print (r_ice)\n",
    "\n",
    "#plt.plot(x1, y1,'.')\n",
    "scatter(x1, y1,z)\n",
    "plt.axhline(y=1,color='black')\n",
    "plt.xlabel('distance')\n",
    "for i in range(len(r_ice)):\n",
    "    plt.axvline(x=r_ice[i]/var.au,color='black')\n",
    "\n",
    "#plt.plot(x1,y2,'.')\n",
    "scatter(x1, y2,z)\n",
    "plt.axhline(y=1,color='black')\n",
    "for i in range(len(r_ice)):\n",
    "    plt.axvline(x=r_ice[i]/var.au,color='black')\n",
    "\n",
    "\n",
    "#plt.plot(x1,y3,'.')\n",
    "scatter(x1, y3,z)\n",
    "plt.xlabel('distance [AU]')\n",
    "plt.ylabel('Mg/O')\n",
    "plt.axhline(y=solar[9]/solar[5],color='black')\n",
    "for i in range(len(r_ice)):\n",
    "    plt.axvline(x=r_ice[i]/var.au,color='black')\n",
    "    \n",
    "\n",
    "#plt.plot(x1,y4,'.')\n",
    "scatter(x1, y4,z)\n",
    "plt.axhline(y=solar[9]/solar[3],color='black')\n",
    "for i in range(len(r_ice)):\n",
    "    plt.axvline(x=r_ice[i]/var.au,color='black')\n"
   ]
  },
  {
   "cell_type": "code",
   "execution_count": 17,
   "metadata": {},
   "outputs": [
    {
     "name": "stdout",
     "output_type": "stream",
     "text": [
      "[ 0.35780877  0.50062951  0.67447689  0.90275687  0.81204281  3.62750936\n",
      " 12.48935045 32.27286169]\n"
     ]
    }
   ],
   "source": [
    "#set the data you want to plot:\n",
    "dat_1 = dat1\n",
    "#Plot regions:\n",
    "%matplotlib qt\n",
    "#c1 = np.array([0.81,4.4,10,12,20,25,32.27,35,40])\n",
    "\n",
    "#c1 = np.array([0.74939523,3.68036518, 10.95341933, 29.94145266])\n",
    "c = dsk.r_arr[4:]/var.au\n",
    "t = dsk.T_arr[4:]\n",
    "print (c)\n",
    "#c[1] = c[0]\n",
    "#c[0] = 0.34\n",
    "#c[3] = c[3]-0.9\n",
    "#gn = np.where((dat[:,11]*solar[3]/(dat[:,13]*solar[5]))<=0.92)\n",
    "gn_1 = np.where(dat_1[:,5]<=0.0001)\n",
    "#dat= np.copy(dat[gn])\n",
    "g0_1 =np.where((dat_1[:,2]<=c[0]))\n",
    "g1_1 =np.where((dat_1[:,2]<=c[1])&(dat_1[:,2]>c[0]))\n",
    "g2_1 =np.where((dat_1[:,2]<=c[2])&(dat_1[:,2]>c[1]))\n",
    "g3_1 =np.where((dat_1[:,2]<=c[3])&(dat_1[:,2]>c[2]))\n",
    "g4_1 =np.where((dat_1[:,2]>c[3]))\n",
    "\n",
    "\n",
    "#a4 = (1/(datg4[:,21]*3*0.1**(1.1)))**(1/2.1)*0.1\n",
    "\n",
    "\n",
    "datg0_1 = np.copy(dat_1[g0_1])\n",
    "datg1_1 = np.copy(dat_1[g1_1])\n",
    "datg2_1 = np.copy(dat_1[g2_1])\n",
    "datg3_1 = np.copy(dat_1[g3_1])\n",
    "datg4_1 = np.copy(dat_1[g4_1])\n",
    "\n",
    "#a4= 1/(3*datg4[:,21])\n",
    "#b0 = np.where((a4>=1))\n",
    "#b1 = np.where((a4<1))\n",
    "#datb0 = np.copy(datg4[b0])\n",
    "#datb1 = np.copy(datg4[b1])\n",
    "\n",
    "\n",
    "\n",
    "\n",
    "\n",
    "plt.figure()\n",
    "plt.plot(datg4_1[:,7],datg4_1[:,11]*solar[3]/(datg4_1[:,13]*solar[5]),'g.',alpha = 0.75,label = 'Region 4')\n",
    "plt.plot(datg3_1[:,7],datg3_1[:,11]*solar[3]/(datg3_1[:,13]*solar[5]),'b.',alpha = 0.75,label = 'Region 3')\n",
    "plt.plot(datg2_1[:,7],datg2_1[:,11]*solar[3]/(datg2_1[:,13]*solar[5]),'r.',alpha = 0.75, label ='Region 2')\n",
    "plt.plot(datg1_1[:,7],datg1_1[:,11]*solar[3]/(datg1_1[:,13]*solar[5]),'k.', label = 'Region 1')\n",
    "plt.plot(datg0_1[:,7],datg0_1[:,11]*solar[3]/(datg0_1[:,13]*solar[5]),'.', color = 'cyan', label = 'Region 0')\n",
    "#plt.plot(datg0[:,7],datg0[:,11]*solar[3]/(datg0[:,13]*solar[5]),'r.',alpha = 0.75, label = 'Region 0')\n",
    "\n",
    "#plt.plot(datb0[:,7],datb0[:,11]*solar[3]/((datb0[:,13])*solar[5]),'b.',alpha = 0.75,label = 'Region not')\n",
    "#plt.plot(datb1[:,7],datb1[:,11]*solar[3]/((datb1[:,13])*solar[5]),'r.',alpha = 0.75,label = 'Region not')\n",
    "plt.axhline(y=0.55,color='black')\n",
    "plt.axvline(x=0.0,color='black')\n",
    "#plt.legend()\n",
    "plt.xlabel('Metalicity', fontsize = 22,fontweight = 'bold')\n",
    "plt.ylabel('C/O', fontsize = 22,fontweight = 'bold')\n",
    "#plt.title('')\n",
    "plt.show()\n",
    " "
   ]
  },
  {
   "cell_type": "code",
   "execution_count": 18,
   "metadata": {},
   "outputs": [
    {
     "data": {
      "text/plain": [
       "[<matplotlib.lines.Line2D at 0x168046f88e0>]"
      ]
     },
     "execution_count": 18,
     "metadata": {},
     "output_type": "execute_result"
    }
   ],
   "source": [
    "plt.figure()\n",
    "plt.plot(datg4[:,7],datg4[:,11]*solar[3]/(datg4[:,13]*solar[5]),'r.',alpha = 0.75,label = 'Region 4')\n",
    "plt.plot(datg4_1[:,7],datg4_1[:,11]*solar[3]/(datg4_1[:,13]*solar[5]),'b.',alpha = 0.75,label = 'Region 4')\n",
    "\n",
    "plt.figure()\n",
    "plt.plot(datg3[:,7],datg3[:,11]*solar[3]/(datg3[:,13]*solar[5]),'r.',alpha = 0.75,label = 'Region 3')\n",
    "plt.plot(datg3_1[:,7],datg3_1[:,11]*solar[3]/(datg3_1[:,13]*solar[5]),'b.',alpha = 0.75,label = 'Region 3')\n",
    "\n",
    "plt.figure()\n",
    "plt.plot(datg2[:,7],datg2[:,11]*solar[3]/(datg2[:,13]*solar[5]),'r.',alpha = 0.75, label ='Region 2')\n",
    "plt.plot(datg2_1[:,7],datg2_1[:,11]*solar[3]/(datg2_1[:,13]*solar[5]),'b.',alpha = 0.75, label ='Region 2')\n",
    "\n",
    "plt.figure()\n",
    "plt.plot(datg1[:,7],datg1[:,11]*solar[3]/(datg1[:,13]*solar[5]),'r.', label = 'Region 1')\n",
    "plt.plot(datg1_1[:,7],datg1_1[:,11]*solar[3]/(datg1_1[:,13]*solar[5]),'b.', label = 'Region 1')\n",
    "\n",
    "plt.figure()\n",
    "plt.plot(datg0[:,7],datg0[:,11]*solar[3]/(datg0[:,13]*solar[5]),'r.', label = 'Region 0')\n",
    "plt.plot(datg0_1[:,7],datg0_1[:,11]*solar[3]/(datg0_1[:,13]*solar[5]),'b.', label = 'Region 0')"
   ]
  },
  {
   "cell_type": "code",
   "execution_count": 19,
   "metadata": {},
   "outputs": [
    {
     "name": "stdout",
     "output_type": "stream",
     "text": [
      "[-0.043592    0.23453881 -0.34046035  0.55478634]\n"
     ]
    },
    {
     "data": {
      "text/plain": [
       "[<matplotlib.lines.Line2D at 0x1687fe67580>]"
      ]
     },
     "execution_count": 19,
     "metadata": {},
     "output_type": "execute_result"
    }
   ],
   "source": [
    "x0 = dat0[:,7]\n",
    "y0 = dat0[:,11]*solar[3]/(dat0[:,13]*solar[5])\n",
    "z0 = np.polyfit(x0, y0, 3)\n",
    "print (z0)\n",
    "\n",
    "xx0 = np.sort(x0)\n",
    "\n",
    "zz0 = np.polyval(z0,xx0)\n",
    "#plt.scatter(x0,y0,color='blue',alpha=0.5)\n",
    "plt.plot(xx0,zz0,color='black')"
   ]
  },
  {
   "cell_type": "code",
   "execution_count": 21,
   "metadata": {},
   "outputs": [
    {
     "ename": "NameError",
     "evalue": "name 'dat1' is not defined",
     "output_type": "error",
     "traceback": [
      "\u001b[1;31m---------------------------------------------------------------------------\u001b[0m",
      "\u001b[1;31mNameError\u001b[0m                                 Traceback (most recent call last)",
      "\u001b[1;32m<ipython-input-21-e4f31d9ac618>\u001b[0m in \u001b[0;36m<module>\u001b[1;34m\u001b[0m\n\u001b[1;32m----> 1\u001b[1;33m \u001b[0mx1\u001b[0m \u001b[1;33m=\u001b[0m \u001b[0mdat1\u001b[0m\u001b[1;33m[\u001b[0m\u001b[1;33m:\u001b[0m\u001b[1;33m,\u001b[0m\u001b[1;36m7\u001b[0m\u001b[1;33m]\u001b[0m\u001b[1;33m\u001b[0m\u001b[1;33m\u001b[0m\u001b[0m\n\u001b[0m\u001b[0;32m      2\u001b[0m \u001b[0my1\u001b[0m \u001b[1;33m=\u001b[0m \u001b[0mdat1\u001b[0m\u001b[1;33m[\u001b[0m\u001b[1;33m:\u001b[0m\u001b[1;33m,\u001b[0m\u001b[1;36m11\u001b[0m\u001b[1;33m]\u001b[0m\u001b[1;33m*\u001b[0m\u001b[0msolar\u001b[0m\u001b[1;33m[\u001b[0m\u001b[1;36m3\u001b[0m\u001b[1;33m]\u001b[0m\u001b[1;33m/\u001b[0m\u001b[1;33m(\u001b[0m\u001b[0mdat1\u001b[0m\u001b[1;33m[\u001b[0m\u001b[1;33m:\u001b[0m\u001b[1;33m,\u001b[0m\u001b[1;36m13\u001b[0m\u001b[1;33m]\u001b[0m\u001b[1;33m*\u001b[0m\u001b[0msolar\u001b[0m\u001b[1;33m[\u001b[0m\u001b[1;36m5\u001b[0m\u001b[1;33m]\u001b[0m\u001b[1;33m)\u001b[0m\u001b[1;33m\u001b[0m\u001b[1;33m\u001b[0m\u001b[0m\n\u001b[0;32m      3\u001b[0m \u001b[0mz1\u001b[0m \u001b[1;33m=\u001b[0m \u001b[0mnp\u001b[0m\u001b[1;33m.\u001b[0m\u001b[0mpolyfit\u001b[0m\u001b[1;33m(\u001b[0m\u001b[0mx1\u001b[0m\u001b[1;33m,\u001b[0m \u001b[0my1\u001b[0m\u001b[1;33m,\u001b[0m \u001b[1;36m3\u001b[0m\u001b[1;33m)\u001b[0m\u001b[1;33m\u001b[0m\u001b[1;33m\u001b[0m\u001b[0m\n\u001b[0;32m      4\u001b[0m \u001b[0mprint\u001b[0m \u001b[1;33m(\u001b[0m\u001b[0mz1\u001b[0m\u001b[1;33m)\u001b[0m\u001b[1;33m\u001b[0m\u001b[1;33m\u001b[0m\u001b[0m\n\u001b[0;32m      5\u001b[0m \u001b[1;33m\u001b[0m\u001b[0m\n",
      "\u001b[1;31mNameError\u001b[0m: name 'dat1' is not defined"
     ]
    }
   ],
   "source": [
    "x1 = dat1[:,7]\n",
    "y1 = dat1[:,11]*solar[3]/(dat1[:,13]*solar[5])\n",
    "z1 = np.polyfit(x1, y1, 3)\n",
    "print (z1)\n",
    "\n",
    "xx1 = np.sort(x1)\n",
    "\n",
    "\n",
    "zz1 = np.polyval(z1,xx1)\n",
    "#plt.scatter(x1,y1,color='blue',alpha=0.5)\n",
    "plt.plot(xx1,zz1,color='black')"
   ]
  },
  {
   "cell_type": "code",
   "execution_count": null,
   "metadata": {},
   "outputs": [],
   "source": [
    "x2 = dat2[:,7]\n",
    "y2 = dat2[:,11]*solar[3]/(dat2[:,13]*solar[5])\n",
    "z2 = np.polyfit(x2, y2, 3)\n",
    "print z2\n",
    "\n",
    "xx2 = np.sort(x2)\n",
    "\n",
    "zz2 = np.polyval(z2,xx2)\n",
    "#plt.scatter(x2,y2,color='blue',alpha=0.5)\n",
    "plt.plot(xx2,zz2,color='black')"
   ]
  },
  {
   "cell_type": "code",
   "execution_count": null,
   "metadata": {},
   "outputs": [],
   "source": [
    "x3 = dat3[:,7]\n",
    "y3 = dat3[:,11]*solar[3]/(dat3[:,13]*solar[5])\n",
    "z3 = np.polyfit(x3, y3, 3)\n",
    "print z3\n",
    "\n",
    "xx3 = np.sort(x3)\n",
    "\n",
    "zz3 = np.polyval(z3,xx3)\n",
    "#plt.scatter(x3,y3,color='blue',alpha=0.5)\n",
    "plt.plot(xx3,zz3,color='black')"
   ]
  },
  {
   "cell_type": "code",
   "execution_count": null,
   "metadata": {},
   "outputs": [],
   "source": [
    "x4 = dat4[:,7]\n",
    "y4 = dat4[:,11]*solar[3]/(dat4[:,13]*solar[5])\n",
    "z4 = np.polyfit(x4, y4, 3)\n",
    "print z4\n",
    "\n",
    "xx4 = np.sort(x4)\n",
    "\n",
    "zz4 = np.polyval(z4,xx4)\n",
    "#plt.scatter(x4,y4,color='blue',alpha=0.5)\n",
    "plt.plot(xx4,zz4,color='black')"
   ]
  },
  {
   "cell_type": "code",
   "execution_count": null,
   "metadata": {},
   "outputs": [],
   "source": [
    "x5 = dat5[:,7]\n",
    "y5 = dat5[:,11]*solar[3]/(dat5[:,13]*solar[5])\n",
    "z5 = np.polyfit(x5, y5, 3)\n",
    "print z5\n",
    "\n",
    "xx5 = np.sort(x5)\n",
    "\n",
    "zz5 = np.polyval(z5,xx5)\n",
    "plt.scatter(x5,y5,color='blue',alpha=0.5)\n",
    "plt.plot(xx5,zz5,color='red')"
   ]
  },
  {
   "cell_type": "code",
   "execution_count": null,
   "metadata": {},
   "outputs": [],
   "source": [
    "x6 = dat6[:,7]\n",
    "y6 = dat6[:,11]*solar[3]/(dat6[:,13]*solar[5])\n",
    "z6 = np.polyfit(x6, y6, 3)\n",
    "print z6\n",
    "\n",
    "xx6 = np.sort(x6)\n",
    "\n",
    "zz6 = np.polyval(z6,xx6)\n",
    "plt.scatter(x6,y6,color='blue',alpha=0.5)\n",
    "plt.plot(xx6,zz6,color='red')"
   ]
  },
  {
   "cell_type": "code",
   "execution_count": null,
   "metadata": {},
   "outputs": [],
   "source": [
    "x7 = dat7[:,7]\n",
    "y7 = dat7[:,11]*solar[3]/(dat7[:,13]*solar[5])\n",
    "z7 = np.polyfit(x7, y7, 3)\n",
    "print z4\n",
    "\n",
    "xx7 = np.sort(x7)\n",
    "\n",
    "zz7 = np.polyval(z7,xx7)\n",
    "#plt.scatter(x7,y7,color='blue',alpha=0.5)\n",
    "plt.plot(xx7,zz7,color='red')"
   ]
  },
  {
   "cell_type": "code",
   "execution_count": null,
   "metadata": {},
   "outputs": [],
   "source": [
    "x8 = dat8[:,7]\n",
    "y8 = dat8[:,11]*solar[3]/(dat8[:,13]*solar[5])\n",
    "z8 = np.polyfit(x8, y8, 3)\n",
    "print z8\n",
    "\n",
    "xx8 = np.sort(x8)\n",
    "\n",
    "zz8 = np.polyval(z8,xx8)\n",
    "#plt.scatter(x4,y4,color='blue',alpha=0.5)\n",
    "plt.plot(xx8,zz8,color='red')"
   ]
  },
  {
   "cell_type": "code",
   "execution_count": null,
   "metadata": {},
   "outputs": [],
   "source": [
    "x9 = dat9[:,7]\n",
    "y9 = dat9[:,11]*solar[3]/(dat9[:,13]*solar[5])\n",
    "z9 = np.polyfit(x9, y9, 3)\n",
    "print z9\n",
    "\n",
    "xx9 = np.sort(x9)\n",
    "\n",
    "zz9 = np.polyval(z9,xx9)\n",
    "#plt.scatter(x9,y9,color='blue',alpha=0.5)\n",
    "plt.plot(xx9,zz9,color='red')"
   ]
  },
  {
   "cell_type": "code",
   "execution_count": null,
   "metadata": {},
   "outputs": [],
   "source": [
    "plt.scatter(x5,y5, label= '5')\n",
    "plt.scatter(x6,y6, label= '10')\n",
    "#plt.scatter(x7,y7, label= '15')\n",
    "#plt.scatter(x8,y8, label= '20')\n",
    "#plt.scatter(x9,y9, label= '25')\n",
    "#plt.legend()"
   ]
  },
  {
   "cell_type": "markdown",
   "metadata": {},
   "source": [
    "# Sampel"
   ]
  },
  {
   "cell_type": "code",
   "execution_count": 22,
   "metadata": {},
   "outputs": [
    {
     "ename": "OSError",
     "evalue": "test_n1.txt not found.",
     "output_type": "error",
     "traceback": [
      "\u001b[1;31m---------------------------------------------------------------------------\u001b[0m",
      "\u001b[1;31mOSError\u001b[0m                                   Traceback (most recent call last)",
      "\u001b[1;32m<ipython-input-22-9f55adc79b13>\u001b[0m in \u001b[0;36m<module>\u001b[1;34m\u001b[0m\n\u001b[0;32m      4\u001b[0m \u001b[0mname_sch2\u001b[0m \u001b[1;33m=\u001b[0m \u001b[1;34m'test_ch1.txt'\u001b[0m\u001b[1;33m\u001b[0m\u001b[1;33m\u001b[0m\u001b[0m\n\u001b[0;32m      5\u001b[0m \u001b[1;33m\u001b[0m\u001b[0m\n\u001b[1;32m----> 6\u001b[1;33m \u001b[0mdat_s1\u001b[0m \u001b[1;33m=\u001b[0m \u001b[0mnp\u001b[0m\u001b[1;33m.\u001b[0m\u001b[0mloadtxt\u001b[0m\u001b[1;33m(\u001b[0m\u001b[0mname_s1\u001b[0m\u001b[1;33m,\u001b[0m \u001b[0mdtype\u001b[0m \u001b[1;33m=\u001b[0m \u001b[0mstr\u001b[0m\u001b[1;33m,\u001b[0m \u001b[0mskiprows\u001b[0m \u001b[1;33m=\u001b[0m \u001b[1;36m3\u001b[0m\u001b[1;33m)\u001b[0m\u001b[1;33m[\u001b[0m\u001b[1;36m0\u001b[0m\u001b[1;33m:\u001b[0m\u001b[1;33m,\u001b[0m\u001b[1;36m0\u001b[0m\u001b[1;33m:\u001b[0m\u001b[1;33m]\u001b[0m\u001b[1;33m.\u001b[0m\u001b[0mastype\u001b[0m\u001b[1;33m(\u001b[0m\u001b[0mfloat\u001b[0m\u001b[1;33m)\u001b[0m\u001b[1;33m\u001b[0m\u001b[1;33m\u001b[0m\u001b[0m\n\u001b[0m\u001b[0;32m      7\u001b[0m \u001b[0mdat_s2\u001b[0m \u001b[1;33m=\u001b[0m \u001b[0mnp\u001b[0m\u001b[1;33m.\u001b[0m\u001b[0mloadtxt\u001b[0m\u001b[1;33m(\u001b[0m\u001b[0mname_s2\u001b[0m\u001b[1;33m,\u001b[0m \u001b[0mdtype\u001b[0m \u001b[1;33m=\u001b[0m \u001b[0mstr\u001b[0m\u001b[1;33m,\u001b[0m \u001b[0mskiprows\u001b[0m \u001b[1;33m=\u001b[0m \u001b[1;36m3\u001b[0m\u001b[1;33m)\u001b[0m\u001b[1;33m[\u001b[0m\u001b[1;36m0\u001b[0m\u001b[1;33m:\u001b[0m\u001b[1;33m,\u001b[0m\u001b[1;36m0\u001b[0m\u001b[1;33m:\u001b[0m\u001b[1;33m]\u001b[0m\u001b[1;33m.\u001b[0m\u001b[0mastype\u001b[0m\u001b[1;33m(\u001b[0m\u001b[0mfloat\u001b[0m\u001b[1;33m)\u001b[0m\u001b[1;33m\u001b[0m\u001b[1;33m\u001b[0m\u001b[0m\n\u001b[0;32m      8\u001b[0m \u001b[0mdat_s1_h\u001b[0m \u001b[1;33m=\u001b[0m \u001b[0mnp\u001b[0m\u001b[1;33m.\u001b[0m\u001b[0mloadtxt\u001b[0m\u001b[1;33m(\u001b[0m\u001b[0mname_s1\u001b[0m\u001b[1;33m,\u001b[0m \u001b[0mdtype\u001b[0m \u001b[1;33m=\u001b[0m \u001b[0mstr\u001b[0m\u001b[1;33m,\u001b[0m \u001b[0mskiprows\u001b[0m \u001b[1;33m=\u001b[0m \u001b[1;36m2\u001b[0m\u001b[1;33m)\u001b[0m\u001b[1;33m[\u001b[0m\u001b[1;36m0\u001b[0m\u001b[1;33m,\u001b[0m\u001b[1;36m0\u001b[0m\u001b[1;33m:\u001b[0m\u001b[1;33m]\u001b[0m\u001b[1;33m\u001b[0m\u001b[1;33m\u001b[0m\u001b[0m\n",
      "\u001b[1;32m~\\anaconda3\\lib\\site-packages\\numpy\\lib\\npyio.py\u001b[0m in \u001b[0;36mloadtxt\u001b[1;34m(fname, dtype, comments, delimiter, converters, skiprows, usecols, unpack, ndmin, encoding, max_rows)\u001b[0m\n\u001b[0;32m    959\u001b[0m             \u001b[0mfname\u001b[0m \u001b[1;33m=\u001b[0m \u001b[0mos_fspath\u001b[0m\u001b[1;33m(\u001b[0m\u001b[0mfname\u001b[0m\u001b[1;33m)\u001b[0m\u001b[1;33m\u001b[0m\u001b[1;33m\u001b[0m\u001b[0m\n\u001b[0;32m    960\u001b[0m         \u001b[1;32mif\u001b[0m \u001b[0m_is_string_like\u001b[0m\u001b[1;33m(\u001b[0m\u001b[0mfname\u001b[0m\u001b[1;33m)\u001b[0m\u001b[1;33m:\u001b[0m\u001b[1;33m\u001b[0m\u001b[1;33m\u001b[0m\u001b[0m\n\u001b[1;32m--> 961\u001b[1;33m             \u001b[0mfh\u001b[0m \u001b[1;33m=\u001b[0m \u001b[0mnp\u001b[0m\u001b[1;33m.\u001b[0m\u001b[0mlib\u001b[0m\u001b[1;33m.\u001b[0m\u001b[0m_datasource\u001b[0m\u001b[1;33m.\u001b[0m\u001b[0mopen\u001b[0m\u001b[1;33m(\u001b[0m\u001b[0mfname\u001b[0m\u001b[1;33m,\u001b[0m \u001b[1;34m'rt'\u001b[0m\u001b[1;33m,\u001b[0m \u001b[0mencoding\u001b[0m\u001b[1;33m=\u001b[0m\u001b[0mencoding\u001b[0m\u001b[1;33m)\u001b[0m\u001b[1;33m\u001b[0m\u001b[1;33m\u001b[0m\u001b[0m\n\u001b[0m\u001b[0;32m    962\u001b[0m             \u001b[0mfencoding\u001b[0m \u001b[1;33m=\u001b[0m \u001b[0mgetattr\u001b[0m\u001b[1;33m(\u001b[0m\u001b[0mfh\u001b[0m\u001b[1;33m,\u001b[0m \u001b[1;34m'encoding'\u001b[0m\u001b[1;33m,\u001b[0m \u001b[1;34m'latin1'\u001b[0m\u001b[1;33m)\u001b[0m\u001b[1;33m\u001b[0m\u001b[1;33m\u001b[0m\u001b[0m\n\u001b[0;32m    963\u001b[0m             \u001b[0mfh\u001b[0m \u001b[1;33m=\u001b[0m \u001b[0miter\u001b[0m\u001b[1;33m(\u001b[0m\u001b[0mfh\u001b[0m\u001b[1;33m)\u001b[0m\u001b[1;33m\u001b[0m\u001b[1;33m\u001b[0m\u001b[0m\n",
      "\u001b[1;32m~\\anaconda3\\lib\\site-packages\\numpy\\lib\\_datasource.py\u001b[0m in \u001b[0;36mopen\u001b[1;34m(path, mode, destpath, encoding, newline)\u001b[0m\n\u001b[0;32m    193\u001b[0m \u001b[1;33m\u001b[0m\u001b[0m\n\u001b[0;32m    194\u001b[0m     \u001b[0mds\u001b[0m \u001b[1;33m=\u001b[0m \u001b[0mDataSource\u001b[0m\u001b[1;33m(\u001b[0m\u001b[0mdestpath\u001b[0m\u001b[1;33m)\u001b[0m\u001b[1;33m\u001b[0m\u001b[1;33m\u001b[0m\u001b[0m\n\u001b[1;32m--> 195\u001b[1;33m     \u001b[1;32mreturn\u001b[0m \u001b[0mds\u001b[0m\u001b[1;33m.\u001b[0m\u001b[0mopen\u001b[0m\u001b[1;33m(\u001b[0m\u001b[0mpath\u001b[0m\u001b[1;33m,\u001b[0m \u001b[0mmode\u001b[0m\u001b[1;33m,\u001b[0m \u001b[0mencoding\u001b[0m\u001b[1;33m=\u001b[0m\u001b[0mencoding\u001b[0m\u001b[1;33m,\u001b[0m \u001b[0mnewline\u001b[0m\u001b[1;33m=\u001b[0m\u001b[0mnewline\u001b[0m\u001b[1;33m)\u001b[0m\u001b[1;33m\u001b[0m\u001b[1;33m\u001b[0m\u001b[0m\n\u001b[0m\u001b[0;32m    196\u001b[0m \u001b[1;33m\u001b[0m\u001b[0m\n\u001b[0;32m    197\u001b[0m \u001b[1;33m\u001b[0m\u001b[0m\n",
      "\u001b[1;32m~\\anaconda3\\lib\\site-packages\\numpy\\lib\\_datasource.py\u001b[0m in \u001b[0;36mopen\u001b[1;34m(self, path, mode, encoding, newline)\u001b[0m\n\u001b[0;32m    533\u001b[0m                                       encoding=encoding, newline=newline)\n\u001b[0;32m    534\u001b[0m         \u001b[1;32melse\u001b[0m\u001b[1;33m:\u001b[0m\u001b[1;33m\u001b[0m\u001b[1;33m\u001b[0m\u001b[0m\n\u001b[1;32m--> 535\u001b[1;33m             \u001b[1;32mraise\u001b[0m \u001b[0mIOError\u001b[0m\u001b[1;33m(\u001b[0m\u001b[1;34m\"%s not found.\"\u001b[0m \u001b[1;33m%\u001b[0m \u001b[0mpath\u001b[0m\u001b[1;33m)\u001b[0m\u001b[1;33m\u001b[0m\u001b[1;33m\u001b[0m\u001b[0m\n\u001b[0m\u001b[0;32m    536\u001b[0m \u001b[1;33m\u001b[0m\u001b[0m\n\u001b[0;32m    537\u001b[0m \u001b[1;33m\u001b[0m\u001b[0m\n",
      "\u001b[1;31mOSError\u001b[0m: test_n1.txt not found."
     ]
    }
   ],
   "source": [
    "name_s1 = 'test_n1.txt'\n",
    "name_s2 = 'test.txt'\n",
    "name_sch1 = 'test_ch2.txt'\n",
    "name_sch2 = 'test_ch1.txt'\n",
    "\n",
    "dat_s1 = np.loadtxt(name_s1, dtype = str, skiprows = 3)[0:,0:].astype(float)\n",
    "dat_s2 = np.loadtxt(name_s2, dtype = str, skiprows = 3)[0:,0:].astype(float)\n",
    "dat_s1_h = np.loadtxt(name_s1, dtype = str, skiprows = 2)[0,0:]\n",
    "dat_ch1 =np.loadtxt(name_sch1, skiprows = 1)[-1]\n",
    "dat_ch2 =np.loadtxt(name_sch2, skiprows = 1)[-1] "
   ]
  },
  {
   "cell_type": "code",
   "execution_count": null,
   "metadata": {},
   "outputs": [],
   "source": [
    "print dat_s1_h"
   ]
  },
  {
   "cell_type": "code",
   "execution_count": null,
   "metadata": {},
   "outputs": [],
   "source": [
    "plt.figure()\n",
    "plt.plot(dat_s1[:,2],dat_s1[:,1],'.')\n",
    "plt.plot(dat_s2[:,2],dat_s2[:,1],'.')\n",
    "plt.show()"
   ]
  },
  {
   "cell_type": "code",
   "execution_count": null,
   "metadata": {},
   "outputs": [],
   "source": [
    "plt.figure()\n",
    "plt.plot(dat_ch1[1:]/dat_ch1[1],'.')\n",
    "plt.plot(dat_ch2[1:]/dat_ch2[1],'.')\n",
    "plt.show()\n",
    "#H(g) He(g) Li(g) C(g) N(g) O(g) Na(g) Mg(g) Al(g) Si(g) S(g) K(g) Fe(g)\n",
    "#H(s) He(s) Li(s) C(s) N(s) O(s) Na(s) Mg(s) Al(s) Si(s) S(s) K(s) Fe(s) metalicity\n",
    "print dat_ch1[1:]/dat_ch1[1]\n",
    "print dat_ch2[1:]/dat_ch2[1]"
   ]
  },
  {
   "cell_type": "markdown",
   "metadata": {},
   "source": [
    "# Plot Chemistry:"
   ]
  },
  {
   "cell_type": "code",
   "execution_count": null,
   "metadata": {},
   "outputs": [],
   "source": [
    "#Plot the C/O for the model:\n"
   ]
  },
  {
   "cell_type": "markdown",
   "metadata": {},
   "source": [
    "dTg for the model"
   ]
  },
  {
   "cell_type": "code",
   "execution_count": null,
   "metadata": {},
   "outputs": [],
   "source": [
    "import matplotlib.pyplot as plt\n",
    "from disk import Disk\n",
    "from chem import Chem\n",
    "import variable as var\n",
    "from matplotlib.ticker import FormatStrFormatter\n",
    "chm = Chem()\n",
    "dsk = Disk()\n",
    "dsk.calc_r()\n",
    "dtg = dsk.dtg\n",
    "T = dsk.T_arr\n",
    "T[0] = 1500\n",
    "r = dsk.r_arr/var.au\n",
    "#r[-1] = 50\n",
    "print (T, '\\n\\n',dtg, '\\n\\n',r)"
   ]
  },
  {
   "cell_type": "code",
   "execution_count": null,
   "metadata": {},
   "outputs": [],
   "source": [
    "#%matplotlib qt\n",
    "fig = plt.figure()\n",
    "ax1 = fig.add_subplot(111)\n",
    "ax2 = ax1.twiny()\n",
    "\n",
    "\n",
    "\n",
    "plt.tick_params(size=5,width=2)\n",
    "x = T\n",
    "y = dtg\n",
    "z = [\"%.1f\" % z for z in r]\n",
    "ax1.set_xlim(T[0],T[-1])\n",
    "\n",
    "ax1.step(x,y,where = 'post',linewidth=3.0)\n",
    "ax1.set_xlabel('Temperature')\n",
    "ax1.set_ylabel('Dust to gas Ratio')\n",
    "ax1.set_xscale('log')\n",
    "plt.xscale('log')\n",
    "#plt.axvline(x=143,color='black',ls = '--')\n",
    "#plt.axvline(x=47,color='black',ls = '--')\n",
    "#plt.axvline(x=20,color='black',ls = '--')\n",
    "plt.axvspan(500,1600,alpha=0.08,color='cyan')\n",
    "plt.axvspan(5,500,alpha=0.05,color='black')\n",
    "plt.axvspan(47,143,alpha=0.05,color='red')\n",
    "plt.axvspan(20,47,alpha=0.05,color='blue')\n",
    "plt.axvspan(5,20,alpha=0.05,color='green')\n",
    "\n",
    "ax2.set_xlim(ax1.get_xlim())\n",
    "ax2.set_xticks(x)\n",
    "ax2.set_xticklabels(z)\n",
    "ax2.set_xlabel('distance')\n",
    "plt.show()"
   ]
  },
  {
   "cell_type": "code",
   "execution_count": null,
   "metadata": {},
   "outputs": [],
   "source": [
    "import numpy as np\n",
    "\n",
    "import matplotlib.pyplot as plt\n",
    "\n",
    "\n",
    "xran = np.arange(0,100)\n",
    "yran = xran**2\n",
    "\n",
    "\n",
    "plt.plot(xran,yran)\n",
    "#plt.tick_params(size=20,width=20)\n",
    "plt.axvspan(0,10,alpha=0.5,color='red')"
   ]
  },
  {
   "cell_type": "code",
   "execution_count": null,
   "metadata": {},
   "outputs": [],
   "source": [
    "plt.figure()\n",
    "plt.plot(x,y, drawstyle='steps',linewidth=3.0)"
   ]
  },
  {
   "cell_type": "code",
   "execution_count": null,
   "metadata": {},
   "outputs": [],
   "source": [
    "#abundance of the elements single model"
   ]
  },
  {
   "cell_type": "markdown",
   "metadata": {},
   "source": [
    "## Plot the Disk"
   ]
  },
  {
   "cell_type": "code",
   "execution_count": 2,
   "metadata": {},
   "outputs": [],
   "source": [
    "import numpy as np\n",
    "import matplotlib.pyplot as plt\n",
    "import variable as var\n",
    "from disk import Disk\n",
    "from chem import Chem\n",
    "import matplotlib.pylab as pylab\n",
    "import matplotlib.axes as ax\n",
    "\n",
    "\n",
    "from scipy.stats import spearmanr\n",
    "%matplotlib qt\n",
    "dsk = Disk()\n",
    "chm = Chem()\n",
    "font = {'family' : 'normal',\n",
    "        'weight' : 'bold',\n",
    "        'size'   : 22}\n",
    "\n",
    "pylab.rc('font', **font)"
   ]
  },
  {
   "cell_type": "code",
   "execution_count": 3,
   "metadata": {},
   "outputs": [
    {
     "name": "stdout",
     "output_type": "stream",
     "text": [
      "[   5.    6.    7. ... 1597. 1598. 1599.]\n"
     ]
    }
   ],
   "source": [
    "#T = np.array([1600.,1550.,1500.,1450.,1400.,1350.,1300.,1250.,1200.,1150.,1100.,1050.,1000.,950.,900.,850.,800.,750.,700.,650.,600.,\n",
    "#              550.,500.,450.,400.,350.,300.,250.,200.,150.,143.,141.,100.,70.,68.,66.,50.,47.,45.,35.,\n",
    "#              30.,28.,20.,19.,10.,5.])\\\n",
    "\n",
    "T = np.arange(5.,1600.,1)\n",
    "print (T)"
   ]
  },
  {
   "cell_type": "code",
   "execution_count": 4,
   "metadata": {},
   "outputs": [
    {
     "ename": "AttributeError",
     "evalue": "'Disk' object has no attribute 'dTg'",
     "output_type": "error",
     "traceback": [
      "\u001b[1;31m---------------------------------------------------------------------------\u001b[0m",
      "\u001b[1;31mAttributeError\u001b[0m                            Traceback (most recent call last)",
      "\u001b[1;32m<ipython-input-4-953bdd21a5d5>\u001b[0m in \u001b[0;36m<module>\u001b[1;34m\u001b[0m\n\u001b[0;32m      4\u001b[0m \u001b[0md_s\u001b[0m \u001b[1;33m=\u001b[0m \u001b[0mnp\u001b[0m\u001b[1;33m.\u001b[0m\u001b[0mzeros_like\u001b[0m\u001b[1;33m(\u001b[0m\u001b[0mT\u001b[0m\u001b[1;33m)\u001b[0m\u001b[1;33m\u001b[0m\u001b[1;33m\u001b[0m\u001b[0m\n\u001b[0;32m      5\u001b[0m \u001b[1;32mfor\u001b[0m \u001b[0mi\u001b[0m \u001b[1;32min\u001b[0m \u001b[0mrange\u001b[0m\u001b[1;33m(\u001b[0m\u001b[0mlen\u001b[0m\u001b[1;33m(\u001b[0m\u001b[0mT\u001b[0m\u001b[1;33m)\u001b[0m\u001b[1;33m)\u001b[0m\u001b[1;33m:\u001b[0m\u001b[1;33m\u001b[0m\u001b[1;33m\u001b[0m\u001b[0m\n\u001b[1;32m----> 6\u001b[1;33m     \u001b[0mr\u001b[0m\u001b[1;33m[\u001b[0m\u001b[0mi\u001b[0m\u001b[1;33m]\u001b[0m \u001b[1;33m=\u001b[0m \u001b[0mdsk\u001b[0m\u001b[1;33m.\u001b[0m\u001b[0mconvert_T\u001b[0m\u001b[1;33m(\u001b[0m\u001b[0mT\u001b[0m\u001b[1;33m[\u001b[0m\u001b[0mi\u001b[0m\u001b[1;33m]\u001b[0m\u001b[1;33m)\u001b[0m\u001b[1;33m\u001b[0m\u001b[1;33m\u001b[0m\u001b[0m\n\u001b[0m\u001b[0;32m      7\u001b[0m \u001b[1;33m\u001b[0m\u001b[0m\n\u001b[0;32m      8\u001b[0m \u001b[1;31m#print r/var.au\u001b[0m\u001b[1;33m\u001b[0m\u001b[1;33m\u001b[0m\u001b[1;33m\u001b[0m\u001b[0m\n",
      "\u001b[1;32m~\\Documents\\PhD\\Simab\\disk.py\u001b[0m in \u001b[0;36mconvert_T\u001b[1;34m(self, T)\u001b[0m\n\u001b[0;32m    122\u001b[0m          \u001b[0mconst\u001b[0m \u001b[1;33m=\u001b[0m \u001b[1;33m(\u001b[0m\u001b[1;36m3.\u001b[0m\u001b[1;33m*\u001b[0m\u001b[0mself\u001b[0m\u001b[1;33m.\u001b[0m\u001b[0mmu\u001b[0m \u001b[1;33m*\u001b[0m\u001b[0mvar\u001b[0m\u001b[1;33m.\u001b[0m\u001b[0mmp\u001b[0m\u001b[1;33m*\u001b[0m\u001b[0mself\u001b[0m\u001b[1;33m.\u001b[0m\u001b[0mkr\u001b[0m\u001b[1;33m)\u001b[0m\u001b[1;33m/\u001b[0m\u001b[1;33m(\u001b[0m\u001b[1;36m128.\u001b[0m\u001b[1;33m*\u001b[0m\u001b[0mnp\u001b[0m\u001b[1;33m.\u001b[0m\u001b[0mpi\u001b[0m\u001b[1;33m**\u001b[0m\u001b[1;36m2.\u001b[0m\u001b[1;33m*\u001b[0m\u001b[0mself\u001b[0m\u001b[1;33m.\u001b[0m\u001b[0ma\u001b[0m\u001b[1;33m*\u001b[0m\u001b[0mvar\u001b[0m\u001b[1;33m.\u001b[0m\u001b[0mkb\u001b[0m\u001b[1;33m*\u001b[0m\u001b[0mvar\u001b[0m\u001b[1;33m.\u001b[0m\u001b[0msig\u001b[0m\u001b[1;33m)\u001b[0m\u001b[1;33m\u001b[0m\u001b[1;33m\u001b[0m\u001b[0m\n\u001b[0;32m    123\u001b[0m          \u001b[1;31m#dtg = self.ch.dTg(T)\u001b[0m\u001b[1;33m\u001b[0m\u001b[1;33m\u001b[0m\u001b[1;33m\u001b[0m\u001b[0m\n\u001b[1;32m--> 124\u001b[1;33m          \u001b[0mdtg\u001b[0m \u001b[1;33m=\u001b[0m \u001b[0mself\u001b[0m\u001b[1;33m.\u001b[0m\u001b[0mdTg\u001b[0m\u001b[1;33m\u001b[0m\u001b[1;33m\u001b[0m\u001b[0m\n\u001b[0m\u001b[0;32m    125\u001b[0m          \u001b[0mcons\u001b[0m \u001b[1;33m=\u001b[0m \u001b[0mconst\u001b[0m \u001b[1;33m*\u001b[0m\u001b[0mdtg\u001b[0m\u001b[1;33m\u001b[0m\u001b[1;33m\u001b[0m\u001b[0m\n\u001b[0;32m    126\u001b[0m          \u001b[0mr\u001b[0m \u001b[1;33m=\u001b[0m \u001b[1;33m(\u001b[0m\u001b[1;33m(\u001b[0m\u001b[0mcons\u001b[0m\u001b[1;33m*\u001b[0m\u001b[0mself\u001b[0m\u001b[1;33m.\u001b[0m\u001b[0mM_acc\u001b[0m\u001b[1;33m**\u001b[0m\u001b[1;36m2\u001b[0m\u001b[1;33m/\u001b[0m\u001b[0mT\u001b[0m\u001b[1;33m**\u001b[0m\u001b[1;36m5\u001b[0m\u001b[1;33m)\u001b[0m\u001b[1;33m**\u001b[0m\u001b[1;33m(\u001b[0m\u001b[1;36m2.\u001b[0m\u001b[1;33m/\u001b[0m\u001b[1;36m3\u001b[0m\u001b[1;33m)\u001b[0m\u001b[1;33m*\u001b[0m\u001b[0mvar\u001b[0m\u001b[1;33m.\u001b[0m\u001b[0mG\u001b[0m\u001b[1;33m*\u001b[0m\u001b[0mself\u001b[0m\u001b[1;33m.\u001b[0m\u001b[0mstar\u001b[0m\u001b[1;33m.\u001b[0m\u001b[0mM\u001b[0m\u001b[1;33m)\u001b[0m\u001b[1;33m**\u001b[0m\u001b[1;33m(\u001b[0m\u001b[1;36m1.\u001b[0m\u001b[1;33m/\u001b[0m\u001b[1;36m3\u001b[0m\u001b[1;33m)\u001b[0m\u001b[1;33m\u001b[0m\u001b[1;33m\u001b[0m\u001b[0m\n",
      "\u001b[1;31mAttributeError\u001b[0m: 'Disk' object has no attribute 'dTg'"
     ]
    }
   ],
   "source": [
    "#print len(T)\n",
    "r = np.zeros_like(T)\n",
    "d_g = np.zeros_like(T)\n",
    "d_s = np.zeros_like(T)\n",
    "for i in range(len(T)):\n",
    "    r[i] = dsk.convert_T(T[i])\n",
    "\n",
    "#print r/var.au\n",
    "\n",
    "for i in range(len(T)):\n",
    "    d_g[i],d_s[i] = dsk.dens_r(r[i])\n",
    "\n",
    "#print d_g\n",
    "\n",
    "#print d_s"
   ]
  },
  {
   "cell_type": "code",
   "execution_count": 5,
   "metadata": {},
   "outputs": [
    {
     "name": "stdout",
     "output_type": "stream",
     "text": [
      "0.00010306594423532763\n"
     ]
    }
   ],
   "source": [
    "print (dsk.dTg)"
   ]
  },
  {
   "cell_type": "code",
   "execution_count": 6,
   "metadata": {},
   "outputs": [
    {
     "name": "stderr",
     "output_type": "stream",
     "text": [
      "C:\\Users\\Niloo\\Documents\\PhD\\Simab\\chem.py:68: RuntimeWarning: divide by zero encountered in true_divide\n",
      "  ab_tot = ab/ab[0]*1e12\n",
      "C:\\Users\\Niloo\\Documents\\PhD\\Simab\\chem.py:68: RuntimeWarning: invalid value encountered in true_divide\n",
      "  ab_tot = ab/ab[0]*1e12\n"
     ]
    }
   ],
   "source": [
    "com_s = np.zeros([len(T),13])\n",
    "com_g = np.zeros([len(T),13])\n",
    "#print com_s\n",
    "for i in range(len(T)):\n",
    "    chm.chem(T[i])\n",
    "    com_s[i] = chm.sld\n",
    "    com_g[i] = chm.gas\n",
    "    \n",
    "mtl = np.zeros([len(T),2])\n",
    "\n",
    "for i in range(len(T)):\n",
    "    mtl[i,0]=chm.metalicity_d(com_g[i])\n",
    "    mtl[i,1]=chm.metalicity_d(com_s[i])"
   ]
  },
  {
   "cell_type": "code",
   "execution_count": 7,
   "metadata": {},
   "outputs": [
    {
     "name": "stdout",
     "output_type": "stream",
     "text": [
      "[0.00431695 0.00487489 0.00540251 ... 0.96318242 0.96358446 0.96398642]\n",
      "[  41.88532057   47.29871489   52.41801058 ... 9345.3024774  9349.20326114\n",
      " 9353.10323129]\n",
      "[   5.    6.    7. ... 1597. 1598. 1599.]\n",
      "[1.54494493e+02 1.26163533e+02 1.06303734e+02 ... 8.98811701e-02\n",
      " 8.98186767e-02 8.97562658e-02]\n"
     ]
    }
   ],
   "source": [
    "print (dsk.dTg*d_g)\n",
    "print (d_g)\n",
    "print (T)\n",
    "print (r/var.au)"
   ]
  },
  {
   "cell_type": "code",
   "execution_count": 8,
   "metadata": {},
   "outputs": [
    {
     "name": "stderr",
     "output_type": "stream",
     "text": [
      "<ipython-input-8-9c2cad372869>:4: RuntimeWarning: invalid value encountered in true_divide\n",
      "  plt.plot(mtl[:,1],com_g[:,3]/com_g[:,5])\n"
     ]
    },
    {
     "data": {
      "text/plain": [
       "[<matplotlib.lines.Line2D at 0x1e8dd05b160>]"
      ]
     },
     "execution_count": 8,
     "metadata": {},
     "output_type": "execute_result"
    },
    {
     "name": "stderr",
     "output_type": "stream",
     "text": [
      "findfont: Font family ['normal'] not found. Falling back to DejaVu Sans.\n"
     ]
    },
    {
     "data": {
      "image/png": "[encoded data removed]",
      "text/plain": [
       "<Figure size 432x288 with 1 Axes>"
      ]
     },
     "metadata": {
      "needs_background": "light"
     },
     "output_type": "display_data"
    },
    {
     "data": {
      "image/png": "[encoded data removed]",
      "text/plain": [
       "<Figure size 432x288 with 1 Axes>"
      ]
     },
     "metadata": {
      "needs_background": "light"
     },
     "output_type": "display_data"
    }
   ],
   "source": [
    "%matplotlib inline\n",
    "plt.plot(mtl[:,0],com_s[:,3]/com_s[:,5])\n",
    "plt.figure()\n",
    "plt.plot(mtl[:,1],com_g[:,3]/com_g[:,5])"
   ]
  },
  {
   "cell_type": "code",
   "execution_count": 5,
   "metadata": {},
   "outputs": [
    {
     "ename": "AttributeError",
     "evalue": "'Disk' object has no attribute 'dTg'",
     "output_type": "error",
     "traceback": [
      "\u001b[1;31m---------------------------------------------------------------------------\u001b[0m",
      "\u001b[1;31mAttributeError\u001b[0m                            Traceback (most recent call last)",
      "\u001b[1;32m<ipython-input-5-1af918e60f93>\u001b[0m in \u001b[0;36m<module>\u001b[1;34m\u001b[0m\n\u001b[0;32m      3\u001b[0m \u001b[0max2\u001b[0m \u001b[1;33m=\u001b[0m \u001b[0max1\u001b[0m\u001b[1;33m.\u001b[0m\u001b[0mtwiny\u001b[0m\u001b[1;33m(\u001b[0m\u001b[1;33m)\u001b[0m\u001b[1;33m\u001b[0m\u001b[1;33m\u001b[0m\u001b[0m\n\u001b[0;32m      4\u001b[0m \u001b[1;32mfor\u001b[0m \u001b[0mi\u001b[0m \u001b[1;32min\u001b[0m \u001b[0mrange\u001b[0m\u001b[1;33m(\u001b[0m\u001b[0mlen\u001b[0m\u001b[1;33m(\u001b[0m\u001b[0mT\u001b[0m\u001b[1;33m)\u001b[0m\u001b[1;33m)\u001b[0m\u001b[1;33m:\u001b[0m\u001b[1;33m\u001b[0m\u001b[1;33m\u001b[0m\u001b[0m\n\u001b[1;32m----> 5\u001b[1;33m     \u001b[0mr\u001b[0m\u001b[1;33m[\u001b[0m\u001b[0mi\u001b[0m\u001b[1;33m]\u001b[0m \u001b[1;33m=\u001b[0m \u001b[0mdsk\u001b[0m\u001b[1;33m.\u001b[0m\u001b[0mconvert_T\u001b[0m\u001b[1;33m(\u001b[0m\u001b[0mT\u001b[0m\u001b[1;33m[\u001b[0m\u001b[0mi\u001b[0m\u001b[1;33m]\u001b[0m\u001b[1;33m)\u001b[0m\u001b[1;33m\u001b[0m\u001b[1;33m\u001b[0m\u001b[0m\n\u001b[0m\u001b[0;32m      6\u001b[0m \u001b[0mx\u001b[0m \u001b[1;33m=\u001b[0m \u001b[0mT\u001b[0m\u001b[1;33m\u001b[0m\u001b[1;33m\u001b[0m\u001b[0m\n\u001b[0;32m      7\u001b[0m \u001b[0my\u001b[0m \u001b[1;33m=\u001b[0m \u001b[0mcom_g\u001b[0m\u001b[1;33m[\u001b[0m\u001b[1;33m:\u001b[0m\u001b[1;33m,\u001b[0m\u001b[1;36m3\u001b[0m\u001b[1;33m]\u001b[0m\u001b[1;33m/\u001b[0m\u001b[0mcom_g\u001b[0m\u001b[1;33m[\u001b[0m\u001b[1;33m:\u001b[0m\u001b[1;33m,\u001b[0m\u001b[1;36m5\u001b[0m\u001b[1;33m]\u001b[0m\u001b[1;33m\u001b[0m\u001b[1;33m\u001b[0m\u001b[0m\n",
      "\u001b[1;32m~\\Documents\\PhD\\Simab\\disk.py\u001b[0m in \u001b[0;36mconvert_T\u001b[1;34m(self, T)\u001b[0m\n\u001b[0;32m    122\u001b[0m          \u001b[0mconst\u001b[0m \u001b[1;33m=\u001b[0m \u001b[1;33m(\u001b[0m\u001b[1;36m3.\u001b[0m\u001b[1;33m*\u001b[0m\u001b[0mself\u001b[0m\u001b[1;33m.\u001b[0m\u001b[0mmu\u001b[0m \u001b[1;33m*\u001b[0m\u001b[0mvar\u001b[0m\u001b[1;33m.\u001b[0m\u001b[0mmp\u001b[0m\u001b[1;33m*\u001b[0m\u001b[0mself\u001b[0m\u001b[1;33m.\u001b[0m\u001b[0mkr\u001b[0m\u001b[1;33m)\u001b[0m\u001b[1;33m/\u001b[0m\u001b[1;33m(\u001b[0m\u001b[1;36m128.\u001b[0m\u001b[1;33m*\u001b[0m\u001b[0mnp\u001b[0m\u001b[1;33m.\u001b[0m\u001b[0mpi\u001b[0m\u001b[1;33m**\u001b[0m\u001b[1;36m2.\u001b[0m\u001b[1;33m*\u001b[0m\u001b[0mself\u001b[0m\u001b[1;33m.\u001b[0m\u001b[0ma\u001b[0m\u001b[1;33m*\u001b[0m\u001b[0mvar\u001b[0m\u001b[1;33m.\u001b[0m\u001b[0mkb\u001b[0m\u001b[1;33m*\u001b[0m\u001b[0mvar\u001b[0m\u001b[1;33m.\u001b[0m\u001b[0msig\u001b[0m\u001b[1;33m)\u001b[0m\u001b[1;33m\u001b[0m\u001b[1;33m\u001b[0m\u001b[0m\n\u001b[0;32m    123\u001b[0m          \u001b[1;31m#dtg = self.ch.dTg(T)\u001b[0m\u001b[1;33m\u001b[0m\u001b[1;33m\u001b[0m\u001b[1;33m\u001b[0m\u001b[0m\n\u001b[1;32m--> 124\u001b[1;33m          \u001b[0mdtg\u001b[0m \u001b[1;33m=\u001b[0m \u001b[0mself\u001b[0m\u001b[1;33m.\u001b[0m\u001b[0mdTg\u001b[0m\u001b[1;33m\u001b[0m\u001b[1;33m\u001b[0m\u001b[0m\n\u001b[0m\u001b[0;32m    125\u001b[0m          \u001b[0mcons\u001b[0m \u001b[1;33m=\u001b[0m \u001b[0mconst\u001b[0m \u001b[1;33m*\u001b[0m\u001b[0mdtg\u001b[0m\u001b[1;33m\u001b[0m\u001b[1;33m\u001b[0m\u001b[0m\n\u001b[0;32m    126\u001b[0m          \u001b[0mr\u001b[0m \u001b[1;33m=\u001b[0m \u001b[1;33m(\u001b[0m\u001b[1;33m(\u001b[0m\u001b[0mcons\u001b[0m\u001b[1;33m*\u001b[0m\u001b[0mself\u001b[0m\u001b[1;33m.\u001b[0m\u001b[0mM_acc\u001b[0m\u001b[1;33m**\u001b[0m\u001b[1;36m2\u001b[0m\u001b[1;33m/\u001b[0m\u001b[0mT\u001b[0m\u001b[1;33m**\u001b[0m\u001b[1;36m5\u001b[0m\u001b[1;33m)\u001b[0m\u001b[1;33m**\u001b[0m\u001b[1;33m(\u001b[0m\u001b[1;36m2.\u001b[0m\u001b[1;33m/\u001b[0m\u001b[1;36m3\u001b[0m\u001b[1;33m)\u001b[0m\u001b[1;33m*\u001b[0m\u001b[0mvar\u001b[0m\u001b[1;33m.\u001b[0m\u001b[0mG\u001b[0m\u001b[1;33m*\u001b[0m\u001b[0mself\u001b[0m\u001b[1;33m.\u001b[0m\u001b[0mstar\u001b[0m\u001b[1;33m.\u001b[0m\u001b[0mM\u001b[0m\u001b[1;33m)\u001b[0m\u001b[1;33m**\u001b[0m\u001b[1;33m(\u001b[0m\u001b[1;36m1.\u001b[0m\u001b[1;33m/\u001b[0m\u001b[1;36m3\u001b[0m\u001b[1;33m)\u001b[0m\u001b[1;33m\u001b[0m\u001b[1;33m\u001b[0m\u001b[0m\n",
      "\u001b[1;31mAttributeError\u001b[0m: 'Disk' object has no attribute 'dTg'"
     ]
    },
    {
     "name": "stderr",
     "output_type": "stream",
     "text": [
      "findfont: Font family ['normal'] not found. Falling back to DejaVu Sans.\n"
     ]
    }
   ],
   "source": [
    "fig = plt.figure()\n",
    "ax1 = fig.add_subplot(111)\n",
    "ax2 = ax1.twiny()\n",
    "for i in range(len(T)):\n",
    "    r[i] = dsk.convert_T(T[i])\n",
    "x = T\n",
    "y = com_g[:,3]/com_g[:,5]\n",
    "y1= com_s[:,3]/com_s[:,5]\n",
    "#y2= dtg\n",
    "y3=d_g\n",
    "z = [\"%.1f\" % z for z in r/var.au]\n",
    "print (r)\n",
    "#ax1.set_xlim(T[0],T[-1])\n",
    "\n",
    "ax1.plot(x,y3, linewidth=3.0)\n",
    "#ax1.plot(x,y1, drawstyle='steps',linewidth=3.0)\n",
    "#ax1.plot(x,y2, drawstyle='steps')\n",
    "#ax1.plot(x,y3, drawstyle='steps')\n",
    "#plt.axhline(y=0.55,color='black',ls = '--', linewidth=3.0)\n",
    "ax1.set_xlabel('Temperature')\n",
    "ax1.set_ylabel('Dust to gas Ratio')\n",
    "ax1.set_xscale('log')\n",
    "plt.yscale('log')\n",
    "\n",
    "ax2.set_xlim(ax1.get_xlim())\n",
    "ax2.set_xticks(x)\n",
    "ax2.set_xticklabels(z)\n",
    "ax2.set_xlabel('distance')\n",
    "plt.show()"
   ]
  },
  {
   "cell_type": "code",
   "execution_count": 6,
   "metadata": {},
   "outputs": [
    {
     "name": "stdout",
     "output_type": "stream",
     "text": [
      "1999 1999\n"
     ]
    }
   ],
   "source": [
    "r = np.arange(0.05,100.,0.05)*var.au\n",
    "T = np.zeros_like(r)\n",
    "for i in range(len(r)):\n",
    "    T[i] = dsk.tempr(r[i]) \n",
    "print (len(r), len(T))"
   ]
  },
  {
   "cell_type": "code",
   "execution_count": 7,
   "metadata": {},
   "outputs": [],
   "source": [
    "import numpy as np\n",
    "\n",
    "import matplotlib.pyplot as plt\n",
    "\n",
    "\n",
    "xran = np.arange(0,100)\n",
    "yran = xran**2\n",
    "\n",
    "fig = plt.figure()\n",
    "ax = fig.add_subplot(1,1,1)\n",
    "ax.tick_params(direction='out', length=6, width=2, colors='k',\n",
    "               grid_color='r', grid_alpha=0.5)\n",
    "ax.plot(r/var.au,T, linewidth = 3)\n",
    "\n",
    "plt.yscale('log')\n",
    "plt.xscale('log')"
   ]
  },
  {
   "cell_type": "code",
   "execution_count": 14,
   "metadata": {},
   "outputs": [
    {
     "data": {
      "image/png": "[encoded data removed]",
      "text/plain": [
       "<Figure size 432x288 with 1 Axes>"
      ]
     },
     "metadata": {
      "needs_background": "light"
     },
     "output_type": "display_data"
    }
   ],
   "source": [
    "\n",
    "import numpy as np\n",
    "\n",
    "import matplotlib.pyplot as plt\n",
    "\n",
    "\n",
    "xran = np.arange(0,100)\n",
    "yran = xran**2\n",
    "\n",
    "\n",
    "plt.plot(xran,yran)\n",
    "plt.tick_params(size=20,width=20)"
   ]
  },
  {
   "cell_type": "code",
   "execution_count": 11,
   "metadata": {},
   "outputs": [
    {
     "ename": "ValueError",
     "evalue": "x and y must have same first dimension, but have shapes (1999,) and (1595,)",
     "output_type": "error",
     "traceback": [
      "\u001b[1;31m---------------------------------------------------------------------------\u001b[0m",
      "\u001b[1;31mValueError\u001b[0m                                Traceback (most recent call last)",
      "\u001b[1;32m<ipython-input-11-58663278f0fd>\u001b[0m in \u001b[0;36m<module>\u001b[1;34m\u001b[0m\n\u001b[0;32m      2\u001b[0m \u001b[0mplt\u001b[0m\u001b[1;33m.\u001b[0m\u001b[0mfigure\u001b[0m\u001b[1;33m(\u001b[0m\u001b[1;33m)\u001b[0m\u001b[1;33m\u001b[0m\u001b[1;33m\u001b[0m\u001b[0m\n\u001b[0;32m      3\u001b[0m \u001b[0mplt\u001b[0m\u001b[1;33m.\u001b[0m\u001b[0mplot\u001b[0m\u001b[1;33m(\u001b[0m\u001b[0mr\u001b[0m\u001b[1;33m/\u001b[0m\u001b[0mvar\u001b[0m\u001b[1;33m.\u001b[0m\u001b[0mau\u001b[0m\u001b[1;33m,\u001b[0m\u001b[0mT\u001b[0m\u001b[1;33m,\u001b[0m\u001b[0mlinewidth\u001b[0m\u001b[1;33m=\u001b[0m\u001b[1;36m3.0\u001b[0m\u001b[1;33m)\u001b[0m\u001b[1;33m\u001b[0m\u001b[1;33m\u001b[0m\u001b[0m\n\u001b[1;32m----> 4\u001b[1;33m \u001b[0mplt\u001b[0m\u001b[1;33m.\u001b[0m\u001b[0mplot\u001b[0m\u001b[1;33m(\u001b[0m\u001b[0mr\u001b[0m\u001b[1;33m/\u001b[0m\u001b[0mvar\u001b[0m\u001b[1;33m.\u001b[0m\u001b[0mau\u001b[0m\u001b[1;33m,\u001b[0m\u001b[0md_g\u001b[0m\u001b[1;33m/\u001b[0m\u001b[1;36m10\u001b[0m\u001b[1;33m,\u001b[0m\u001b[0mlinewidth\u001b[0m\u001b[1;33m=\u001b[0m\u001b[1;36m3.0\u001b[0m\u001b[1;33m)\u001b[0m\u001b[1;33m\u001b[0m\u001b[1;33m\u001b[0m\u001b[0m\n\u001b[0m\u001b[0;32m      5\u001b[0m \u001b[0mplt\u001b[0m\u001b[1;33m.\u001b[0m\u001b[0myscale\u001b[0m\u001b[1;33m(\u001b[0m\u001b[1;34m'log'\u001b[0m\u001b[1;33m)\u001b[0m\u001b[1;33m\u001b[0m\u001b[1;33m\u001b[0m\u001b[0m\n\u001b[0;32m      6\u001b[0m \u001b[0mplt\u001b[0m\u001b[1;33m.\u001b[0m\u001b[0mxscale\u001b[0m\u001b[1;33m(\u001b[0m\u001b[1;34m'log'\u001b[0m\u001b[1;33m)\u001b[0m\u001b[1;33m\u001b[0m\u001b[1;33m\u001b[0m\u001b[0m\n",
      "\u001b[1;32m~\\anaconda3\\lib\\site-packages\\matplotlib\\pyplot.py\u001b[0m in \u001b[0;36mplot\u001b[1;34m(scalex, scaley, data, *args, **kwargs)\u001b[0m\n\u001b[0;32m   2838\u001b[0m \u001b[1;33m@\u001b[0m\u001b[0m_copy_docstring_and_deprecators\u001b[0m\u001b[1;33m(\u001b[0m\u001b[0mAxes\u001b[0m\u001b[1;33m.\u001b[0m\u001b[0mplot\u001b[0m\u001b[1;33m)\u001b[0m\u001b[1;33m\u001b[0m\u001b[1;33m\u001b[0m\u001b[0m\n\u001b[0;32m   2839\u001b[0m \u001b[1;32mdef\u001b[0m \u001b[0mplot\u001b[0m\u001b[1;33m(\u001b[0m\u001b[1;33m*\u001b[0m\u001b[0margs\u001b[0m\u001b[1;33m,\u001b[0m \u001b[0mscalex\u001b[0m\u001b[1;33m=\u001b[0m\u001b[1;32mTrue\u001b[0m\u001b[1;33m,\u001b[0m \u001b[0mscaley\u001b[0m\u001b[1;33m=\u001b[0m\u001b[1;32mTrue\u001b[0m\u001b[1;33m,\u001b[0m \u001b[0mdata\u001b[0m\u001b[1;33m=\u001b[0m\u001b[1;32mNone\u001b[0m\u001b[1;33m,\u001b[0m \u001b[1;33m**\u001b[0m\u001b[0mkwargs\u001b[0m\u001b[1;33m)\u001b[0m\u001b[1;33m:\u001b[0m\u001b[1;33m\u001b[0m\u001b[1;33m\u001b[0m\u001b[0m\n\u001b[1;32m-> 2840\u001b[1;33m     return gca().plot(\n\u001b[0m\u001b[0;32m   2841\u001b[0m         \u001b[1;33m*\u001b[0m\u001b[0margs\u001b[0m\u001b[1;33m,\u001b[0m \u001b[0mscalex\u001b[0m\u001b[1;33m=\u001b[0m\u001b[0mscalex\u001b[0m\u001b[1;33m,\u001b[0m \u001b[0mscaley\u001b[0m\u001b[1;33m=\u001b[0m\u001b[0mscaley\u001b[0m\u001b[1;33m,\u001b[0m\u001b[1;33m\u001b[0m\u001b[1;33m\u001b[0m\u001b[0m\n\u001b[0;32m   2842\u001b[0m         **({\"data\": data} if data is not None else {}), **kwargs)\n",
      "\u001b[1;32m~\\anaconda3\\lib\\site-packages\\matplotlib\\axes\\_axes.py\u001b[0m in \u001b[0;36mplot\u001b[1;34m(self, scalex, scaley, data, *args, **kwargs)\u001b[0m\n\u001b[0;32m   1741\u001b[0m         \"\"\"\n\u001b[0;32m   1742\u001b[0m         \u001b[0mkwargs\u001b[0m \u001b[1;33m=\u001b[0m \u001b[0mcbook\u001b[0m\u001b[1;33m.\u001b[0m\u001b[0mnormalize_kwargs\u001b[0m\u001b[1;33m(\u001b[0m\u001b[0mkwargs\u001b[0m\u001b[1;33m,\u001b[0m \u001b[0mmlines\u001b[0m\u001b[1;33m.\u001b[0m\u001b[0mLine2D\u001b[0m\u001b[1;33m)\u001b[0m\u001b[1;33m\u001b[0m\u001b[1;33m\u001b[0m\u001b[0m\n\u001b[1;32m-> 1743\u001b[1;33m         \u001b[0mlines\u001b[0m \u001b[1;33m=\u001b[0m \u001b[1;33m[\u001b[0m\u001b[1;33m*\u001b[0m\u001b[0mself\u001b[0m\u001b[1;33m.\u001b[0m\u001b[0m_get_lines\u001b[0m\u001b[1;33m(\u001b[0m\u001b[1;33m*\u001b[0m\u001b[0margs\u001b[0m\u001b[1;33m,\u001b[0m \u001b[0mdata\u001b[0m\u001b[1;33m=\u001b[0m\u001b[0mdata\u001b[0m\u001b[1;33m,\u001b[0m \u001b[1;33m**\u001b[0m\u001b[0mkwargs\u001b[0m\u001b[1;33m)\u001b[0m\u001b[1;33m]\u001b[0m\u001b[1;33m\u001b[0m\u001b[1;33m\u001b[0m\u001b[0m\n\u001b[0m\u001b[0;32m   1744\u001b[0m         \u001b[1;32mfor\u001b[0m \u001b[0mline\u001b[0m \u001b[1;32min\u001b[0m \u001b[0mlines\u001b[0m\u001b[1;33m:\u001b[0m\u001b[1;33m\u001b[0m\u001b[1;33m\u001b[0m\u001b[0m\n\u001b[0;32m   1745\u001b[0m             \u001b[0mself\u001b[0m\u001b[1;33m.\u001b[0m\u001b[0madd_line\u001b[0m\u001b[1;33m(\u001b[0m\u001b[0mline\u001b[0m\u001b[1;33m)\u001b[0m\u001b[1;33m\u001b[0m\u001b[1;33m\u001b[0m\u001b[0m\n",
      "\u001b[1;32m~\\anaconda3\\lib\\site-packages\\matplotlib\\axes\\_base.py\u001b[0m in \u001b[0;36m__call__\u001b[1;34m(self, data, *args, **kwargs)\u001b[0m\n\u001b[0;32m    271\u001b[0m                 \u001b[0mthis\u001b[0m \u001b[1;33m+=\u001b[0m \u001b[0margs\u001b[0m\u001b[1;33m[\u001b[0m\u001b[1;36m0\u001b[0m\u001b[1;33m]\u001b[0m\u001b[1;33m,\u001b[0m\u001b[1;33m\u001b[0m\u001b[1;33m\u001b[0m\u001b[0m\n\u001b[0;32m    272\u001b[0m                 \u001b[0margs\u001b[0m \u001b[1;33m=\u001b[0m \u001b[0margs\u001b[0m\u001b[1;33m[\u001b[0m\u001b[1;36m1\u001b[0m\u001b[1;33m:\u001b[0m\u001b[1;33m]\u001b[0m\u001b[1;33m\u001b[0m\u001b[1;33m\u001b[0m\u001b[0m\n\u001b[1;32m--> 273\u001b[1;33m             \u001b[1;32myield\u001b[0m \u001b[1;32mfrom\u001b[0m \u001b[0mself\u001b[0m\u001b[1;33m.\u001b[0m\u001b[0m_plot_args\u001b[0m\u001b[1;33m(\u001b[0m\u001b[0mthis\u001b[0m\u001b[1;33m,\u001b[0m \u001b[0mkwargs\u001b[0m\u001b[1;33m)\u001b[0m\u001b[1;33m\u001b[0m\u001b[1;33m\u001b[0m\u001b[0m\n\u001b[0m\u001b[0;32m    274\u001b[0m \u001b[1;33m\u001b[0m\u001b[0m\n\u001b[0;32m    275\u001b[0m     \u001b[1;32mdef\u001b[0m \u001b[0mget_next_color\u001b[0m\u001b[1;33m(\u001b[0m\u001b[0mself\u001b[0m\u001b[1;33m)\u001b[0m\u001b[1;33m:\u001b[0m\u001b[1;33m\u001b[0m\u001b[1;33m\u001b[0m\u001b[0m\n",
      "\u001b[1;32m~\\anaconda3\\lib\\site-packages\\matplotlib\\axes\\_base.py\u001b[0m in \u001b[0;36m_plot_args\u001b[1;34m(self, tup, kwargs)\u001b[0m\n\u001b[0;32m    397\u001b[0m \u001b[1;33m\u001b[0m\u001b[0m\n\u001b[0;32m    398\u001b[0m         \u001b[1;32mif\u001b[0m \u001b[0mx\u001b[0m\u001b[1;33m.\u001b[0m\u001b[0mshape\u001b[0m\u001b[1;33m[\u001b[0m\u001b[1;36m0\u001b[0m\u001b[1;33m]\u001b[0m \u001b[1;33m!=\u001b[0m \u001b[0my\u001b[0m\u001b[1;33m.\u001b[0m\u001b[0mshape\u001b[0m\u001b[1;33m[\u001b[0m\u001b[1;36m0\u001b[0m\u001b[1;33m]\u001b[0m\u001b[1;33m:\u001b[0m\u001b[1;33m\u001b[0m\u001b[1;33m\u001b[0m\u001b[0m\n\u001b[1;32m--> 399\u001b[1;33m             raise ValueError(f\"x and y must have same first dimension, but \"\n\u001b[0m\u001b[0;32m    400\u001b[0m                              f\"have shapes {x.shape} and {y.shape}\")\n\u001b[0;32m    401\u001b[0m         \u001b[1;32mif\u001b[0m \u001b[0mx\u001b[0m\u001b[1;33m.\u001b[0m\u001b[0mndim\u001b[0m \u001b[1;33m>\u001b[0m \u001b[1;36m2\u001b[0m \u001b[1;32mor\u001b[0m \u001b[0my\u001b[0m\u001b[1;33m.\u001b[0m\u001b[0mndim\u001b[0m \u001b[1;33m>\u001b[0m \u001b[1;36m2\u001b[0m\u001b[1;33m:\u001b[0m\u001b[1;33m\u001b[0m\u001b[1;33m\u001b[0m\u001b[0m\n",
      "\u001b[1;31mValueError\u001b[0m: x and y must have same first dimension, but have shapes (1999,) and (1595,)"
     ]
    }
   ],
   "source": [
    "%matplotlib qt\n",
    "plt.figure()\n",
    "plt.plot(r/var.au,T,linewidth=3.0)\n",
    "plt.plot(r/var.au,d_g/10,linewidth=3.0)\n",
    "plt.yscale('log')\n",
    "plt.xscale('log')\n",
    "plt.tick_params(size=5,width=2)\n",
    "\n",
    "\n",
    "plt.figure()\n",
    "plt.plot(T,d_g/10,linewidth=3.0)\n",
    "plt.yscale('log')\n",
    "plt.xscale('log')\n",
    "plt.gca().invert_xaxis()\n",
    "plt.tick_params(size=5,width=2)\n",
    "\n",
    "plt.figure()\n",
    "plt.plot(T,d_s/10,linewidth=3.0)\n",
    "plt.yscale('log')\n",
    "plt.xscale('log')\n",
    "plt.gca().invert_xaxis()\n",
    "plt.tick_params(size=5,width=2)\n",
    "\n",
    "#plt.figure()\n",
    "#plt.plot(r/var.au,d_g,linewidth=3.0)\n",
    "#plt.yscale('log')\n",
    "#plt.xscale('log')\n",
    "\n",
    "plt.figure()\n",
    "plt.plot(r/var.au,d_s/10,linewidth=3.0)\n",
    "plt.yscale('log')\n",
    "plt.xscale('log')\n",
    "plt.tick_params(size=5,width=2)\n"
   ]
  },
  {
   "cell_type": "code",
   "execution_count": 10,
   "metadata": {},
   "outputs": [
    {
     "ename": "ValueError",
     "evalue": "x and y must have same first dimension, but have shapes (1999,) and (1595,)",
     "output_type": "error",
     "traceback": [
      "\u001b[1;31m---------------------------------------------------------------------------\u001b[0m",
      "\u001b[1;31mValueError\u001b[0m                                Traceback (most recent call last)",
      "\u001b[1;32m<ipython-input-10-2ad3aec52d65>\u001b[0m in \u001b[0;36m<module>\u001b[1;34m\u001b[0m\n\u001b[0;32m      1\u001b[0m \u001b[0mplt\u001b[0m\u001b[1;33m.\u001b[0m\u001b[0mfigure\u001b[0m\u001b[1;33m(\u001b[0m\u001b[1;33m)\u001b[0m\u001b[1;33m\u001b[0m\u001b[1;33m\u001b[0m\u001b[0m\n\u001b[1;32m----> 2\u001b[1;33m \u001b[0mplt\u001b[0m\u001b[1;33m.\u001b[0m\u001b[0mplot\u001b[0m\u001b[1;33m(\u001b[0m\u001b[0mr\u001b[0m\u001b[1;33m/\u001b[0m\u001b[0mvar\u001b[0m\u001b[1;33m.\u001b[0m\u001b[0mau\u001b[0m\u001b[1;33m,\u001b[0m\u001b[0md_g\u001b[0m\u001b[1;33m)\u001b[0m\u001b[1;33m\u001b[0m\u001b[1;33m\u001b[0m\u001b[0m\n\u001b[0m\u001b[0;32m      3\u001b[0m \u001b[1;31m#plt.yscale('log')\u001b[0m\u001b[1;33m\u001b[0m\u001b[1;33m\u001b[0m\u001b[1;33m\u001b[0m\u001b[0m\n\u001b[0;32m      4\u001b[0m \u001b[1;31m#plt.xscale('log')\u001b[0m\u001b[1;33m\u001b[0m\u001b[1;33m\u001b[0m\u001b[1;33m\u001b[0m\u001b[0m\n",
      "\u001b[1;32m~\\anaconda3\\lib\\site-packages\\matplotlib\\pyplot.py\u001b[0m in \u001b[0;36mplot\u001b[1;34m(scalex, scaley, data, *args, **kwargs)\u001b[0m\n\u001b[0;32m   2838\u001b[0m \u001b[1;33m@\u001b[0m\u001b[0m_copy_docstring_and_deprecators\u001b[0m\u001b[1;33m(\u001b[0m\u001b[0mAxes\u001b[0m\u001b[1;33m.\u001b[0m\u001b[0mplot\u001b[0m\u001b[1;33m)\u001b[0m\u001b[1;33m\u001b[0m\u001b[1;33m\u001b[0m\u001b[0m\n\u001b[0;32m   2839\u001b[0m \u001b[1;32mdef\u001b[0m \u001b[0mplot\u001b[0m\u001b[1;33m(\u001b[0m\u001b[1;33m*\u001b[0m\u001b[0margs\u001b[0m\u001b[1;33m,\u001b[0m \u001b[0mscalex\u001b[0m\u001b[1;33m=\u001b[0m\u001b[1;32mTrue\u001b[0m\u001b[1;33m,\u001b[0m \u001b[0mscaley\u001b[0m\u001b[1;33m=\u001b[0m\u001b[1;32mTrue\u001b[0m\u001b[1;33m,\u001b[0m \u001b[0mdata\u001b[0m\u001b[1;33m=\u001b[0m\u001b[1;32mNone\u001b[0m\u001b[1;33m,\u001b[0m \u001b[1;33m**\u001b[0m\u001b[0mkwargs\u001b[0m\u001b[1;33m)\u001b[0m\u001b[1;33m:\u001b[0m\u001b[1;33m\u001b[0m\u001b[1;33m\u001b[0m\u001b[0m\n\u001b[1;32m-> 2840\u001b[1;33m     return gca().plot(\n\u001b[0m\u001b[0;32m   2841\u001b[0m         \u001b[1;33m*\u001b[0m\u001b[0margs\u001b[0m\u001b[1;33m,\u001b[0m \u001b[0mscalex\u001b[0m\u001b[1;33m=\u001b[0m\u001b[0mscalex\u001b[0m\u001b[1;33m,\u001b[0m \u001b[0mscaley\u001b[0m\u001b[1;33m=\u001b[0m\u001b[0mscaley\u001b[0m\u001b[1;33m,\u001b[0m\u001b[1;33m\u001b[0m\u001b[1;33m\u001b[0m\u001b[0m\n\u001b[0;32m   2842\u001b[0m         **({\"data\": data} if data is not None else {}), **kwargs)\n",
      "\u001b[1;32m~\\anaconda3\\lib\\site-packages\\matplotlib\\axes\\_axes.py\u001b[0m in \u001b[0;36mplot\u001b[1;34m(self, scalex, scaley, data, *args, **kwargs)\u001b[0m\n\u001b[0;32m   1741\u001b[0m         \"\"\"\n\u001b[0;32m   1742\u001b[0m         \u001b[0mkwargs\u001b[0m \u001b[1;33m=\u001b[0m \u001b[0mcbook\u001b[0m\u001b[1;33m.\u001b[0m\u001b[0mnormalize_kwargs\u001b[0m\u001b[1;33m(\u001b[0m\u001b[0mkwargs\u001b[0m\u001b[1;33m,\u001b[0m \u001b[0mmlines\u001b[0m\u001b[1;33m.\u001b[0m\u001b[0mLine2D\u001b[0m\u001b[1;33m)\u001b[0m\u001b[1;33m\u001b[0m\u001b[1;33m\u001b[0m\u001b[0m\n\u001b[1;32m-> 1743\u001b[1;33m         \u001b[0mlines\u001b[0m \u001b[1;33m=\u001b[0m \u001b[1;33m[\u001b[0m\u001b[1;33m*\u001b[0m\u001b[0mself\u001b[0m\u001b[1;33m.\u001b[0m\u001b[0m_get_lines\u001b[0m\u001b[1;33m(\u001b[0m\u001b[1;33m*\u001b[0m\u001b[0margs\u001b[0m\u001b[1;33m,\u001b[0m \u001b[0mdata\u001b[0m\u001b[1;33m=\u001b[0m\u001b[0mdata\u001b[0m\u001b[1;33m,\u001b[0m \u001b[1;33m**\u001b[0m\u001b[0mkwargs\u001b[0m\u001b[1;33m)\u001b[0m\u001b[1;33m]\u001b[0m\u001b[1;33m\u001b[0m\u001b[1;33m\u001b[0m\u001b[0m\n\u001b[0m\u001b[0;32m   1744\u001b[0m         \u001b[1;32mfor\u001b[0m \u001b[0mline\u001b[0m \u001b[1;32min\u001b[0m \u001b[0mlines\u001b[0m\u001b[1;33m:\u001b[0m\u001b[1;33m\u001b[0m\u001b[1;33m\u001b[0m\u001b[0m\n\u001b[0;32m   1745\u001b[0m             \u001b[0mself\u001b[0m\u001b[1;33m.\u001b[0m\u001b[0madd_line\u001b[0m\u001b[1;33m(\u001b[0m\u001b[0mline\u001b[0m\u001b[1;33m)\u001b[0m\u001b[1;33m\u001b[0m\u001b[1;33m\u001b[0m\u001b[0m\n",
      "\u001b[1;32m~\\anaconda3\\lib\\site-packages\\matplotlib\\axes\\_base.py\u001b[0m in \u001b[0;36m__call__\u001b[1;34m(self, data, *args, **kwargs)\u001b[0m\n\u001b[0;32m    271\u001b[0m                 \u001b[0mthis\u001b[0m \u001b[1;33m+=\u001b[0m \u001b[0margs\u001b[0m\u001b[1;33m[\u001b[0m\u001b[1;36m0\u001b[0m\u001b[1;33m]\u001b[0m\u001b[1;33m,\u001b[0m\u001b[1;33m\u001b[0m\u001b[1;33m\u001b[0m\u001b[0m\n\u001b[0;32m    272\u001b[0m                 \u001b[0margs\u001b[0m \u001b[1;33m=\u001b[0m \u001b[0margs\u001b[0m\u001b[1;33m[\u001b[0m\u001b[1;36m1\u001b[0m\u001b[1;33m:\u001b[0m\u001b[1;33m]\u001b[0m\u001b[1;33m\u001b[0m\u001b[1;33m\u001b[0m\u001b[0m\n\u001b[1;32m--> 273\u001b[1;33m             \u001b[1;32myield\u001b[0m \u001b[1;32mfrom\u001b[0m \u001b[0mself\u001b[0m\u001b[1;33m.\u001b[0m\u001b[0m_plot_args\u001b[0m\u001b[1;33m(\u001b[0m\u001b[0mthis\u001b[0m\u001b[1;33m,\u001b[0m \u001b[0mkwargs\u001b[0m\u001b[1;33m)\u001b[0m\u001b[1;33m\u001b[0m\u001b[1;33m\u001b[0m\u001b[0m\n\u001b[0m\u001b[0;32m    274\u001b[0m \u001b[1;33m\u001b[0m\u001b[0m\n\u001b[0;32m    275\u001b[0m     \u001b[1;32mdef\u001b[0m \u001b[0mget_next_color\u001b[0m\u001b[1;33m(\u001b[0m\u001b[0mself\u001b[0m\u001b[1;33m)\u001b[0m\u001b[1;33m:\u001b[0m\u001b[1;33m\u001b[0m\u001b[1;33m\u001b[0m\u001b[0m\n",
      "\u001b[1;32m~\\anaconda3\\lib\\site-packages\\matplotlib\\axes\\_base.py\u001b[0m in \u001b[0;36m_plot_args\u001b[1;34m(self, tup, kwargs)\u001b[0m\n\u001b[0;32m    397\u001b[0m \u001b[1;33m\u001b[0m\u001b[0m\n\u001b[0;32m    398\u001b[0m         \u001b[1;32mif\u001b[0m \u001b[0mx\u001b[0m\u001b[1;33m.\u001b[0m\u001b[0mshape\u001b[0m\u001b[1;33m[\u001b[0m\u001b[1;36m0\u001b[0m\u001b[1;33m]\u001b[0m \u001b[1;33m!=\u001b[0m \u001b[0my\u001b[0m\u001b[1;33m.\u001b[0m\u001b[0mshape\u001b[0m\u001b[1;33m[\u001b[0m\u001b[1;36m0\u001b[0m\u001b[1;33m]\u001b[0m\u001b[1;33m:\u001b[0m\u001b[1;33m\u001b[0m\u001b[1;33m\u001b[0m\u001b[0m\n\u001b[1;32m--> 399\u001b[1;33m             raise ValueError(f\"x and y must have same first dimension, but \"\n\u001b[0m\u001b[0;32m    400\u001b[0m                              f\"have shapes {x.shape} and {y.shape}\")\n\u001b[0;32m    401\u001b[0m         \u001b[1;32mif\u001b[0m \u001b[0mx\u001b[0m\u001b[1;33m.\u001b[0m\u001b[0mndim\u001b[0m \u001b[1;33m>\u001b[0m \u001b[1;36m2\u001b[0m \u001b[1;32mor\u001b[0m \u001b[0my\u001b[0m\u001b[1;33m.\u001b[0m\u001b[0mndim\u001b[0m \u001b[1;33m>\u001b[0m \u001b[1;36m2\u001b[0m\u001b[1;33m:\u001b[0m\u001b[1;33m\u001b[0m\u001b[1;33m\u001b[0m\u001b[0m\n",
      "\u001b[1;31mValueError\u001b[0m: x and y must have same first dimension, but have shapes (1999,) and (1595,)"
     ]
    }
   ],
   "source": [
    "plt.figure()\n",
    "plt.plot(r/var.au,d_g)\n",
    "#plt.yscale('log')\n",
    "#plt.xscale('log')"
   ]
  },
  {
   "cell_type": "code",
   "execution_count": 9,
   "metadata": {},
   "outputs": [
    {
     "ename": "ValueError",
     "evalue": "x and y must have same first dimension, but have shapes (1999,) and (1595,)",
     "output_type": "error",
     "traceback": [
      "\u001b[1;31m---------------------------------------------------------------------------\u001b[0m",
      "\u001b[1;31mValueError\u001b[0m                                Traceback (most recent call last)",
      "\u001b[1;32m<ipython-input-9-171d4a6feb09>\u001b[0m in \u001b[0;36m<module>\u001b[1;34m\u001b[0m\n\u001b[0;32m      1\u001b[0m \u001b[0mplt\u001b[0m\u001b[1;33m.\u001b[0m\u001b[0mfigure\u001b[0m\u001b[1;33m(\u001b[0m\u001b[1;33m)\u001b[0m\u001b[1;33m\u001b[0m\u001b[1;33m\u001b[0m\u001b[0m\n\u001b[1;32m----> 2\u001b[1;33m \u001b[0mplt\u001b[0m\u001b[1;33m.\u001b[0m\u001b[0mplot\u001b[0m\u001b[1;33m(\u001b[0m\u001b[0mr\u001b[0m\u001b[1;33m/\u001b[0m\u001b[0mvar\u001b[0m\u001b[1;33m.\u001b[0m\u001b[0mau\u001b[0m\u001b[1;33m,\u001b[0m\u001b[0md_s\u001b[0m\u001b[1;33m)\u001b[0m\u001b[1;33m\u001b[0m\u001b[1;33m\u001b[0m\u001b[0m\n\u001b[0m\u001b[0;32m      3\u001b[0m \u001b[0mplt\u001b[0m\u001b[1;33m.\u001b[0m\u001b[0myscale\u001b[0m\u001b[1;33m(\u001b[0m\u001b[1;34m'log'\u001b[0m\u001b[1;33m)\u001b[0m\u001b[1;33m\u001b[0m\u001b[1;33m\u001b[0m\u001b[0m\n\u001b[0;32m      4\u001b[0m \u001b[0mplt\u001b[0m\u001b[1;33m.\u001b[0m\u001b[0mxscale\u001b[0m\u001b[1;33m(\u001b[0m\u001b[1;34m'log'\u001b[0m\u001b[1;33m)\u001b[0m\u001b[1;33m\u001b[0m\u001b[1;33m\u001b[0m\u001b[0m\n",
      "\u001b[1;32m~\\anaconda3\\lib\\site-packages\\matplotlib\\pyplot.py\u001b[0m in \u001b[0;36mplot\u001b[1;34m(scalex, scaley, data, *args, **kwargs)\u001b[0m\n\u001b[0;32m   2838\u001b[0m \u001b[1;33m@\u001b[0m\u001b[0m_copy_docstring_and_deprecators\u001b[0m\u001b[1;33m(\u001b[0m\u001b[0mAxes\u001b[0m\u001b[1;33m.\u001b[0m\u001b[0mplot\u001b[0m\u001b[1;33m)\u001b[0m\u001b[1;33m\u001b[0m\u001b[1;33m\u001b[0m\u001b[0m\n\u001b[0;32m   2839\u001b[0m \u001b[1;32mdef\u001b[0m \u001b[0mplot\u001b[0m\u001b[1;33m(\u001b[0m\u001b[1;33m*\u001b[0m\u001b[0margs\u001b[0m\u001b[1;33m,\u001b[0m \u001b[0mscalex\u001b[0m\u001b[1;33m=\u001b[0m\u001b[1;32mTrue\u001b[0m\u001b[1;33m,\u001b[0m \u001b[0mscaley\u001b[0m\u001b[1;33m=\u001b[0m\u001b[1;32mTrue\u001b[0m\u001b[1;33m,\u001b[0m \u001b[0mdata\u001b[0m\u001b[1;33m=\u001b[0m\u001b[1;32mNone\u001b[0m\u001b[1;33m,\u001b[0m \u001b[1;33m**\u001b[0m\u001b[0mkwargs\u001b[0m\u001b[1;33m)\u001b[0m\u001b[1;33m:\u001b[0m\u001b[1;33m\u001b[0m\u001b[1;33m\u001b[0m\u001b[0m\n\u001b[1;32m-> 2840\u001b[1;33m     return gca().plot(\n\u001b[0m\u001b[0;32m   2841\u001b[0m         \u001b[1;33m*\u001b[0m\u001b[0margs\u001b[0m\u001b[1;33m,\u001b[0m \u001b[0mscalex\u001b[0m\u001b[1;33m=\u001b[0m\u001b[0mscalex\u001b[0m\u001b[1;33m,\u001b[0m \u001b[0mscaley\u001b[0m\u001b[1;33m=\u001b[0m\u001b[0mscaley\u001b[0m\u001b[1;33m,\u001b[0m\u001b[1;33m\u001b[0m\u001b[1;33m\u001b[0m\u001b[0m\n\u001b[0;32m   2842\u001b[0m         **({\"data\": data} if data is not None else {}), **kwargs)\n",
      "\u001b[1;32m~\\anaconda3\\lib\\site-packages\\matplotlib\\axes\\_axes.py\u001b[0m in \u001b[0;36mplot\u001b[1;34m(self, scalex, scaley, data, *args, **kwargs)\u001b[0m\n\u001b[0;32m   1741\u001b[0m         \"\"\"\n\u001b[0;32m   1742\u001b[0m         \u001b[0mkwargs\u001b[0m \u001b[1;33m=\u001b[0m \u001b[0mcbook\u001b[0m\u001b[1;33m.\u001b[0m\u001b[0mnormalize_kwargs\u001b[0m\u001b[1;33m(\u001b[0m\u001b[0mkwargs\u001b[0m\u001b[1;33m,\u001b[0m \u001b[0mmlines\u001b[0m\u001b[1;33m.\u001b[0m\u001b[0mLine2D\u001b[0m\u001b[1;33m)\u001b[0m\u001b[1;33m\u001b[0m\u001b[1;33m\u001b[0m\u001b[0m\n\u001b[1;32m-> 1743\u001b[1;33m         \u001b[0mlines\u001b[0m \u001b[1;33m=\u001b[0m \u001b[1;33m[\u001b[0m\u001b[1;33m*\u001b[0m\u001b[0mself\u001b[0m\u001b[1;33m.\u001b[0m\u001b[0m_get_lines\u001b[0m\u001b[1;33m(\u001b[0m\u001b[1;33m*\u001b[0m\u001b[0margs\u001b[0m\u001b[1;33m,\u001b[0m \u001b[0mdata\u001b[0m\u001b[1;33m=\u001b[0m\u001b[0mdata\u001b[0m\u001b[1;33m,\u001b[0m \u001b[1;33m**\u001b[0m\u001b[0mkwargs\u001b[0m\u001b[1;33m)\u001b[0m\u001b[1;33m]\u001b[0m\u001b[1;33m\u001b[0m\u001b[1;33m\u001b[0m\u001b[0m\n\u001b[0m\u001b[0;32m   1744\u001b[0m         \u001b[1;32mfor\u001b[0m \u001b[0mline\u001b[0m \u001b[1;32min\u001b[0m \u001b[0mlines\u001b[0m\u001b[1;33m:\u001b[0m\u001b[1;33m\u001b[0m\u001b[1;33m\u001b[0m\u001b[0m\n\u001b[0;32m   1745\u001b[0m             \u001b[0mself\u001b[0m\u001b[1;33m.\u001b[0m\u001b[0madd_line\u001b[0m\u001b[1;33m(\u001b[0m\u001b[0mline\u001b[0m\u001b[1;33m)\u001b[0m\u001b[1;33m\u001b[0m\u001b[1;33m\u001b[0m\u001b[0m\n",
      "\u001b[1;32m~\\anaconda3\\lib\\site-packages\\matplotlib\\axes\\_base.py\u001b[0m in \u001b[0;36m__call__\u001b[1;34m(self, data, *args, **kwargs)\u001b[0m\n\u001b[0;32m    271\u001b[0m                 \u001b[0mthis\u001b[0m \u001b[1;33m+=\u001b[0m \u001b[0margs\u001b[0m\u001b[1;33m[\u001b[0m\u001b[1;36m0\u001b[0m\u001b[1;33m]\u001b[0m\u001b[1;33m,\u001b[0m\u001b[1;33m\u001b[0m\u001b[1;33m\u001b[0m\u001b[0m\n\u001b[0;32m    272\u001b[0m                 \u001b[0margs\u001b[0m \u001b[1;33m=\u001b[0m \u001b[0margs\u001b[0m\u001b[1;33m[\u001b[0m\u001b[1;36m1\u001b[0m\u001b[1;33m:\u001b[0m\u001b[1;33m]\u001b[0m\u001b[1;33m\u001b[0m\u001b[1;33m\u001b[0m\u001b[0m\n\u001b[1;32m--> 273\u001b[1;33m             \u001b[1;32myield\u001b[0m \u001b[1;32mfrom\u001b[0m \u001b[0mself\u001b[0m\u001b[1;33m.\u001b[0m\u001b[0m_plot_args\u001b[0m\u001b[1;33m(\u001b[0m\u001b[0mthis\u001b[0m\u001b[1;33m,\u001b[0m \u001b[0mkwargs\u001b[0m\u001b[1;33m)\u001b[0m\u001b[1;33m\u001b[0m\u001b[1;33m\u001b[0m\u001b[0m\n\u001b[0m\u001b[0;32m    274\u001b[0m \u001b[1;33m\u001b[0m\u001b[0m\n\u001b[0;32m    275\u001b[0m     \u001b[1;32mdef\u001b[0m \u001b[0mget_next_color\u001b[0m\u001b[1;33m(\u001b[0m\u001b[0mself\u001b[0m\u001b[1;33m)\u001b[0m\u001b[1;33m:\u001b[0m\u001b[1;33m\u001b[0m\u001b[1;33m\u001b[0m\u001b[0m\n",
      "\u001b[1;32m~\\anaconda3\\lib\\site-packages\\matplotlib\\axes\\_base.py\u001b[0m in \u001b[0;36m_plot_args\u001b[1;34m(self, tup, kwargs)\u001b[0m\n\u001b[0;32m    397\u001b[0m \u001b[1;33m\u001b[0m\u001b[0m\n\u001b[0;32m    398\u001b[0m         \u001b[1;32mif\u001b[0m \u001b[0mx\u001b[0m\u001b[1;33m.\u001b[0m\u001b[0mshape\u001b[0m\u001b[1;33m[\u001b[0m\u001b[1;36m0\u001b[0m\u001b[1;33m]\u001b[0m \u001b[1;33m!=\u001b[0m \u001b[0my\u001b[0m\u001b[1;33m.\u001b[0m\u001b[0mshape\u001b[0m\u001b[1;33m[\u001b[0m\u001b[1;36m0\u001b[0m\u001b[1;33m]\u001b[0m\u001b[1;33m:\u001b[0m\u001b[1;33m\u001b[0m\u001b[1;33m\u001b[0m\u001b[0m\n\u001b[1;32m--> 399\u001b[1;33m             raise ValueError(f\"x and y must have same first dimension, but \"\n\u001b[0m\u001b[0;32m    400\u001b[0m                              f\"have shapes {x.shape} and {y.shape}\")\n\u001b[0;32m    401\u001b[0m         \u001b[1;32mif\u001b[0m \u001b[0mx\u001b[0m\u001b[1;33m.\u001b[0m\u001b[0mndim\u001b[0m \u001b[1;33m>\u001b[0m \u001b[1;36m2\u001b[0m \u001b[1;32mor\u001b[0m \u001b[0my\u001b[0m\u001b[1;33m.\u001b[0m\u001b[0mndim\u001b[0m \u001b[1;33m>\u001b[0m \u001b[1;36m2\u001b[0m\u001b[1;33m:\u001b[0m\u001b[1;33m\u001b[0m\u001b[1;33m\u001b[0m\u001b[0m\n",
      "\u001b[1;31mValueError\u001b[0m: x and y must have same first dimension, but have shapes (1999,) and (1595,)"
     ]
    }
   ],
   "source": [
    "plt.figure()\n",
    "plt.plot(r/var.au,d_s)\n",
    "plt.yscale('log')\n",
    "plt.xscale('log')"
   ]
  },
  {
   "cell_type": "code",
   "execution_count": 8,
   "metadata": {},
   "outputs": [
    {
     "ename": "ValueError",
     "evalue": "x and y must have same first dimension, but have shapes (1999,) and (1595,)",
     "output_type": "error",
     "traceback": [
      "\u001b[1;31m---------------------------------------------------------------------------\u001b[0m",
      "\u001b[1;31mValueError\u001b[0m                                Traceback (most recent call last)",
      "\u001b[1;32m<ipython-input-8-1a7b481ae64c>\u001b[0m in \u001b[0;36m<module>\u001b[1;34m\u001b[0m\n\u001b[0;32m      1\u001b[0m \u001b[0md\u001b[0m \u001b[1;33m=\u001b[0m \u001b[0md_g\u001b[0m \u001b[1;33m+\u001b[0m\u001b[0md_s\u001b[0m\u001b[1;33m\u001b[0m\u001b[1;33m\u001b[0m\u001b[0m\n\u001b[0;32m      2\u001b[0m \u001b[0mplt\u001b[0m\u001b[1;33m.\u001b[0m\u001b[0mfigure\u001b[0m\u001b[1;33m(\u001b[0m\u001b[1;33m)\u001b[0m\u001b[1;33m\u001b[0m\u001b[1;33m\u001b[0m\u001b[0m\n\u001b[1;32m----> 3\u001b[1;33m \u001b[0mplt\u001b[0m\u001b[1;33m.\u001b[0m\u001b[0mplot\u001b[0m\u001b[1;33m(\u001b[0m\u001b[0mr\u001b[0m\u001b[1;33m/\u001b[0m\u001b[0mvar\u001b[0m\u001b[1;33m.\u001b[0m\u001b[0mau\u001b[0m\u001b[1;33m,\u001b[0m\u001b[0md\u001b[0m\u001b[1;33m)\u001b[0m\u001b[1;33m\u001b[0m\u001b[1;33m\u001b[0m\u001b[0m\n\u001b[0m\u001b[0;32m      4\u001b[0m \u001b[0mplt\u001b[0m\u001b[1;33m.\u001b[0m\u001b[0myscale\u001b[0m\u001b[1;33m(\u001b[0m\u001b[1;34m'log'\u001b[0m\u001b[1;33m)\u001b[0m\u001b[1;33m\u001b[0m\u001b[1;33m\u001b[0m\u001b[0m\n\u001b[0;32m      5\u001b[0m \u001b[0mplt\u001b[0m\u001b[1;33m.\u001b[0m\u001b[0mxscale\u001b[0m\u001b[1;33m(\u001b[0m\u001b[1;34m'log'\u001b[0m\u001b[1;33m)\u001b[0m\u001b[1;33m\u001b[0m\u001b[1;33m\u001b[0m\u001b[0m\n",
      "\u001b[1;32m~\\anaconda3\\lib\\site-packages\\matplotlib\\pyplot.py\u001b[0m in \u001b[0;36mplot\u001b[1;34m(scalex, scaley, data, *args, **kwargs)\u001b[0m\n\u001b[0;32m   2838\u001b[0m \u001b[1;33m@\u001b[0m\u001b[0m_copy_docstring_and_deprecators\u001b[0m\u001b[1;33m(\u001b[0m\u001b[0mAxes\u001b[0m\u001b[1;33m.\u001b[0m\u001b[0mplot\u001b[0m\u001b[1;33m)\u001b[0m\u001b[1;33m\u001b[0m\u001b[1;33m\u001b[0m\u001b[0m\n\u001b[0;32m   2839\u001b[0m \u001b[1;32mdef\u001b[0m \u001b[0mplot\u001b[0m\u001b[1;33m(\u001b[0m\u001b[1;33m*\u001b[0m\u001b[0margs\u001b[0m\u001b[1;33m,\u001b[0m \u001b[0mscalex\u001b[0m\u001b[1;33m=\u001b[0m\u001b[1;32mTrue\u001b[0m\u001b[1;33m,\u001b[0m \u001b[0mscaley\u001b[0m\u001b[1;33m=\u001b[0m\u001b[1;32mTrue\u001b[0m\u001b[1;33m,\u001b[0m \u001b[0mdata\u001b[0m\u001b[1;33m=\u001b[0m\u001b[1;32mNone\u001b[0m\u001b[1;33m,\u001b[0m \u001b[1;33m**\u001b[0m\u001b[0mkwargs\u001b[0m\u001b[1;33m)\u001b[0m\u001b[1;33m:\u001b[0m\u001b[1;33m\u001b[0m\u001b[1;33m\u001b[0m\u001b[0m\n\u001b[1;32m-> 2840\u001b[1;33m     return gca().plot(\n\u001b[0m\u001b[0;32m   2841\u001b[0m         \u001b[1;33m*\u001b[0m\u001b[0margs\u001b[0m\u001b[1;33m,\u001b[0m \u001b[0mscalex\u001b[0m\u001b[1;33m=\u001b[0m\u001b[0mscalex\u001b[0m\u001b[1;33m,\u001b[0m \u001b[0mscaley\u001b[0m\u001b[1;33m=\u001b[0m\u001b[0mscaley\u001b[0m\u001b[1;33m,\u001b[0m\u001b[1;33m\u001b[0m\u001b[1;33m\u001b[0m\u001b[0m\n\u001b[0;32m   2842\u001b[0m         **({\"data\": data} if data is not None else {}), **kwargs)\n",
      "\u001b[1;32m~\\anaconda3\\lib\\site-packages\\matplotlib\\axes\\_axes.py\u001b[0m in \u001b[0;36mplot\u001b[1;34m(self, scalex, scaley, data, *args, **kwargs)\u001b[0m\n\u001b[0;32m   1741\u001b[0m         \"\"\"\n\u001b[0;32m   1742\u001b[0m         \u001b[0mkwargs\u001b[0m \u001b[1;33m=\u001b[0m \u001b[0mcbook\u001b[0m\u001b[1;33m.\u001b[0m\u001b[0mnormalize_kwargs\u001b[0m\u001b[1;33m(\u001b[0m\u001b[0mkwargs\u001b[0m\u001b[1;33m,\u001b[0m \u001b[0mmlines\u001b[0m\u001b[1;33m.\u001b[0m\u001b[0mLine2D\u001b[0m\u001b[1;33m)\u001b[0m\u001b[1;33m\u001b[0m\u001b[1;33m\u001b[0m\u001b[0m\n\u001b[1;32m-> 1743\u001b[1;33m         \u001b[0mlines\u001b[0m \u001b[1;33m=\u001b[0m \u001b[1;33m[\u001b[0m\u001b[1;33m*\u001b[0m\u001b[0mself\u001b[0m\u001b[1;33m.\u001b[0m\u001b[0m_get_lines\u001b[0m\u001b[1;33m(\u001b[0m\u001b[1;33m*\u001b[0m\u001b[0margs\u001b[0m\u001b[1;33m,\u001b[0m \u001b[0mdata\u001b[0m\u001b[1;33m=\u001b[0m\u001b[0mdata\u001b[0m\u001b[1;33m,\u001b[0m \u001b[1;33m**\u001b[0m\u001b[0mkwargs\u001b[0m\u001b[1;33m)\u001b[0m\u001b[1;33m]\u001b[0m\u001b[1;33m\u001b[0m\u001b[1;33m\u001b[0m\u001b[0m\n\u001b[0m\u001b[0;32m   1744\u001b[0m         \u001b[1;32mfor\u001b[0m \u001b[0mline\u001b[0m \u001b[1;32min\u001b[0m \u001b[0mlines\u001b[0m\u001b[1;33m:\u001b[0m\u001b[1;33m\u001b[0m\u001b[1;33m\u001b[0m\u001b[0m\n\u001b[0;32m   1745\u001b[0m             \u001b[0mself\u001b[0m\u001b[1;33m.\u001b[0m\u001b[0madd_line\u001b[0m\u001b[1;33m(\u001b[0m\u001b[0mline\u001b[0m\u001b[1;33m)\u001b[0m\u001b[1;33m\u001b[0m\u001b[1;33m\u001b[0m\u001b[0m\n",
      "\u001b[1;32m~\\anaconda3\\lib\\site-packages\\matplotlib\\axes\\_base.py\u001b[0m in \u001b[0;36m__call__\u001b[1;34m(self, data, *args, **kwargs)\u001b[0m\n\u001b[0;32m    271\u001b[0m                 \u001b[0mthis\u001b[0m \u001b[1;33m+=\u001b[0m \u001b[0margs\u001b[0m\u001b[1;33m[\u001b[0m\u001b[1;36m0\u001b[0m\u001b[1;33m]\u001b[0m\u001b[1;33m,\u001b[0m\u001b[1;33m\u001b[0m\u001b[1;33m\u001b[0m\u001b[0m\n\u001b[0;32m    272\u001b[0m                 \u001b[0margs\u001b[0m \u001b[1;33m=\u001b[0m \u001b[0margs\u001b[0m\u001b[1;33m[\u001b[0m\u001b[1;36m1\u001b[0m\u001b[1;33m:\u001b[0m\u001b[1;33m]\u001b[0m\u001b[1;33m\u001b[0m\u001b[1;33m\u001b[0m\u001b[0m\n\u001b[1;32m--> 273\u001b[1;33m             \u001b[1;32myield\u001b[0m \u001b[1;32mfrom\u001b[0m \u001b[0mself\u001b[0m\u001b[1;33m.\u001b[0m\u001b[0m_plot_args\u001b[0m\u001b[1;33m(\u001b[0m\u001b[0mthis\u001b[0m\u001b[1;33m,\u001b[0m \u001b[0mkwargs\u001b[0m\u001b[1;33m)\u001b[0m\u001b[1;33m\u001b[0m\u001b[1;33m\u001b[0m\u001b[0m\n\u001b[0m\u001b[0;32m    274\u001b[0m \u001b[1;33m\u001b[0m\u001b[0m\n\u001b[0;32m    275\u001b[0m     \u001b[1;32mdef\u001b[0m \u001b[0mget_next_color\u001b[0m\u001b[1;33m(\u001b[0m\u001b[0mself\u001b[0m\u001b[1;33m)\u001b[0m\u001b[1;33m:\u001b[0m\u001b[1;33m\u001b[0m\u001b[1;33m\u001b[0m\u001b[0m\n",
      "\u001b[1;32m~\\anaconda3\\lib\\site-packages\\matplotlib\\axes\\_base.py\u001b[0m in \u001b[0;36m_plot_args\u001b[1;34m(self, tup, kwargs)\u001b[0m\n\u001b[0;32m    397\u001b[0m \u001b[1;33m\u001b[0m\u001b[0m\n\u001b[0;32m    398\u001b[0m         \u001b[1;32mif\u001b[0m \u001b[0mx\u001b[0m\u001b[1;33m.\u001b[0m\u001b[0mshape\u001b[0m\u001b[1;33m[\u001b[0m\u001b[1;36m0\u001b[0m\u001b[1;33m]\u001b[0m \u001b[1;33m!=\u001b[0m \u001b[0my\u001b[0m\u001b[1;33m.\u001b[0m\u001b[0mshape\u001b[0m\u001b[1;33m[\u001b[0m\u001b[1;36m0\u001b[0m\u001b[1;33m]\u001b[0m\u001b[1;33m:\u001b[0m\u001b[1;33m\u001b[0m\u001b[1;33m\u001b[0m\u001b[0m\n\u001b[1;32m--> 399\u001b[1;33m             raise ValueError(f\"x and y must have same first dimension, but \"\n\u001b[0m\u001b[0;32m    400\u001b[0m                              f\"have shapes {x.shape} and {y.shape}\")\n\u001b[0;32m    401\u001b[0m         \u001b[1;32mif\u001b[0m \u001b[0mx\u001b[0m\u001b[1;33m.\u001b[0m\u001b[0mndim\u001b[0m \u001b[1;33m>\u001b[0m \u001b[1;36m2\u001b[0m \u001b[1;32mor\u001b[0m \u001b[0my\u001b[0m\u001b[1;33m.\u001b[0m\u001b[0mndim\u001b[0m \u001b[1;33m>\u001b[0m \u001b[1;36m2\u001b[0m\u001b[1;33m:\u001b[0m\u001b[1;33m\u001b[0m\u001b[1;33m\u001b[0m\u001b[0m\n",
      "\u001b[1;31mValueError\u001b[0m: x and y must have same first dimension, but have shapes (1999,) and (1595,)"
     ]
    }
   ],
   "source": [
    "d = d_g +d_s\n",
    "plt.figure()\n",
    "plt.plot(r/var.au,d)\n",
    "plt.yscale('log')\n",
    "plt.xscale('log')"
   ]
  },
  {
   "cell_type": "code",
   "execution_count": null,
   "metadata": {},
   "outputs": [],
   "source": [
    "print np.zeros(2)"
   ]
  }
 ],
 "metadata": {
  "kernelspec": {
   "display_name": "Python 3",
   "language": "python",
   "name": "python3"
  },
  "language_info": {
   "codemirror_mode": {
    "name": "ipython",
    "version": 3
   },
   "file_extension": ".py",
   "mimetype": "text/x-python",
   "name": "python",
   "nbconvert_exporter": "python",
   "pygments_lexer": "ipython3",
   "version": "3.8.5"
  }
 },
 "nbformat": 4,
 "nbformat_minor": 2
}
