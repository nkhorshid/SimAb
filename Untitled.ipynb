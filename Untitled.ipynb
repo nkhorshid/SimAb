{
 "cells": [
  {
   "cell_type": "code",
   "execution_count": 1,
   "metadata": {},
   "outputs": [],
   "source": [
    "import numpy as np\n",
    "import matplotlib.pyplot as plt\n",
    "import variable as var\n",
    "from disk1 import Disk\n",
    "from chem import Chem\n",
    "import matplotlib.pylab as pylab\n",
    "import matplotlib.axes as ax\n",
    "\n",
    "\n",
    "from scipy.stats import spearmanr\n",
    "%matplotlib qt\n",
    "dsk = Disk()\n",
    "chm = Chem()\n",
    "font = {'family' : 'normal',\n",
    "        'weight' : 'bold',\n",
    "        'size'   : 22}\n",
    "\n",
    "pylab.rc('font', **font)"
   ]
  },
  {
   "cell_type": "code",
   "execution_count": 2,
   "metadata": {},
   "outputs": [],
   "source": [
    "r = np.arange(0.05,100,0.05)*var.au\n",
    "M_p = np.zeros_like(r)\n",
    "M_p0= np.zeros_like(r)\n",
    "for i in range(len(r)-1):\n",
    "    dsk.evolve(r[i])\n",
    "      \n",
    "    dens = dsk.dns*dsk.dTg\n",
    "    d_mig =(r[i+1]**2 - r[i]**2) * np.pi\n",
    "    M_p0[i+1] =dens*d_mig\n",
    "    M_p[i+1]=M_p[i]+M_p0[i+1]\n",
    "            "
   ]
  },
  {
   "cell_type": "code",
   "execution_count": 3,
   "metadata": {},
   "outputs": [
    {
     "name": "stderr",
     "output_type": "stream",
     "text": [
      "findfont: Font family ['normal'] not found. Falling back to DejaVu Sans.\n"
     ]
    }
   ],
   "source": [
    "r_ice = dsk.r_arr[4:]\n",
    "plt.figure()\n",
    "plt.plot(r/var.au,M_p0/(var.M_earth))\n",
    "#plt.axhline(y=3.18,color='black')\n",
    "for i in range(len(r_ice)):\n",
    "    plt.axvline(x=r_ice[i]/var.au,color='black')\n",
    "#plt.yscale('log')\n",
    "#plt.xscale('log')\n",
    "plt.show()"
   ]
  },
  {
   "cell_type": "code",
   "execution_count": 4,
   "metadata": {},
   "outputs": [
    {
     "name": "stderr",
     "output_type": "stream",
     "text": [
      "findfont: Font family ['normal'] not found. Falling back to DejaVu Sans.\n"
     ]
    }
   ],
   "source": [
    "plt.figure()\n",
    "r_ice = dsk.r_arr[4:]\n",
    "plt.plot(r/var.au,M_p/(var.M_earth))\n",
    "plt.axhline(y=3.18,color='black')\n",
    "plt.xlabel('distance[AU]')\n",
    "plt.ylabel('maximum mas that can be accreted in solid')\n",
    "for i in range(len(r_ice)):\n",
    "    plt.axvline(x=r_ice[i]/var.au,color='black')\n",
    "#plt.yscale('log')\n",
    "#plt.xscale('log')\n"
   ]
  },
  {
   "cell_type": "code",
   "execution_count": 4,
   "metadata": {},
   "outputs": [
    {
     "name": "stdout",
     "output_type": "stream",
     "text": [
      "2.620043176535403e-13 1042.7771842610905 5.97e+26 150000000000.0\n"
     ]
    }
   ],
   "source": [
    "r = 1 * var.au\n",
    "M = 100 * var.M_earth\n",
    "dns = dsk.dens_r(r)\n",
    "\n",
    "\n",
    "dt0 = r\n",
    "dt1 = M/(r*dns[0]) \n",
    "\n",
    "dr0 = 1/r\n",
    "dr1 = (r*dns[0])/M\n",
    "print (dr1,dns[0],M,r)\n",
    "\n",
    "\n"
   ]
  }
 ],
 "metadata": {
  "kernelspec": {
   "display_name": "Python 3",
   "language": "python",
   "name": "python3"
  },
  "language_info": {
   "codemirror_mode": {
    "name": "ipython",
    "version": 3
   },
   "file_extension": ".py",
   "mimetype": "text/x-python",
   "name": "python",
   "nbconvert_exporter": "python",
   "pygments_lexer": "ipython3",
   "version": "3.7.4"
  }
 },
 "nbformat": 4,
 "nbformat_minor": 2
}
