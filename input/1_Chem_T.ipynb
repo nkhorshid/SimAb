{
 "cells": [
  {
   "cell_type": "markdown",
   "metadata": {},
   "source": [
    "# Import section"
   ]
  },
  {
   "cell_type": "code",
   "execution_count": 1,
   "metadata": {},
   "outputs": [],
   "source": [
    "#One thing to calculate is the C/O ratio\n",
    "import numpy as np\n",
    "import matplotlib.pyplot as plt"
   ]
  },
  {
   "cell_type": "code",
   "execution_count": 11,
   "metadata": {},
   "outputs": [
    {
     "name": "stdout",
     "output_type": "stream",
     "text": [
      "6 \t The atom is: K\n",
      "1 \t The atom is: Na\n",
      "3 \t The atom is: Al\n",
      "5 \t The atom is: S\n",
      "7 \t The atom is: Fe\n",
      "6 \t The atom is: K\n",
      "1 \t The atom is: Na\n",
      "3 \t The atom is: Al\n",
      "5 \t The atom is: S\n",
      "7 \t The atom is: Fe\n",
      "6 \t The atom is: K\n",
      "1 \t The atom is: Na\n",
      "3 \t The atom is: Al\n",
      "5 \t The atom is: S\n",
      "7 \t The atom is: Fe\n",
      "6 \t The atom is: K\n",
      "1 \t The atom is: Na\n",
      "3 \t The atom is: Al\n",
      "5 \t The atom is: S\n",
      "7 \t The atom is: Fe\n",
      "5 \t The atom is: K\n",
      "1 \t The atom is: Na\n",
      "3 \t The atom is: Al\n",
      "6 \t The atom is: Fe\n",
      "5 \t The atom is: K\n",
      "1 \t The atom is: Na\n",
      "3 \t The atom is: Al\n",
      "6 \t The atom is: Fe\n",
      "5 \t The atom is: K\n",
      "1 \t The atom is: Na\n",
      "3 \t The atom is: Al\n",
      "6 \t The atom is: Fe\n",
      "5 \t The atom is: K\n",
      "1 \t The atom is: Na\n",
      "3 \t The atom is: Al\n",
      "6 \t The atom is: Fe\n",
      "2 \t The atom is: Al\n",
      "4 \t The atom is: Fe\n",
      "2 \t The atom is: Al\n",
      "4 \t The atom is: Fe\n",
      "2 \t The atom is: Al\n",
      "4 \t The atom is: Fe\n",
      "2 \t The atom is: Al\n",
      "4 \t The atom is: Fe\n",
      "2 \t The atom is: Al\n",
      "4 \t The atom is: Fe\n",
      "2 \t The atom is: Al\n",
      "4 \t The atom is: Fe\n",
      "2 \t The atom is: Al\n",
      "4 \t The atom is: Fe\n",
      "2 \t The atom is: Al\n",
      "1 \t The atom is: Al\n",
      "1 \t The atom is: Al\n",
      "1 \t The atom is: Al\n",
      "1 \t The atom is: Al\n",
      "1 \t The atom is: Al\n",
      "1 \t The atom is: Al\n"
     ]
    }
   ],
   "source": [
    "#Write the atom abundances onto a file:\n",
    "def wfile (name):\n",
    "\n",
    "    atoms ='T'+'\\t'+ 'H'+'\\t'+ 'He'+'\\t'+'Li'+'\\t'+ 'C'+'\\t'+ 'N'+'\\t'+ 'O'+'\\t'+ 'Na'+'\\t'+ 'Mg'+'\\t'+ 'Al'+'\\t'+ 'Si'+'\\t'+ ' S'+'\\t'+ 'K'+'\\t'+ 'Fe'\n",
    "\n",
    "    f = open(name,'w')\n",
    "    f.write(atoms+'\\n')\n",
    "    T = np.arange(500, 1650,50 )\n",
    "    for i in range(T.shape[0]):\n",
    "        #print ('Loop_',i,'T = ', T[i])\n",
    "        res=chem(T[i])\n",
    "        #print (range(res[0].shape[0])\n",
    "        f.write(T[i].astype(str)+'\\t')\n",
    "        for j in range(res[0].shape[0]):\n",
    "            f.write(res[0][j].astype(str)+'\\t')\n",
    "        f.write('\\n')\n",
    "        \n",
    "    f.close()\n",
    "\n"
   ]
  },
  {
   "cell_type": "code",
   "execution_count": 2,
   "metadata": {},
   "outputs": [
    {
     "data": {
      "text/plain": [
       "\"\\nTest:\\na =  np.array([3.8726500e+08, 3.7252903e-09, 0.0000000e+00, 0.0000000e+00,\\n       0.0000000e+00]) \\nb = np.array(['O', 'Mg', 'Al', 'Si', 'Fe'])\\nc = np.array([2.69e+08, 4.90e+08, 1.86e+06, 3.39e+07, 2.69e+06, 3.24e+07,\\n       1.41e+07, 1.20e+05, 2.82e+07])\\nd = np.array(['C', 'O', 'Na', 'Mg', 'Al', 'Si', 'S', 'K', 'Fe'])\\ne = sort_atm(b,a,d,c)    \\n\""
      ]
     },
     "execution_count": 2,
     "metadata": {},
     "output_type": "execute_result"
    }
   ],
   "source": [
    "# Sort the calculated abundance based on atomic number:\n",
    "def sort_atm(atm_sub, ab_sub, atm, ab):\n",
    "    n = atm_sub.shape[0]\n",
    "    for i in range(n):\n",
    "        m = np.where(atm == atm_sub[i])[0][0]\n",
    "        ab[m] = ab_sub[i]\n",
    "    return ab\n",
    "        \n",
    "\n",
    "'''\n",
    "Test:\n",
    "a =  np.array([3.8726500e+08, 3.7252903e-09, 0.0000000e+00, 0.0000000e+00,\n",
    "       0.0000000e+00]) \n",
    "b = np.array(['O', 'Mg', 'Al', 'Si', 'Fe'])\n",
    "c = np.array([2.69e+08, 4.90e+08, 1.86e+06, 3.39e+07, 2.69e+06, 3.24e+07,\n",
    "       1.41e+07, 1.20e+05, 2.82e+07])\n",
    "d = np.array(['C', 'O', 'Na', 'Mg', 'Al', 'Si', 'S', 'K', 'Fe'])\n",
    "e = sort_atm(b,a,d,c)    \n",
    "'''"
   ]
  },
  {
   "cell_type": "code",
   "execution_count": 3,
   "metadata": {},
   "outputs": [],
   "source": [
    "#Calculating Si abundance in the solid:\n",
    "def Si_ab(atm_nm, ab):\n",
    "    #Mg and Si:\n",
    "    si = np.where(atm_nm == 'Si')\n",
    "    mg = np.where(atm_nm == 'Mg')\n",
    "    o = np.where(atm_nm == 'O')\n",
    "    x = ab[mg]/ab[si]\n",
    "    ab[mg] = ab[mg] - ab[si]*x\n",
    "    ab[o] = ab[o] - ab[si]*(x+2)\n",
    "    ab[si] = ab[si] - ab[si]\n",
    "    #print (ab)\n",
    "    return ab\n",
    "    "
   ]
  },
  {
   "cell_type": "markdown",
   "metadata": {},
   "source": [
    "## Side functions"
   ]
  },
  {
   "cell_type": "code",
   "execution_count": 7,
   "metadata": {},
   "outputs": [],
   "source": [
    "#Calculating elemental abundances in the solid at a given T\n",
    "def chem (T):\n",
    "    fname = 'N_Molec.atm'\n",
    "    aname = 'N_Atom.txt'\n",
    "    atm_load = np.loadtxt(aname,dtype= str)\n",
    "    atm_n = atm_load[:,1]\n",
    "    atm_ab = atm_load[:,5].astype(float)\n",
    "    dat_load = np.loadtxt(fname,dtype= str)\n",
    "    dat = dat_load[1:-2,1:-1].astype(int)\n",
    "    dat_T = dat_load[1:-2,-1].astype(float)\n",
    "    ab = dat_load[11,1:-1].astype(float)\n",
    "    ab_cp = np.copy(atm_ab)\n",
    "    atm = dat_load[0,1:-1]\n",
    "    mlc = dat_load[1:-2,0]\n",
    "    sld = np.zeros(atm.shape[0])\n",
    "    \n",
    "    r = np.array([1.,1.,0.1,0.9,0.21,1,0.79,1.,1.,1.])\n",
    "    \n",
    "    \n",
    "    t = np.where(dat_T >= T)\n",
    "    dat_cp = np.copy(dat[t])\n",
    "    n = np.where(dat_cp != 0 )\n",
    "    n = np.unique(n[1])\n",
    "    ab_srt = np.zeros_like(n)\n",
    "    ab_srt = ab[n]\n",
    "    set1 = np.argsort(ab_srt)\n",
    "    atm_cp = atm[n]\n",
    "    dat_cp = dat_cp[:,n]\n",
    "    ab_r = np.zeros(ab_srt.shape[0])\n",
    "    #print ('This is the starting abundance:\\n',ab_srt)\n",
    "    for i in set1:\n",
    "        if atm_cp[i] =='Si':\n",
    "            ab_srt = Si_ab(atm_cp,ab_srt)\n",
    "            break\n",
    "        if atm_cp[i] =='Mg' or atm_cp[i] == 'O':\n",
    "            break\n",
    "    \n",
    "        print (i, '\\t','The atom is:', atm_cp[i])\n",
    "    \n",
    "        atm_info = dat_cp[:,i]\n",
    "        j = np.nonzero(atm_info)[0]\n",
    "        \n",
    "        N_list = np.zeros_like(dat_cp[j[0],:].astype(float))\n",
    "    \n",
    "        M_r = np.zeros_like(j)\n",
    "        count = 0\n",
    "        for j1 in j:\n",
    "            M_r[count] = dat_cp[j1,i].astype(float)\n",
    "            N_list = N_list +dat_cp[j1,:].astype(float)\n",
    "            count += 1\n",
    "        ab_r1 = ab_srt[i]*N_list/N_list[i]\n",
    "        ab_srt = (ab_srt - ab_r1)\n",
    "        ab_r = ab_r +ab_r1\n",
    "        dat_cp[:,i] = 0\n",
    "    ab_f= sort_atm(atm_cp, ab_srt, atm_n, ab_cp)\n",
    "    return ab_f, atm_ab"
   ]
  },
  {
   "cell_type": "markdown",
   "metadata": {},
   "source": [
    "# Main run"
   ]
  },
  {
   "cell_type": "code",
   "execution_count": null,
   "metadata": {},
   "outputs": [],
   "source": [
    "name = 'molec_ab1.txt'\n",
    "wfile(name)"
   ]
  },
  {
   "cell_type": "code",
   "execution_count": 8,
   "metadata": {},
   "outputs": [
    {
     "name": "stdout",
     "output_type": "stream",
     "text": [
      "1 \t The atom is: Al\n"
     ]
    },
    {
     "data": {
      "text/plain": [
       "([<matplotlib.axis.XTick at 0x7f43df5f2460>,\n",
       "  <matplotlib.axis.XTick at 0x7f43df5f2430>,\n",
       "  <matplotlib.axis.XTick at 0x7f43df5d7f40>,\n",
       "  <matplotlib.axis.XTick at 0x7f43dee20040>,\n",
       "  <matplotlib.axis.XTick at 0x7f43dee20550>,\n",
       "  <matplotlib.axis.XTick at 0x7f43dee20a60>,\n",
       "  <matplotlib.axis.XTick at 0x7f43dee20f70>,\n",
       "  <matplotlib.axis.XTick at 0x7f43dee224c0>,\n",
       "  <matplotlib.axis.XTick at 0x7f43dee229d0>,\n",
       "  <matplotlib.axis.XTick at 0x7f43dee22ee0>,\n",
       "  <matplotlib.axis.XTick at 0x7f43dee2c430>],\n",
       " [Text(0, 0, 'Li'),\n",
       "  Text(1, 0, 'C'),\n",
       "  Text(2, 0, 'N'),\n",
       "  Text(3, 0, 'O'),\n",
       "  Text(4, 0, 'Na'),\n",
       "  Text(5, 0, 'Mg'),\n",
       "  Text(6, 0, 'Al'),\n",
       "  Text(7, 0, 'si'),\n",
       "  Text(8, 0, 'S'),\n",
       "  Text(9, 0, 'K'),\n",
       "  Text(10, 0, 'Fe')])"
      ]
     },
     "execution_count": 8,
     "metadata": {},
     "output_type": "execute_result"
    },
    {
     "data": {
      "image/png": "[encoded data removed]",
      "text/plain": [
       "<Figure size 432x288 with 1 Axes>"
      ]
     },
     "metadata": {
      "needs_background": "light"
     },
     "output_type": "display_data"
    }
   ],
   "source": [
    "#Main \n",
    "T = 1500\n",
    "res = chem(T)\n",
    "#print (res)\n",
    "bars = ('Li', 'C', 'N', 'O', 'Na', 'Mg', 'Al', 'si', 'S', 'K', 'Fe')\n",
    "plt.figure()\n",
    "y_pos = np.arange(len(bars))\n",
    "plt.plot(y_pos,res[0][2:],'.b')\n",
    "plt.plot(y_pos,res[1][2:],'.r')\n",
    "\n",
    "\n",
    "y_pos = np.arange(len(bars))\n",
    "\n",
    "# Add title and axis names\n",
    "#plt.title('My title')\n",
    "plt.xlabel('Atoms')\n",
    "plt.ylabel('abundance')\n",
    " \n",
    "# Limits for the Y axis\n",
    " \n",
    "# Create names\n",
    "plt.xticks(y_pos, bars)\n",
    " \n",
    "#plt.yscale('log')"
   ]
  }
 ],
 "metadata": {
  "kernelspec": {
   "display_name": "Python 3",
   "language": "python",
   "name": "python3"
  },
  "language_info": {
   "codemirror_mode": {
    "name": "ipython",
    "version": 3
   },
   "file_extension": ".py",
   "mimetype": "text/x-python",
   "name": "python",
   "nbconvert_exporter": "python",
   "pygments_lexer": "ipython3",
   "version": "3.8.5"
  }
 },
 "nbformat": 4,
 "nbformat_minor": 2
}
