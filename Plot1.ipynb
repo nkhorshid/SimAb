{
 "cells": [
  {
   "cell_type": "code",
   "execution_count": 1,
   "metadata": {},
   "outputs": [],
   "source": [
    "import numpy as np\n",
    "import matplotlib.pyplot as plt\n",
    "import variable as var\n",
    "from disk import Disk\n",
    "from chem import Chem\n",
    "import matplotlib.pylab as pylab\n",
    "import matplotlib.axes as ax\n",
    "\n",
    "\n",
    "from scipy.stats import spearmanr\n",
    "%matplotlib qt\n",
    "dsk = Disk()\n",
    "chm = Chem()\n",
    "font = {'family' : 'normal',\n",
    "        'weight' : 'bold',\n",
    "        'size'   : 22}\n",
    "\n",
    "pylab.rc('font', **font)"
   ]
  },
  {
   "cell_type": "code",
   "execution_count": 2,
   "metadata": {},
   "outputs": [],
   "source": [
    "#functions:\n",
    "def scatter(x,y,z,xlabel = '',ylabel='',clabel = '',title = ''):\n",
    "    plt.figure(figsize=(15,8))\n",
    "    plt.scatter(x,y,c=z, s = 10)\n",
    "    plt.xlabel(xlabel, fontsize = 22,fontweight = 'bold')\n",
    "    plt.ylabel(ylabel, fontsize = 22,fontweight = 'bold')\n",
    "    plt.title(title)\n",
    "    plt.colorbar(label = clabel)\n",
    "\n",
    "\n",
    "def plot(x,y,xlabel = '',ylabel='',title = ''):\n",
    "    plt.figure()\n",
    "    plt.plot(x,y,'.')\n",
    "    plt.xlabel(xlabel)\n",
    "    plt.ylabel(ylabel)\n",
    "    plt.title(title)\n"
   ]
  },
  {
   "cell_type": "code",
   "execution_count": 12,
   "metadata": {},
   "outputs": [],
   "source": [
    "#Inputs:\n",
    "name0 = 301"
   ]
  },
  {
   "cell_type": "code",
   "execution_count": 13,
   "metadata": {},
   "outputs": [],
   "source": [
    "#Load data:\n",
    "name_s = 'input/N_Atom.txt'\n",
    "solar = np.loadtxt(name_s,dtype= str)[0:, 5].astype(float)\n",
    "\n",
    "doc0 = 'Output/run_sum'+str(name0)+'.txt'\n",
    "dat0 = np.loadtxt(doc0, dtype = str, skiprows = 1)[0:,1:].astype(float)"
   ]
  },
  {
   "cell_type": "markdown",
   "metadata": {},
   "source": [
    "## Compare multiple data:"
   ]
  },
  {
   "cell_type": "code",
   "execution_count": 14,
   "metadata": {},
   "outputs": [],
   "source": [
    "%matplotlib qt\n",
    "\n",
    "P0 = dat0\n",
    "plt.figure()\n",
    "plt.plot(P0[:,7],P0[:,11]*solar[3]/(P0[:,13]*solar[5]),'.')\n",
    "\n",
    "plt.xlabel('Metalicity')\n",
    "plt.ylabel('C/O')\n",
    "plt.show()"
   ]
  },
  {
   "cell_type": "markdown",
   "metadata": {},
   "source": [
    "# Individual data:"
   ]
  },
  {
   "cell_type": "code",
   "execution_count": 15,
   "metadata": {},
   "outputs": [],
   "source": [
    "#set the data you want to plot:\n",
    "dat = dat0"
   ]
  },
  {
   "cell_type": "code",
   "execution_count": 16,
   "metadata": {},
   "outputs": [],
   "source": [
    "#Plot regions:\n",
    "%matplotlib qt\n",
    "\n",
    "c = dsk.r_arr[4:]/var.au\n",
    "\n",
    "gn = np.where((dat[:,11]*solar[3]/(dat[:,13]*solar[5]))<=0.92)\n",
    "dat = np.copy(dat[gn])\n",
    "g0 =np.where((dat[:,2]<=c[0]))\n",
    "g1 =np.where((dat[:,2]<=c[1])&(dat[:,2]>c[0]))\n",
    "g2 =np.where((dat[:,2]<=c[2])&(dat[:,2]>c[1]))\n",
    "g3 =np.where((dat[:,2]<=c[3])&(dat[:,2]>c[2]))\n",
    "g4 =np.where((dat[:,2]>c[3]))\n",
    "\n",
    "datg0 = np.copy(dat[g0])\n",
    "datg1 = np.copy(dat[g1])\n",
    "datg2 = np.copy(dat[g2])\n",
    "datg3 = np.copy(dat[g3])\n",
    "datg4 = np.copy(dat[g4])\n",
    "\n",
    "plt.figure()\n",
    "plt.plot(datg4[:,7],datg4[:,11]*solar[3]/(datg4[:,13]*solar[5]),'g.',alpha = 0.75,label = 'Region 4')\n",
    "plt.plot(datg3[:,7],datg3[:,11]*solar[3]/(datg3[:,13]*solar[5]),'b.',alpha = 0.75,label = 'Region 3')\n",
    "plt.plot(datg2[:,7],datg2[:,11]*solar[3]/(datg2[:,13]*solar[5]),'r.',alpha = 0.75, label ='Region 2')\n",
    "plt.plot(datg1[:,7],datg1[:,11]*solar[3]/(datg1[:,13]*solar[5]),'k.', label = 'Region 1')\n",
    "plt.plot(datg0[:,7],datg0[:,11]*solar[3]/(datg0[:,13]*solar[5]),'.', color = 'cyan', label = 'Region 0')\n",
    "\n",
    "plt.axhline(y=0.55,color='black')\n",
    "plt.axvline(x=0.0,color='black')\n",
    "plt.legend()\n",
    "plt.xlabel('Metalicity', fontsize = 22,fontweight = 'bold')\n",
    "plt.ylabel('C/O', fontsize = 22,fontweight = 'bold')\n",
    "#plt.title('')\n",
    "plt.show()\n",
    " "
   ]
  },
  {
   "cell_type": "code",
   "execution_count": 23,
   "metadata": {},
   "outputs": [
    {
     "data": {
      "text/plain": [
       "(array([0.3, 0.4, 0.5, 0.6, 0.7, 0.8, 0.9]),\n",
       " <a list of 7 Text yticklabel objects>)"
      ]
     },
     "execution_count": 23,
     "metadata": {},
     "output_type": "execute_result"
    }
   ],
   "source": [
    "#Set the plot axis\n",
    "data = dat\n",
    "x = data[:,7]\n",
    "y = data[:,11]*solar[3]/(data[:,13]*solar[5])\n",
    "z1 = data[:,0]\n",
    "z2 = data[:,2]\n",
    "z3 = data[:,4]\n",
    "z4 = data[:,5]\n"
   ]
  },
  {
   "cell_type": "code",
   "execution_count": 27,
   "metadata": {},
   "outputs": [
    {
     "data": {
      "text/plain": [
       "(array([0.3, 0.4, 0.5, 0.6, 0.7, 0.8, 0.9]),\n",
       " <a list of 7 Text yticklabel objects>)"
      ]
     },
     "execution_count": 27,
     "metadata": {},
     "output_type": "execute_result"
    }
   ],
   "source": [
    "#Scatter plot based on distance\n",
    "scatter(x,y,z2,'Metalicity','C/O','Orbital Distance')\n",
    "plt.axhline(y=0.55,color='black')\n",
    "plt.axvline(x=0.0,color='black')\n",
    "plt.tick_params(size=5,width=2)\n",
    "plt.xticks(fontsize=30)\n",
    "plt.yticks(fontsize=30)\n",
    "#plt.savefig('line_plot.pdf')"
   ]
  },
  {
   "cell_type": "code",
   "execution_count": 28,
   "metadata": {},
   "outputs": [
    {
     "data": {
      "text/plain": [
       "(array([0.3, 0.4, 0.5, 0.6, 0.7, 0.8, 0.9]),\n",
       " <a list of 7 Text yticklabel objects>)"
      ]
     },
     "execution_count": 28,
     "metadata": {},
     "output_type": "execute_result"
    }
   ],
   "source": [
    "#Scatter plot based on mass\n",
    "scatter(x,y,z1,'Metalicity','C/O','Initial Mass [M_E]')\n",
    "plt.axhline(y=0.55,color='black')\n",
    "plt.axvline(x=0.0,color='black')\n",
    "plt.tick_params(size=5,width=2)\n",
    "plt.xticks(fontsize=30)\n",
    "plt.yticks(fontsize=30)"
   ]
  },
  {
   "cell_type": "code",
   "execution_count": 29,
   "metadata": {},
   "outputs": [
    {
     "data": {
      "text/plain": [
       "(array([0.3, 0.4, 0.5, 0.6, 0.7, 0.8, 0.9]),\n",
       " <a list of 7 Text yticklabel objects>)"
      ]
     },
     "execution_count": 29,
     "metadata": {},
     "output_type": "execute_result"
    }
   ],
   "source": [
    "#Scatter plot based on dustgrains\n",
    "scatter(x,y,z3,'Metalicity','C/O','dustgrain Ratio')\n",
    "plt.axhline(y=0.55,color='black')\n",
    "plt.axvline(x=0.0,color='black')\n",
    "plt.tick_params(size=5,width=2)\n",
    "plt.xticks(fontsize=30)\n",
    "plt.yticks(fontsize=30)"
   ]
  },
  {
   "cell_type": "code",
   "execution_count": 30,
   "metadata": {},
   "outputs": [
    {
     "data": {
      "text/plain": [
       "(array([0.3, 0.4, 0.5, 0.6, 0.7, 0.8, 0.9]),\n",
       " <a list of 7 Text yticklabel objects>)"
      ]
     },
     "execution_count": 30,
     "metadata": {},
     "output_type": "execute_result"
    }
   ],
   "source": [
    "#Scatter plot based on planetesimals\n",
    "scatter(x,y,z4,'Metalicity','C/O','Planetesimal Ratio')\n",
    "plt.axhline(y=0.55,color='black')\n",
    "plt.axvline(x=0.0,color='black')\n",
    "plt.tick_params(size=5,width=2)\n",
    "plt.xticks(fontsize=30)\n",
    "plt.yticks(fontsize=30)"
   ]
  }
 ],
 "metadata": {
  "kernelspec": {
   "display_name": "Python 3",
   "language": "python",
   "name": "python3"
  },
  "language_info": {
   "codemirror_mode": {
    "name": "ipython",
    "version": 3
   },
   "file_extension": ".py",
   "mimetype": "text/x-python",
   "name": "python",
   "nbconvert_exporter": "python",
   "pygments_lexer": "ipython3",
   "version": "3.7.4"
  }
 },
 "nbformat": 4,
 "nbformat_minor": 2
}
