{
 "cells": [
  {
   "cell_type": "code",
   "execution_count": 1,
   "metadata": {},
   "outputs": [],
   "source": [
    "import numpy as np\n",
    "import matplotlib.pyplot as plt\n",
    "import variable as var\n",
    "from disk import Disk\n",
    "from chem import Chem\n",
    "import matplotlib.pylab as pylab\n",
    "import matplotlib.axes as ax\n",
    "\n",
    "from scipy.stats import spearmanr\n",
    "%matplotlib qt\n",
    "dsk = Disk()\n",
    "chm = Chem()\n",
    "font = {'family' : 'normal',\n",
    "        'weight' : 'bold',\n",
    "        'size'   : 30}\n",
    "\n",
    "pylab.rc('font', **font)\n",
    "fsize = 30"
   ]
  },
  {
   "cell_type": "markdown",
   "metadata": {},
   "source": [
    "# Set the values"
   ]
  },
  {
   "cell_type": "code",
   "execution_count": 2,
   "metadata": {},
   "outputs": [],
   "source": [
    "dsk.calc_r()\n",
    "r_ice = dsk.r_arr\n",
    "dtg = dsk.dtg\n",
    "T = dsk.T_arr\n",
    "r = r_ice/var.au\n",
    "\n",
    "r = np.append (r,100)\n",
    "T100 = dsk.tempr(r[-1]*var.au)\n",
    "T = np.append(T,T100)\n",
    "dtg = np.append(dtg,dtg[-1])"
   ]
  },
  {
   "cell_type": "code",
   "execution_count": 3,
   "metadata": {},
   "outputs": [],
   "source": [
    "#Set zero\n",
    "r0 = np.arange(.05,100.,0.005)*var.au\n",
    "T0 = np.zeros_like(r0)\n",
    "dg0 = np.zeros_like(r0)\n",
    "ds0 = np.zeros_like(r0)\n",
    "dtg0 = np.zeros_like(r0)\n",
    "\n",
    "ch0 = np.zeros([len(r0),2,13])\n",
    "C_g0 = np.zeros_like(r0)\n",
    "C_d0 = np.zeros_like(r0)\n",
    "O_g0 = np.zeros_like(r0)\n",
    "O_d0 = np.zeros_like(r0)\n",
    "\n",
    "\n",
    "\n",
    "for i in range(len(r0)):\n",
    "    T0[i] = dsk.tempr(r0[i])\n",
    "    dg0[i],ds0[i] = dsk.dens_r(r0[i])\n",
    "    dtg0[i] = dsk.dTg\n",
    "    chm.chem(T0[i])\n",
    "    ch0[i,0] = chm.gas\n",
    "    ch0[i,1] =chm.sld\n"
   ]
  },
  {
   "cell_type": "markdown",
   "metadata": {},
   "source": [
    "## Plots"
   ]
  },
  {
   "cell_type": "code",
   "execution_count": 4,
   "metadata": {},
   "outputs": [],
   "source": [
    "#metalicity of the disk\n",
    "ch = np.add(ch0[:,0],ch0[:,1])\n",
    "mt = np.zeros_like(r0)\n",
    "for i in range(len(r0)):\n",
    "    mt[i] = chm.metalicity_d(ch0[i,0])\n",
    "\n",
    "    \n",
    "#Plot the metallicity\n",
    "fig, ax1 = plt.subplots()\n",
    "color = 'tab:red'\n",
    "ax1.step(r0/var.au,mt, color=color, label = ' Metallicity (Gas) ', linewidth = 4.0)\n",
    "\n",
    "\n",
    "#Axis\n",
    "plt.title('Metallicity of the disk in the gas phase')\n",
    "ax1.tick_params(size=5,width=2)\n",
    "ax1.set_xlabel(r'distance [AU]')\n",
    "ax1.set_ylabel(r'metallicity')\n",
    "plt.xscale('log')\n",
    "plt.legend()\n",
    "plt.show()"
   ]
  },
  {
   "cell_type": "code",
   "execution_count": 5,
   "metadata": {},
   "outputs": [],
   "source": [
    "#Temperature\n",
    "fig, ax1 = plt.subplots()\n",
    "ax1.plot(r0/var.au,T0, linewidth = 4.0)\n",
    "\n",
    "\n",
    "#Axis\n",
    "ax1.tick_params(size=5,width=2)\n",
    "ax1.set_xlabel(r'Distance [AU]')\n",
    "ax1.set_ylabel(r'Temperature [K]')\n",
    "#plt.xscale('log')\n",
    "plt.yscale('log')\n",
    "plt.show()"
   ]
  },
  {
   "cell_type": "code",
   "execution_count": 6,
   "metadata": {},
   "outputs": [
    {
     "name": "stderr",
     "output_type": "stream",
     "text": [
      "<ipython-input-6-70e546e30d56>:7: RuntimeWarning: invalid value encountered in true_divide\n",
      "  ax1.step(r0/var.au,ch0[:,0,3]/ch0[:,0,5], color=color, label = ' C/O (Gas) ', linewidth = 4.0)\n",
      "<ipython-input-6-70e546e30d56>:11: RuntimeWarning: invalid value encountered in true_divide\n",
      "  ax1.step(r0/var.au,ch0[:,1,3]/ch0[:,1,5]  ,color=color, label = ' C/O (Solid) ', linewidth = 4.0 )\n"
     ]
    }
   ],
   "source": [
    "#C/O ratio\n",
    "\n",
    "fig, ax1 = plt.subplots()\n",
    "\n",
    "#Plot the gas C/O\n",
    "color = 'tab:red'\n",
    "ax1.step(r0/var.au,ch0[:,0,3]/ch0[:,0,5], color=color, label = ' C/O (Gas) ', linewidth = 4.0)\n",
    "\n",
    "#Plot the solid C/O\n",
    "color = 'tab:blue'\n",
    "ax1.step(r0/var.au,ch0[:,1,3]/ch0[:,1,5]  ,color=color, label = ' C/O (Solid) ', linewidth = 4.0 )\n",
    "\n",
    "#Plot the icelines:\n",
    "plt.text(0.18,0.6, 1)\n",
    "plt.text(0.27,0.71, 2)\n",
    "plt.text(0.42,0.71, 3)\n",
    "plt.text(0.8,0.71, 4)\n",
    "plt.text(3,0.7, 5)\n",
    "plt.text(10,0.87, 6)\n",
    "plt.text(35,0.98, 7)\n",
    "\n",
    "\n",
    "#Axis\n",
    "ax1.tick_params(size=5,width=2)\n",
    "ax1.set_xlabel(r'distance [AU]', fontsize = fsize)\n",
    "ax1.set_ylabel(r'c/o', fontsize = fsize)\n",
    "ax1.tick_params(size=7,width=5)\n",
    "plt.xscale('log')\n",
    "plt.legend()\n",
    "plt.show()"
   ]
  },
  {
   "cell_type": "code",
   "execution_count": 7,
   "metadata": {},
   "outputs": [
    {
     "name": "stderr",
     "output_type": "stream",
     "text": [
      "findfont: Font family ['normal'] not found. Falling back to DejaVu Sans.\n",
      "findfont: Font family ['normal'] not found. Falling back to DejaVu Sans.\n",
      "findfont: Font family ['normal'] not found. Falling back to DejaVu Sans.\n"
     ]
    }
   ],
   "source": [
    "#Gas solid density and gas density\n",
    "fig, ax1 = plt.subplots()\n",
    "\n",
    "#gas density\n",
    "color = 'tab:blue'\n",
    "ax1.plot(r0/var.au, dg0/10 ,color=color, label = r'Gas Density', linewidth = 4.0)\n",
    "\n",
    "#Dust density\n",
    "color = 'tab:red'\n",
    "ax1.plot(r0/var.au, ds0/10,color=color,label = r'Solid Density', linewidth = 4.0)\n",
    "\n",
    "#axis\n",
    "ax1.tick_params(size=5,width=2)\n",
    "ax1.set_xlabel(r'Distance [AU]',fontsize = fsize)\n",
    "ax1.set_ylabel(r'Density[gr/m$^2$]',fontsize = fsize)\n",
    "plt.yscale('log')\n",
    "plt.xscale('log')\n",
    "plt.legend()\n",
    "plt.show()"
   ]
  },
  {
   "cell_type": "code",
   "execution_count": 8,
   "metadata": {},
   "outputs": [],
   "source": [
    "#dust to gas ratio vs. Distance\n",
    "fig, ax1 = plt.subplots()\n",
    "\n",
    "color = 'tab:blue'\n",
    "ax1.plot(r0/var.au, dtg0 ,color=color, linewidth = 4.0)\n",
    "\n",
    "ax1.tick_params(size=5,width=2)\n",
    "ax1.set_xlabel(r'Distance [AU]')\n",
    "ax1.set_ylabel(r'Dust to Gas Ratio')\n",
    "plt.xscale('log')\n",
    "plt.show()"
   ]
  },
  {
   "cell_type": "code",
   "execution_count": 9,
   "metadata": {},
   "outputs": [],
   "source": [
    "#dust to gas ratio vs. Temperature\n",
    "fig, ax1 = plt.subplots()\n",
    "\n",
    "color = 'tab:blue'\n",
    "ax1.plot(T0, dtg0 ,color=color, linewidth = 4.0)\n",
    "\n",
    "ax1.tick_params(size=5,width=2)\n",
    "ax1.set_xlabel(r'Temperature [k]')\n",
    "ax1.set_ylabel(r'Dust to Gas Ratio')\n",
    "plt.xscale('log')\n",
    "plt.show()"
   ]
  },
  {
   "cell_type": "code",
   "execution_count": 10,
   "metadata": {},
   "outputs": [],
   "source": [
    "#Dust to gas ratio vs distance and temperature, Colours are showing the regions between the ice lines\n",
    "fig = plt.figure()\n",
    "ax1 = fig.add_subplot(111)\n",
    "ax2 = ax1.twiny()\n",
    "\n",
    "\n",
    "plt.tick_params(size=5,width=2)\n",
    "x = r\n",
    "y = dtg\n",
    "z = [\"%.1f\" % z for z in T]\n",
    "ax1.set_xlim(r[0],r[-1])\n",
    "\n",
    "\n",
    "ax1.step(x,y,where = 'post',linewidth=4.0)\n",
    "ax1.set_xlabel(r'Distance[AU]',fontsize = fsize)\n",
    "ax1.set_ylabel(r'Dust to Gas Ratio',fontsize = fsize)\n",
    "ax1.set_xscale('log')\n",
    "plt.xscale('log')\n",
    "\n",
    "ax2.set_xlim(ax1.get_xlim())\n",
    "ax2.set_xticks(x)\n",
    "ax2.set_xticklabels(z)\n",
    "ax2.set_xlabel(r'Temperature[K]',fontsize = fsize)\n",
    "\n",
    "#Set background colour:\n",
    "ax2.axvspan(0, r[9], facecolor='cyan', alpha=0.1)\n",
    "ax2.axvspan(r[9], r[10], facecolor='k', alpha=0.1)\n",
    "ax2.axvspan(r[10], r[11], facecolor='r', alpha=0.1)\n",
    "ax2.axvspan(r[11], r[12], facecolor='b', alpha=0.1)\n",
    "\n",
    "plt.show()"
   ]
  },
  {
   "cell_type": "markdown",
   "metadata": {},
   "source": [
    "## Planetesimal mass"
   ]
  },
  {
   "cell_type": "code",
   "execution_count": 11,
   "metadata": {},
   "outputs": [],
   "source": [
    "r_p = np.arange(0.05,50,0.05)*var.au\n",
    "M_p = np.zeros_like(r_p)\n",
    "M_p0= np.zeros_like(r_p)\n",
    "for i in range(len(r_p)-1):\n",
    "    dsk.evolve(r_p[i])\n",
    "      \n",
    "    dens = dsk.dns*dsk.dTg\n",
    "    d_mig =(r_p[i+1]**2 - r_p[i]**2) * np.pi\n",
    "    M_p0[i+1] =dens*d_mig\n",
    "    M_p[i+1]=M_p[i]+M_p0[i+1]\n",
    "            "
   ]
  },
  {
   "cell_type": "code",
   "execution_count": 12,
   "metadata": {},
   "outputs": [
    {
     "data": {
      "text/plain": [
       "<matplotlib.collections.LineCollection at 0x7fa3f019a910>"
      ]
     },
     "execution_count": 12,
     "metadata": {},
     "output_type": "execute_result"
    }
   ],
   "source": [
    "fig = plt.figure()\n",
    "ax1 = fig.add_subplot(111)\n",
    "#ax2 = ax1.twiny()\n",
    "r_ice = dsk.r_arr[4:]\n",
    "ax1.plot(r_p/var.au,M_p/(var.M_earth),linewidth = 4.0)\n",
    "\n",
    "\n",
    "ax1.set_xlabel(r'Distance [AU]',fontsize = fsize,fontweight = 'bold')\n",
    "ax1.set_title(r'Maximum Accreted Planetesimal Mas [M$_{Earth}$]',fontsize = fsize,fontweight = 'bold')\n",
    "ax1.set_ylim(-10,38)\n",
    "ax1.set_xlim(-5,55)\n",
    "ax1.vlines(x=r_ice[-1]/var.au,ymin=-16,ymax=116,color='black',linestyles='dashed')\n",
    "ax1.vlines(x=r_ice[-2]/var.au,ymin=-16,ymax=116,color='black',linestyles='dashed')\n",
    "ax1.vlines(x=r_ice[-3]/var.au,ymin=-16,ymax=116,color='black',linestyles='dashed')\n",
    "\n",
    "ax1.vlines(x=8.5,ymin=-16.0,ymax=1.49,linestyles='dashdot',color = 'black',linewidth = 3.0)\n",
    "ax1.vlines(x=29.3,ymin=-16.0,ymax=12.49,linestyles='dashdot',color = 'black',linewidth = 3.0)\n",
    "\n",
    "\n",
    "ax1.hlines(y=1.495,xmin=-16.0,xmax=8.5,linestyles='dashdot',color = 'black',linewidth = 3.0)\n",
    "ax1.hlines(y=12.5,xmin=-16.0,xmax=29.3,linestyles='dashdot',color = 'black',linewidth = 3.0)\n",
    "\n",
    "\n",
    "#plt.yscale('log')\n",
    "#plt.xscale('log')"
   ]
  }
 ],
 "metadata": {
  "kernelspec": {
   "display_name": "Python 3",
   "language": "python",
   "name": "python3"
  },
  "language_info": {
   "codemirror_mode": {
    "name": "ipython",
    "version": 3
   },
   "file_extension": ".py",
   "mimetype": "text/x-python",
   "name": "python",
   "nbconvert_exporter": "python",
   "pygments_lexer": "ipython3",
   "version": "3.8.5"
  }
 },
 "nbformat": 4,
 "nbformat_minor": 4
}
