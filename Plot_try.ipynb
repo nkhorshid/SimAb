{
 "cells": [
  {
   "cell_type": "code",
   "execution_count": null,
   "metadata": {},
   "outputs": [],
   "source": [
    "import numpy as np\n",
    "import matplotlib.pyplot as plt"
   ]
  },
  {
   "cell_type": "code",
   "execution_count": null,
   "metadata": {
    "scrolled": true
   },
   "outputs": [],
   "source": [
    "T = np.array([1600,1550,1500,1450,1400,1350,1300,1250,1200,1150,1100,1050,1000,950,900,850,800,750,700,650,600,\n",
    "              550,500,450,400,350,300,250,200,150,100,50,0])\n",
    "\n",
    "O = np.array([490000000,489893500,489893500,489893500,489893500,489893500,489893500,488615500,466389100,403678900,\n",
    "              403678900,403678900,403678900,403678900,403678900,387838900,387838900,387838900,387838900,387838900,\n",
    "              387838900,387838900,387838900,387838900,387838900,387838900,387838900,387838900,387838900,387838900,\n",
    "              244500000,244500000,0])\n",
    "\n",
    "C = np.array([2.69E+08,2.69E+08,2.69E+08,2.69E+08,2.69E+08,2.69E+08,2.69E+08,2.69E+08,2.69E+08,2.69E+08,2.69E+08,\n",
    "              2.69E+08,2.69E+08,2.69E+08,2.69E+08,2.69E+08,2.69E+08,2.69E+08,2.69E+08,2.69E+08,2.69E+08,2.69E+08,\n",
    "              244500000,244500000,244500000,244500000,244500000,244500000,244500000,244500000,244500000,244500000,0])\n",
    "\n",
    "\n",
    "rat = C/O\n",
    "print rat\n",
    "%matplotlib qt\n",
    "plt.figure()\n",
    "plt.plot(T,rat,linewidth = 5)\n",
    "#plt.plot(T,rat,'r')\n"
   ]
  },
  {
   "cell_type": "code",
   "execution_count": null,
   "metadata": {},
   "outputs": [],
   "source": [
    "mname= 'trans_HAT-P-7b_T_500'\n",
    "hmlc = np.loadtxt(mname, skiprows = 1)\n",
    "lam = hmlc[:,0]\n",
    "R_p = hmlc[:,1]\n",
    "print lam.shape, R_p.shape"
   ]
  },
  {
   "cell_type": "code",
   "execution_count": null,
   "metadata": {},
   "outputs": [],
   "source": [
    "%matplotlib qt\n",
    "plt.figure()\n",
    "plt.plot(lam,R_p,linewidth = 3)\n",
    "#plt.yscale('log')\n",
    "plt.xscale('log')\n"
   ]
  }
 ],
 "metadata": {
  "kernelspec": {
   "display_name": "Python 3",
   "language": "python",
   "name": "python3"
  },
  "language_info": {
   "codemirror_mode": {
    "name": "ipython",
    "version": 3
   },
   "file_extension": ".py",
   "mimetype": "text/x-python",
   "name": "python",
   "nbconvert_exporter": "python",
   "pygments_lexer": "ipython3",
   "version": "3.8.5"
  }
 },
 "nbformat": 4,
 "nbformat_minor": 2
}
