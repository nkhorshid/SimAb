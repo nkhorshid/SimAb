{
 "cells": [
  {
   "cell_type": "code",
   "execution_count": 1,
   "metadata": {},
   "outputs": [],
   "source": [
    "import numpy as np\n",
    "import matplotlib.pyplot as plt\n",
    "import variable as var\n",
    "from disk import Disk\n",
    "from chem import Chem\n",
    "import matplotlib.pylab as pylab\n",
    "import matplotlib.axes as ax\n",
    "\n",
    "\n",
    "from scipy.stats import spearmanr\n",
    "%matplotlib qt\n",
    "dsk = Disk()\n",
    "chm = Chem()\n",
    "font = {'family' : 'normal',\n",
    "        'weight' : 'bold',\n",
    "        'size'   : 45}\n",
    "\n",
    "pylab.rc('font', **font)"
   ]
  },
  {
   "cell_type": "code",
   "execution_count": 2,
   "metadata": {},
   "outputs": [],
   "source": [
    "#functions:\n",
    "def scatter(x,y,z,xlabel = '',ylabel='',clabel = '',title = ''):\n",
    "    fig, ax = plt.subplots()\n",
    "    #plt.figure(figsize=(15,8))\n",
    "    im = ax.scatter(x,y,c=z, s = 10)\n",
    "    #,norm=matplotlib.colors.LogNorm())\n",
    "    ax.set_xlabel(xlabel, fontsize = 45,fontweight = 'bold')\n",
    "    ax.set_ylabel(ylabel, fontsize = 45,fontweight = 'bold')\n",
    "    plt.title(title, fontsize=45, fontweight = 'bold')\n",
    "    ax.tick_params(size=7,width=5)\n",
    "    #ax1.set_xlabel(r'distance [AU]')\n",
    "    #ax1.set_ylabel(r'c/o')\n",
    "    cb = plt.colorbar(im)\n",
    "    #cb.set_label(label= clabel,weight='bold', size = 35)\n",
    "    #, orientation=\"horizontal\")\n",
    "    #plt.show()\n",
    "\n",
    "def plot(x,y,xlabel = '',ylabel='',title = ''):\n",
    "    plt.figure()\n",
    "    plt.plot(x,y,'.')\n",
    "    plt.xlabel(xlabel)\n",
    "    plt.ylabel(ylabel)\n",
    "    plt.title(title)\n",
    "    #plt.show()\n"
   ]
  },
  {
   "cell_type": "code",
   "execution_count": 3,
   "metadata": {},
   "outputs": [],
   "source": [
    "#Inputs:\n",
    "name0 = 12"
   ]
  },
  {
   "cell_type": "code",
   "execution_count": 4,
   "metadata": {},
   "outputs": [],
   "source": [
    "#Load data:\n",
    "name_s = 'input/N_Atom.txt'\n",
    "solar = np.loadtxt(name_s,dtype= str)[0:, 5].astype(float)\n",
    "\n",
    "doc0 = 'Output/run_sum'+str(name0)+'.txt'\n",
    "\n",
    "dat0 = np.loadtxt(doc0, dtype = str, skiprows = 1)[0:,1:].astype(float)"
   ]
  },
  {
   "cell_type": "code",
   "execution_count": 5,
   "metadata": {},
   "outputs": [],
   "source": [
    "name_s = 'input/N_Atom.txt'\n",
    "atm = np.loadtxt(name_s,dtype= str)\n",
    "solar = atm[0:, 5].astype(float)\n",
    "atm_m= atm[0:, 6].astype(float)"
   ]
  },
  {
   "cell_type": "code",
   "execution_count": 15,
   "metadata": {},
   "outputs": [
    {
     "name": "stdout",
     "output_type": "stream",
     "text": [
      "1.0\n",
      "[8.51e+10 1.82e+03 2.69e+08 6.76e+07 4.90e+08 1.86e+06 3.98e+07 2.82e+06\n",
      " 3.24e+07 1.41e+07 1.20e+05 3.16e+07]\n"
     ]
    }
   ],
   "source": [
    "print (np.log10(10))\n",
    "print (solar[1:])"
   ]
  },
  {
   "cell_type": "code",
   "execution_count": 6,
   "metadata": {},
   "outputs": [
    {
     "name": "stdout",
     "output_type": "stream",
     "text": [
      "0.08604930182 0.00094930182 0.0008748519214818911 0.0017508701260045638\n"
     ]
    }
   ],
   "source": [
    "s_mtl0=(np.sum(solar[1:])/np.sum(solar[0:1])) #all over hydrogen\n",
    "s_mtl1=(np.sum(solar[2:])/np.sum(solar[0:1])) #all but helium over hydrogen\n",
    "s_mtl2=(np.sum(solar[2:])/np.sum(solar[0:2])) #all but helium over hydrogen and helium\n",
    "s_mtl=((solar[12])*55.845/(solar[0]*1.0079)) #Iron mass over hydrogen mass\n",
    "\n",
    "print (s_mtl0,s_mtl1,s_mtl2,s_mtl)"
   ]
  },
  {
   "cell_type": "code",
   "execution_count": 7,
   "metadata": {},
   "outputs": [
    {
     "name": "stdout",
     "output_type": "stream",
     "text": [
      "-1.0652526490662464 -3.0225956864970493 -3.0580654499783315\n"
     ]
    }
   ],
   "source": [
    "s_mtl0_10=np.log10(np.sum(solar[1:])/np.sum(solar[0:1])) #all over hydrogen\n",
    "s_mtl1_10=np.log10(np.sum(solar[2:])/np.sum(solar[0:1])) #all but helium over hydrogen\n",
    "s_mtl2_10=np.log10(np.sum(solar[2:])/np.sum(solar[0:2])) #all over hydrogen and helium\n",
    "\n",
    "print (s_mtl0_10,s_mtl1_10,s_mtl2_10)"
   ]
  },
  {
   "cell_type": "code",
   "execution_count": 47,
   "metadata": {},
   "outputs": [
    {
     "name": "stdout",
     "output_type": "stream",
     "text": [
      "(100000, 13)\n"
     ]
    }
   ],
   "source": [
    "print (np.shape(dat0[:,8:-1]))"
   ]
  },
  {
   "cell_type": "code",
   "execution_count": 52,
   "metadata": {},
   "outputs": [
    {
     "name": "stdout",
     "output_type": "stream",
     "text": [
      "(100000, 13)\n"
     ]
    }
   ],
   "source": [
    "x=np.shape(dat0[:,8])[0]\n",
    "y=np.shape(solar)[0]\n",
    "dat = np.zeros([x,y])\n",
    "abn=dat0[:,8:-1]*solar\n",
    "print(np.shape(abn))"
   ]
  },
  {
   "cell_type": "code",
   "execution_count": 59,
   "metadata": {},
   "outputs": [],
   "source": [
    "metl0 = np.zeros([x])\n",
    "metl1 = np.zeros([x])\n",
    "metl2 = np.zeros([x])\n",
    "\n",
    "mets0_10 = np.zeros([x])\n",
    "mets1_10 = np.zeros([x])\n",
    "mets2_10 = np.zeros([x])\n",
    "\n",
    "mets0_e = np.zeros([x])\n",
    "mets1_e = np.zeros([x])\n",
    "mets2_e = np.zeros([x])\n"
   ]
  },
  {
   "cell_type": "code",
   "execution_count": 61,
   "metadata": {},
   "outputs": [
    {
     "name": "stdout",
     "output_type": "stream",
     "text": [
      "(100000,)\n"
     ]
    }
   ],
   "source": [
    "metl0= np.divide(np.sum(abn[:,1:],axis=1),np.sum(abn[:,0:1],axis=1)) #all over hydrogen\n",
    "metl1= np.divide(np.sum(abn[:,2:],axis=1),np.sum(abn[:,0:1],axis=1)) #all but helium over hydrogen\n",
    "metl2= np.divide(np.sum(abn[:,2:],axis=1),np.sum(abn[:,0:2],axis=1)) #all over hydrogen and helium\n",
    "print (np.shape(metl0))"
   ]
  },
  {
   "cell_type": "code",
   "execution_count": 62,
   "metadata": {},
   "outputs": [
    {
     "name": "stdout",
     "output_type": "stream",
     "text": [
      "[-0.00073072  0.03121575  0.02523153 ... -0.00144915  0.09582821\n",
      "  0.04269175]\n"
     ]
    }
   ],
   "source": [
    "mets0_10 = np.log10(np.divide(metl0,s_mtl0))\n",
    "mets1_10 = np.log10(np.divide(metl1,s_mtl1))\n",
    "mets2_10 = np.log10(np.divide(metl2,s_mtl2))\n",
    "\n",
    "mets0_e = np.log(np.divide(metl0,s_mtl0))\n",
    "mets1_e = np.log(np.divide(metl1,s_mtl1))\n",
    "mets2_e = np.log(np.divide(metl2,s_mtl2))\n",
    "\n",
    "#print(mets0_10)"
   ]
  },
  {
   "cell_type": "code",
   "execution_count": 67,
   "metadata": {},
   "outputs": [],
   "source": [
    "#Overview plot data\n",
    "%matplotlib qt\n",
    "\n",
    "plt.figure()\n",
    "\n",
    "#plt.plot(dat0[:,7],'.')\n",
    "plt.plot(mets2_10,'.')\n",
    "plt.plot(mets1_10,'.')\n",
    "plt.plot(mets0_10,'.')\n",
    "\n",
    "\n",
    "\n",
    "\n",
    "plt.xlabel('Metalicity')\n",
    "plt.ylabel('C/O')\n",
    "plt.show()"
   ]
  },
  {
   "cell_type": "code",
   "execution_count": 68,
   "metadata": {},
   "outputs": [],
   "source": [
    "#Overview plot data\n",
    "%matplotlib qt\n",
    "\n",
    "plt.figure()\n",
    "\n",
    "plt.plot(mets2_e,'.')\n",
    "plt.plot(mets1_e,'.')\n",
    "plt.plot(mets0_e,'.')\n",
    "plt.plot(dat0[:,7],'.')\n",
    "\n",
    "\n",
    "\n",
    "\n",
    "\n",
    "\n",
    "plt.xlabel('Metalicity')\n",
    "plt.ylabel('C/O')\n",
    "plt.show()"
   ]
  }
 ],
 "metadata": {
  "kernelspec": {
   "display_name": "Python 3",
   "language": "python",
   "name": "python3"
  },
  "language_info": {
   "codemirror_mode": {
    "name": "ipython",
    "version": 3
   },
   "file_extension": ".py",
   "mimetype": "text/x-python",
   "name": "python",
   "nbconvert_exporter": "python",
   "pygments_lexer": "ipython3",
   "version": "3.7.11"
  }
 },
 "nbformat": 4,
 "nbformat_minor": 4
}
